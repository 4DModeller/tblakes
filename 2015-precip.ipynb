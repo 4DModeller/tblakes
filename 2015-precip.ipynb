{
 "cells": [
  {
   "cell_type": "code",
   "execution_count": 2,
   "id": "f454762f-c863-4509-bda0-1521670b66c3",
   "metadata": {},
   "outputs": [],
   "source": [
    "%matplotlib inline\n",
    "import matplotlib.pyplot as plt\n",
    "import numpy as np\n",
    "import pandas as pd\n",
    "import xarray as xr"
   ]
  },
  {
   "cell_type": "code",
   "execution_count": 3,
   "id": "35a5dc9d-7aa3-4739-a359-78a69a29745b",
   "metadata": {},
   "outputs": [],
   "source": [
    "def get_precip_data_for_year(data_path, shapes):\n",
    "    dataset = xr.open_dataset(data_path)\n",
    "    \n",
    "    sums = []\n",
    "    \n",
    "    for index, shape in shapes.iterrows():\n",
    "        # Extract the geometry\n",
    "        geom = shape.geometry\n",
    "\n",
    "        # Select the data from the NetCDF file using the geometry\n",
    "        # because \\nearest\\ method is used, even if there is no data\n",
    "        # , it will calculate an average for data nearest to it\n",
    "        # this makes it appear like there is data for areas where there is none (e.g., in Japan).\n",
    "        # TODO : needs to label whether a shape is part of tibetan plateau or not\n",
    "        data = dataset.sel(longitude=geom.centroid.x, latitude=geom.centroid.y, method='nearest')\n",
    "        # data = dataset.sel(longitude=geom.centroid.x, latitude=geom.centroid.y, method=None)\n",
    "\n",
    "        # Calculate the sum of the data\n",
    "        # data_sum = data.sum()\n",
    "        data_sum = data.sum()['tp'].values\n",
    "\n",
    "        # Append the sum to the list\n",
    "        sums.append(data_sum)\n",
    "        \n",
    "    return sums\n"
   ]
  },
  {
   "cell_type": "code",
   "execution_count": null,
   "id": "5f386e7a-4543-4af0-b0df-2a557874b908",
   "metadata": {},
   "outputs": [],
   "source": []
  }
 ],
 "metadata": {
  "kernelspec": {
   "display_name": "Python 3 (ipykernel)",
   "language": "python",
   "name": "python3"
  },
  "language_info": {
   "codemirror_mode": {
    "name": "ipython",
    "version": 3
   },
   "file_extension": ".py",
   "mimetype": "text/x-python",
   "name": "python",
   "nbconvert_exporter": "python",
   "pygments_lexer": "ipython3",
   "version": "3.8.16"
  }
 },
 "nbformat": 4,
 "nbformat_minor": 5
}
