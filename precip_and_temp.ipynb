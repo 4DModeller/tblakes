{
 "cells": [
  {
   "cell_type": "code",
   "execution_count": 1,
   "id": "ac090fee-5fdc-4939-9149-ec968ef29475",
   "metadata": {},
   "outputs": [
    {
     "data": {
      "text/html": [
       "<p>To authorize access needed by Earth Engine, open the following\n",
       "        URL in a web browser and follow the instructions:</p>\n",
       "        <p><a href=https://code.earthengine.google.com/client-auth?scopes=https%3A//www.googleapis.com/auth/earthengine%20https%3A//www.googleapis.com/auth/devstorage.full_control&request_id=ATgKhCcfhP7lCP-6v5rXNcMzN41tRSCYgbNIaXEtDZU&tc=7FZ9XxushPW7ES0V0ezmBGc4tno8xj_WXm25qhCn5i4&cc=emqrpOntbwf8aOK-YqExA-lWB-iHhPf9z1GwILxMqUo>https://code.earthengine.google.com/client-auth?scopes=https%3A//www.googleapis.com/auth/earthengine%20https%3A//www.googleapis.com/auth/devstorage.full_control&request_id=ATgKhCcfhP7lCP-6v5rXNcMzN41tRSCYgbNIaXEtDZU&tc=7FZ9XxushPW7ES0V0ezmBGc4tno8xj_WXm25qhCn5i4&cc=emqrpOntbwf8aOK-YqExA-lWB-iHhPf9z1GwILxMqUo</a></p>\n",
       "        <p>The authorization workflow will generate a code, which you should paste in the box below.</p>\n",
       "        "
      ],
      "text/plain": [
       "<IPython.core.display.HTML object>"
      ]
     },
     "metadata": {},
     "output_type": "display_data"
    },
    {
     "name": "stdin",
     "output_type": "stream",
     "text": [
      "Enter verification code:  4/1AfJohXkTgBd0kN2HNU1MYYrp6auCGT6r_K8utWK7WMCezWS3pMs7-mw5MqM\n"
     ]
    },
    {
     "name": "stdout",
     "output_type": "stream",
     "text": [
      "\n",
      "Successfully saved authorization token.\n"
     ]
    }
   ],
   "source": [
    "import ee\n",
    "\n",
    "ee.Authenticate()\n",
    "\n",
    "ee.Initialize()"
   ]
  },
  {
   "cell_type": "code",
   "execution_count": 2,
   "id": "cf8aacfc-3e73-4000-bffb-1f8d0f533dc9",
   "metadata": {},
   "outputs": [],
   "source": [
    "# Define the corners of the large ROI\n",
    "top_left = (70, 45)\n",
    "bottom_right = (110, 23)\n",
    "\n",
    "# Define the grid size\n",
    "cols = 5  # Number of columns\n",
    "rows = 4  # Number of rows\n",
    "\n",
    "# Calculate the step size for each grid cell\n",
    "width_step = (bottom_right[0] - top_left[0]) / cols\n",
    "height_step = (top_left[1] - bottom_right[1]) / rows"
   ]
  },
  {
   "cell_type": "code",
   "execution_count": 3,
   "id": "fc107c50-cf87-4d1a-8403-269b5e59166c",
   "metadata": {},
   "outputs": [],
   "source": [
    "def create_grid(top_left, bottom_right, width_step, height_step, cols, rows):\n",
    "    grid = []\n",
    "    for i in range(cols):\n",
    "        for j in range(rows):\n",
    "            # Calculate corners of the cell\n",
    "            left = top_left[0] + i * width_step\n",
    "            right = left + width_step\n",
    "            top = top_left[1] - j * height_step\n",
    "            bottom = top - height_step\n",
    "\n",
    "            # Create a rectangle for this cell\n",
    "            cell = ee.Geometry.Rectangle([left, bottom, right, top])\n",
    "            grid.append(cell)\n",
    "    return grid\n",
    "\n",
    "grid = create_grid(top_left, bottom_right, width_step, height_step, cols, rows)\n"
   ]
  },
  {
   "cell_type": "code",
   "execution_count": 4,
   "id": "6ca854ab-968d-4fb8-996e-08de1eff519b",
   "metadata": {},
   "outputs": [],
   "source": [
    "era5_land_temp = ee.ImageCollection(\"ECMWF/ERA5_LAND/HOURLY\").select('temperature_2m')\n",
    "era5_land_precip = ee.ImageCollection(\"ECMWF/ERA5_LAND/HOURLY\").select('total_precipitation')\n",
    "\n",
    "filtered_temp = era5_land_temp.filterDate('2012-01-01', '2013-12-31')\n",
    "filtered_precip = era5_land_precip.filterDate('2012-01-01', '2013-12-31')\n"
   ]
  },
  {
   "cell_type": "code",
   "execution_count": null,
   "id": "6223181a-f3eb-4be2-850f-c70d7e7eb716",
   "metadata": {},
   "outputs": [],
   "source": [
    "for i, cell in enumerate(grid):\n",
    "    for year in range(2012, 2014):\n",
    "        # Temperature\n",
    "        temp_image = filtered_temp.filter(ee.Filter.calendarRange(year, year, 'year')).mean().clip(cell)\n",
    "        temp_task = ee.batch.Export.image.toDrive(**{\n",
    "            'image': temp_image,\n",
    "            'description': f'Temperature_{year}_Section_{i}',\n",
    "            'folder': 'EarthEngineData',\n",
    "            'scale': 9000,  # ERA5-Land native resolution\n",
    "            'region': cell,\n",
    "            'fileFormat': 'GeoTIFF'\n",
    "        })\n",
    "        temp_task.start()\n",
    "\n",
    "        # Precipitation\n",
    "        precip_image = filtered_precip.filter(ee.Filter.calendarRange(year, year, 'year')).sum().clip(cell)\n",
    "        precip_task = ee.batch.Export.image.toDrive(**{\n",
    "            'image': precip_image,\n",
    "            'description': f'Precipitation_{year}_Section_{i}',\n",
    "            'folder': 'EarthEngineData',\n",
    "            'scale': 9000,  # ERA5-Land native resolution\n",
    "            'region': cell,\n",
    "            'fileFormat': 'GeoTIFF'\n",
    "        })\n",
    "        precip_task.start()\n"
   ]
  },
  {
   "cell_type": "code",
   "execution_count": null,
   "id": "cd428e5c-4f81-42ce-87ff-f1a86ef6af86",
   "metadata": {},
   "outputs": [],
   "source": []
  }
 ],
 "metadata": {
  "kernelspec": {
   "display_name": "Python 3 (ipykernel)",
   "language": "python",
   "name": "python3"
  },
  "language_info": {
   "codemirror_mode": {
    "name": "ipython",
    "version": 3
   },
   "file_extension": ".py",
   "mimetype": "text/x-python",
   "name": "python",
   "nbconvert_exporter": "python",
   "pygments_lexer": "ipython3",
   "version": "3.8.16"
  }
 },
 "nbformat": 4,
 "nbformat_minor": 5
}
