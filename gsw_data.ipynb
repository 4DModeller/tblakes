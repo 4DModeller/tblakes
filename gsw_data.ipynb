{
 "cells": [
  {
   "cell_type": "code",
   "execution_count": 1,
   "id": "8124ee33-2688-4428-a5a2-f14b65651336",
   "metadata": {},
   "outputs": [],
   "source": [
    "import folium\n",
    "import pandas as pd"
   ]
  },
  {
   "cell_type": "code",
   "execution_count": 2,
   "id": "d030be06-ee7b-4bb2-9925-dd6f70a75437",
   "metadata": {},
   "outputs": [
    {
     "data": {
      "text/html": [
       "<p>To authorize access needed by Earth Engine, open the following\n",
       "        URL in a web browser and follow the instructions:</p>\n",
       "        <p><a href=https://code.earthengine.google.com/client-auth?scopes=https%3A//www.googleapis.com/auth/earthengine%20https%3A//www.googleapis.com/auth/devstorage.full_control&request_id=tdO0ZxG_Tli9qxnvG_vbGzvaCQQvlrE4aa03oY5lVMQ&tc=Of_-7bo0ydQZRRPcZMUnjxTqOBY8ecK0doMSlEd97a0&cc=ZFoW3x6NJOuixraR3iq9dCuMJ0zb2v2aFzGktPjHBW4>https://code.earthengine.google.com/client-auth?scopes=https%3A//www.googleapis.com/auth/earthengine%20https%3A//www.googleapis.com/auth/devstorage.full_control&request_id=tdO0ZxG_Tli9qxnvG_vbGzvaCQQvlrE4aa03oY5lVMQ&tc=Of_-7bo0ydQZRRPcZMUnjxTqOBY8ecK0doMSlEd97a0&cc=ZFoW3x6NJOuixraR3iq9dCuMJ0zb2v2aFzGktPjHBW4</a></p>\n",
       "        <p>The authorization workflow will generate a code, which you should paste in the box below.</p>\n",
       "        "
      ],
      "text/plain": [
       "<IPython.core.display.HTML object>"
      ]
     },
     "metadata": {},
     "output_type": "display_data"
    },
    {
     "name": "stdin",
     "output_type": "stream",
     "text": [
      "Enter verification code:  4/1AfJohXn2wVgTWgiVa2xvfE8SDqSdbbZJS9N9yRjHM6W4Uv1BL0fDglQJWVs\n"
     ]
    },
    {
     "name": "stdout",
     "output_type": "stream",
     "text": [
      "\n",
      "Successfully saved authorization token.\n"
     ]
    }
   ],
   "source": [
    "import ee\n",
    "\n",
    "# Trigger the authentication flow.\n",
    "ee.Authenticate()\n",
    "\n",
    "# Initialize the library.\n",
    "ee.Initialize()"
   ]
  },
  {
   "cell_type": "code",
   "execution_count": 3,
   "id": "838cbde3-c7ee-491e-ad42-04fa5e06a779",
   "metadata": {},
   "outputs": [
    {
     "name": "stdout",
     "output_type": "stream",
     "text": [
      "gsw monthly: ee.ImageCollection({\n",
      "  \"functionInvocationValue\": {\n",
      "    \"functionName\": \"ImageCollection.load\",\n",
      "    \"arguments\": {\n",
      "      \"id\": {\n",
      "        \"constantValue\": \"JRC/GSW1_4/MonthlyHistory\"\n",
      "      }\n",
      "    }\n",
      "  }\n",
      "})\n"
     ]
    }
   ],
   "source": [
    "# Load the ImageCollection\n",
    "gsw_monthly = ee.ImageCollection('JRC/GSW1_4/MonthlyHistory')\n",
    "# print('gsw monthly:', gsw_monthly)"
   ]
  },
  {
   "cell_type": "code",
   "execution_count": 4,
   "id": "a94b98be-ffb3-4ae6-979c-024d6a68dc2c",
   "metadata": {},
   "outputs": [],
   "source": [
    "# Function to calculate monthly max values within each year\n",
    "yearlist = ee.List.sequence(2012, 2017)\n",
    "reducer = ee.Reducer.max()"
   ]
  },
  {
   "cell_type": "code",
   "execution_count": 5,
   "id": "964b9536-6665-45e7-a91f-151f87493a3d",
   "metadata": {},
   "outputs": [],
   "source": [
    "# Function to create annual composites\n",
    "def create_yearly_composite(year):\n",
    "    year = ee.Number(year)\n",
    "    yearCol = gsw_monthly.filter(ee.Filter.calendarRange(year, year, 'year'))\n",
    "    yearMax = yearCol.reduce(reducer)\n",
    "\n",
    "    imgList = yearCol.aggregate_array('system:index')\n",
    "    n_img = imgList.size()\n",
    "    nBands = yearMax.bandNames().size()\n",
    "\n",
    "    return yearMax.set({\n",
    "        'year': year,\n",
    "        'image_list': imgList,\n",
    "        'n_bands': nBands,\n",
    "        'n_img': n_img,\n",
    "        'method': 'max value',\n",
    "        'system:time_start': year\n",
    "    })"
   ]
  },
  {
   "cell_type": "code",
   "execution_count": 6,
   "id": "5b0baf6f-8a7e-4f15-b1e8-258950b27247",
   "metadata": {},
   "outputs": [],
   "source": [
    "yearCompList = yearlist.map(create_yearly_composite)\n"
   ]
  },
  {
   "cell_type": "code",
   "execution_count": 7,
   "id": "635da578-a1c9-4517-9955-599a1f6ddc88",
   "metadata": {
    "scrolled": true,
    "tags": []
   },
   "outputs": [],
   "source": [
    "# Convert the annual composite image list to an ImageCollection\n",
    "annual_max_water = ee.ImageCollection.fromImages(yearCompList).filter(ee.Filter.gt('n_bands', 0))\n",
    "# print('annual_max_water', annual_max_water)\n",
    "\n",
    "# Convert to list\n",
    "annual_list = annual_max_water.toList(annual_max_water.size())\n",
    "# print('annual_list', annual_list)"
   ]
  },
  {
   "cell_type": "code",
   "execution_count": 8,
   "id": "425424c4-1996-4308-8645-bc10772b1882",
   "metadata": {},
   "outputs": [],
   "source": [
    "# Function to calculate the difference between two images\n",
    "def difference(img1, img2):\n",
    "    def mask_only_water(img):\n",
    "        return img.updateMask(img.eq(2)).multiply(0).add(1).unmask(0)\n",
    "\n",
    "    img1_mask = mask_only_water(img1)\n",
    "    img2_mask = mask_only_water(img2)\n",
    "\n",
    "    diff = img2_mask.subtract(img1_mask).copyProperties(img1_mask, ['max value', 'n_img', 'system:time_start', 'year'])\n",
    "    img_diff = ee.Image(diff)\n",
    "    return img_diff"
   ]
  },
  {
   "cell_type": "code",
   "execution_count": 9,
   "id": "0548a543-d459-4a1a-86d0-8147a1c22faa",
   "metadata": {
    "scrolled": true,
    "tags": []
   },
   "outputs": [],
   "source": [
    "year1L = 2012\n",
    "year2L = 2013\n",
    "\n",
    "imgtest1 = ee.Image(annual_list.get(year1L - 2012))\n",
    "# print(imgtest1)\n",
    "imgtest2 = ee.Image(annual_list.get(year2L - 2012))\n",
    "\n",
    "diff = difference(imgtest1, imgtest2)\n",
    "# print(diff)"
   ]
  },
  {
   "cell_type": "code",
   "execution_count": 10,
   "id": "ed5d4bd2-a812-447b-a6a7-6c625a7f982b",
   "metadata": {},
   "outputs": [
    {
     "name": "stdout",
     "output_type": "stream",
     "text": [
      "Requirement already satisfied: folium in /opt/homebrew/anaconda3/envs/tblakes/lib/python3.8/site-packages (0.14.0)\n",
      "Requirement already satisfied: requests in /opt/homebrew/anaconda3/envs/tblakes/lib/python3.8/site-packages (from folium) (2.28.1)\n",
      "Requirement already satisfied: jinja2>=2.9 in /opt/homebrew/anaconda3/envs/tblakes/lib/python3.8/site-packages (from folium) (3.1.2)\n",
      "Requirement already satisfied: branca>=0.6.0 in /opt/homebrew/anaconda3/envs/tblakes/lib/python3.8/site-packages (from folium) (0.6.0)\n",
      "Requirement already satisfied: numpy in /opt/homebrew/anaconda3/envs/tblakes/lib/python3.8/site-packages (from folium) (1.23.5)\n",
      "Requirement already satisfied: MarkupSafe>=2.0 in /opt/homebrew/anaconda3/envs/tblakes/lib/python3.8/site-packages (from jinja2>=2.9->folium) (2.1.1)\n",
      "Requirement already satisfied: urllib3<1.27,>=1.21.1 in /opt/homebrew/anaconda3/envs/tblakes/lib/python3.8/site-packages (from requests->folium) (1.26.14)\n",
      "Requirement already satisfied: charset-normalizer<3,>=2 in /opt/homebrew/anaconda3/envs/tblakes/lib/python3.8/site-packages (from requests->folium) (2.0.4)\n",
      "Requirement already satisfied: certifi>=2017.4.17 in /opt/homebrew/anaconda3/envs/tblakes/lib/python3.8/site-packages (from requests->folium) (2022.12.7)\n",
      "Requirement already satisfied: idna<4,>=2.5 in /opt/homebrew/anaconda3/envs/tblakes/lib/python3.8/site-packages (from requests->folium) (3.4)\n"
     ]
    }
   ],
   "source": [
    "!pip install folium"
   ]
  },
  {
   "cell_type": "code",
   "execution_count": 11,
   "id": "6027ac70-7d74-4235-a8a3-d902e95d5e96",
   "metadata": {},
   "outputs": [
    {
     "data": {
      "text/html": [
       "<div style=\"width:100%;\"><div style=\"position:relative;width:100%;height:0;padding-bottom:60%;\"><span style=\"color:#565656\">Make this Notebook Trusted to load map: File -> Trust Notebook</span><iframe srcdoc=\"&lt;!DOCTYPE html&gt;\n",
       "&lt;html&gt;\n",
       "&lt;head&gt;\n",
       "    \n",
       "    &lt;meta http-equiv=&quot;content-type&quot; content=&quot;text/html; charset=UTF-8&quot; /&gt;\n",
       "    \n",
       "        &lt;script&gt;\n",
       "            L_NO_TOUCH = false;\n",
       "            L_DISABLE_3D = false;\n",
       "        &lt;/script&gt;\n",
       "    \n",
       "    &lt;style&gt;html, body {width: 100%;height: 100%;margin: 0;padding: 0;}&lt;/style&gt;\n",
       "    &lt;style&gt;#map {position:absolute;top:0;bottom:0;right:0;left:0;}&lt;/style&gt;\n",
       "    &lt;script src=&quot;https://cdn.jsdelivr.net/npm/leaflet@1.9.3/dist/leaflet.js&quot;&gt;&lt;/script&gt;\n",
       "    &lt;script src=&quot;https://code.jquery.com/jquery-1.12.4.min.js&quot;&gt;&lt;/script&gt;\n",
       "    &lt;script src=&quot;https://cdn.jsdelivr.net/npm/bootstrap@5.2.2/dist/js/bootstrap.bundle.min.js&quot;&gt;&lt;/script&gt;\n",
       "    &lt;script src=&quot;https://cdnjs.cloudflare.com/ajax/libs/Leaflet.awesome-markers/2.0.2/leaflet.awesome-markers.js&quot;&gt;&lt;/script&gt;\n",
       "    &lt;link rel=&quot;stylesheet&quot; href=&quot;https://cdn.jsdelivr.net/npm/leaflet@1.9.3/dist/leaflet.css&quot;/&gt;\n",
       "    &lt;link rel=&quot;stylesheet&quot; href=&quot;https://cdn.jsdelivr.net/npm/bootstrap@5.2.2/dist/css/bootstrap.min.css&quot;/&gt;\n",
       "    &lt;link rel=&quot;stylesheet&quot; href=&quot;https://netdna.bootstrapcdn.com/bootstrap/3.0.0/css/bootstrap.min.css&quot;/&gt;\n",
       "    &lt;link rel=&quot;stylesheet&quot; href=&quot;https://cdn.jsdelivr.net/npm/@fortawesome/fontawesome-free@6.2.0/css/all.min.css&quot;/&gt;\n",
       "    &lt;link rel=&quot;stylesheet&quot; href=&quot;https://cdnjs.cloudflare.com/ajax/libs/Leaflet.awesome-markers/2.0.2/leaflet.awesome-markers.css&quot;/&gt;\n",
       "    &lt;link rel=&quot;stylesheet&quot; href=&quot;https://cdn.jsdelivr.net/gh/python-visualization/folium/folium/templates/leaflet.awesome.rotate.min.css&quot;/&gt;\n",
       "    \n",
       "            &lt;meta name=&quot;viewport&quot; content=&quot;width=device-width,\n",
       "                initial-scale=1.0, maximum-scale=1.0, user-scalable=no&quot; /&gt;\n",
       "            &lt;style&gt;\n",
       "                #map_745048c3a85213f6236a31dedf48e179 {\n",
       "                    position: relative;\n",
       "                    width: 100.0%;\n",
       "                    height: 100.0%;\n",
       "                    left: 0.0%;\n",
       "                    top: 0.0%;\n",
       "                }\n",
       "                .leaflet-container { font-size: 1rem; }\n",
       "            &lt;/style&gt;\n",
       "        \n",
       "&lt;/head&gt;\n",
       "&lt;body&gt;\n",
       "    \n",
       "    \n",
       "            &lt;div class=&quot;folium-map&quot; id=&quot;map_745048c3a85213f6236a31dedf48e179&quot; &gt;&lt;/div&gt;\n",
       "        \n",
       "&lt;/body&gt;\n",
       "&lt;script&gt;\n",
       "    \n",
       "    \n",
       "            var map_745048c3a85213f6236a31dedf48e179 = L.map(\n",
       "                &quot;map_745048c3a85213f6236a31dedf48e179&quot;,\n",
       "                {\n",
       "                    center: [40.7128, -74.006],\n",
       "                    crs: L.CRS.EPSG3857,\n",
       "                    zoom: 6,\n",
       "                    zoomControl: true,\n",
       "                    preferCanvas: false,\n",
       "                }\n",
       "            );\n",
       "\n",
       "            \n",
       "\n",
       "        \n",
       "    \n",
       "            var tile_layer_a43c9ffd496408f687f192c1cc67839e = L.tileLayer(\n",
       "                &quot;https://{s}.tile.openstreetmap.org/{z}/{x}/{y}.png&quot;,\n",
       "                {&quot;attribution&quot;: &quot;Data by \\u0026copy; \\u003ca target=\\&quot;_blank\\&quot; href=\\&quot;http://openstreetmap.org\\&quot;\\u003eOpenStreetMap\\u003c/a\\u003e, under \\u003ca target=\\&quot;_blank\\&quot; href=\\&quot;http://www.openstreetmap.org/copyright\\&quot;\\u003eODbL\\u003c/a\\u003e.&quot;, &quot;detectRetina&quot;: false, &quot;maxNativeZoom&quot;: 18, &quot;maxZoom&quot;: 18, &quot;minZoom&quot;: 0, &quot;noWrap&quot;: false, &quot;opacity&quot;: 1, &quot;subdomains&quot;: &quot;abc&quot;, &quot;tms&quot;: false}\n",
       "            ).addTo(map_745048c3a85213f6236a31dedf48e179);\n",
       "        \n",
       "    \n",
       "            var tile_layer_3ccd5cf05213b0910433572fbfa9ee31 = L.tileLayer(\n",
       "                &quot;https://earthengine.googleapis.com/v1alpha/projects/earthengine-legacy/maps/54be10125e831b508d14ecc3d9957cd4-2b7af16ca3705ebc8cb65651615da610/tiles/{z}/{x}/{y}&quot;,\n",
       "                {&quot;attribution&quot;: &quot;Map Data \\u0026copy; \\u003ca href=\\&quot;https://earthengine.google.com/\\&quot;\\u003eGoogle Earth Engine\\u003c/a\\u003e&quot;, &quot;detectRetina&quot;: false, &quot;maxNativeZoom&quot;: 18, &quot;maxZoom&quot;: 18, &quot;minZoom&quot;: 0, &quot;noWrap&quot;: false, &quot;opacity&quot;: 1, &quot;subdomains&quot;: &quot;abc&quot;, &quot;tms&quot;: false}\n",
       "            ).addTo(map_745048c3a85213f6236a31dedf48e179);\n",
       "        \n",
       "    \n",
       "            var layer_control_27076549bcc2058dacd0d748ef5dd38d = {\n",
       "                base_layers : {\n",
       "                    &quot;openstreetmap&quot; : tile_layer_a43c9ffd496408f687f192c1cc67839e,\n",
       "                },\n",
       "                overlays :  {\n",
       "                    &quot;difference&quot; : tile_layer_3ccd5cf05213b0910433572fbfa9ee31,\n",
       "                },\n",
       "            };\n",
       "            L.control.layers(\n",
       "                layer_control_27076549bcc2058dacd0d748ef5dd38d.base_layers,\n",
       "                layer_control_27076549bcc2058dacd0d748ef5dd38d.overlays,\n",
       "                {&quot;autoZIndex&quot;: true, &quot;collapsed&quot;: true, &quot;position&quot;: &quot;topright&quot;}\n",
       "            ).addTo(map_745048c3a85213f6236a31dedf48e179);\n",
       "        \n",
       "&lt;/script&gt;\n",
       "&lt;/html&gt;\" style=\"position:absolute;width:100%;height:100%;left:0;top:0;border:none !important;\" allowfullscreen webkitallowfullscreen mozallowfullscreen></iframe></div></div>"
      ],
      "text/plain": [
       "<folium.folium.Map at 0x11eb0fa60>"
      ]
     },
     "execution_count": 11,
     "metadata": {},
     "output_type": "execute_result"
    }
   ],
   "source": [
    "# Set visualization parameters.\n",
    "vis_params = {\n",
    "    'min': -1,\n",
    "    'max': 1,\n",
    "    'palette': ['red', 'blue', 'green']\n",
    "}\n",
    "\n",
    "# Create a folium map object.\n",
    "center = [40.7128, -74.0060]  # Example: New York City's latitude and longitude.\n",
    "m = folium.Map(location=center, zoom_start=6)\n",
    "\n",
    "# Add the layer to the map.\n",
    "diff_layer = ee.Image(diff).visualize(**vis_params)\n",
    "map_id_dict = ee.Image(diff_layer).getMapId()\n",
    "folium.TileLayer(\n",
    "    tiles=map_id_dict['tile_fetcher'].url_format,\n",
    "    attr='Map Data &copy; <a href=\"https://earthengine.google.com/\">Google Earth Engine</a>',\n",
    "    overlay=True,\n",
    "    name='difference',\n",
    ").add_to(m)\n",
    "\n",
    "# Add a layer control panel to the map.\n",
    "folium.LayerControl().add_to(m)\n",
    "\n",
    "# Display the map.\n",
    "m"
   ]
  },
  {
   "cell_type": "code",
   "execution_count": 12,
   "id": "209c76da-cf15-4f50-9636-b9608155ff72",
   "metadata": {},
   "outputs": [],
   "source": [
    "# import ee\n",
    "# ee.Initialize()\n",
    "\n",
    "# Define the corners of the large ROI\n",
    "top_left = (70, 45)\n",
    "bottom_right = (110, 23)\n",
    "\n",
    "# Define the grid size\n",
    "cols = 5  # Number of columns\n",
    "rows = 4  # Number of rows\n",
    "\n",
    "# Calculate the step size for each grid cell\n",
    "width_step = (bottom_right[0] - top_left[0]) / cols\n",
    "height_step = (top_left[1] - bottom_right[1]) / rows\n"
   ]
  },
  {
   "cell_type": "code",
   "execution_count": 13,
   "id": "b0a10dcd-07ba-4f5e-b01a-c828d577d053",
   "metadata": {},
   "outputs": [],
   "source": [
    "def create_grid(top_left, bottom_right, width_step, height_step, cols, rows):\n",
    "    grid = []\n",
    "    for i in range(cols):\n",
    "        for j in range(rows):\n",
    "            # Calculate corners of the cell\n",
    "            left = top_left[0] + i * width_step\n",
    "            right = left + width_step\n",
    "            top = top_left[1] - j * height_step\n",
    "            bottom = top - height_step\n",
    "\n",
    "            # Create a rectangle for this cell\n",
    "            cell = ee.Geometry.Rectangle([left, bottom, right, top])\n",
    "            grid.append(cell)\n",
    "    return grid\n",
    "\n",
    "grid = create_grid(top_left, bottom_right, width_step, height_step, cols, rows)\n"
   ]
  },
  {
   "cell_type": "code",
   "execution_count": null,
   "id": "f7b9357c-ee53-4711-b51c-0817bf966ead",
   "metadata": {},
   "outputs": [],
   "source": [
    "for i, section in enumerate(grid):\n",
    "    task = ee.batch.Export.image.toDrive(**{\n",
    "        'image': diff,  # Replace with your 'difference' image\n",
    "        # 'description': f'High_Mountain_Asia_Difference_Section_{i}',\n",
    "        'description': f'Difference_2012_Section_{i}',\n",
    "        'folder': 'EarthEngineData',\n",
    "        'scale': 30,  # Adjust as necessary\n",
    "        'region': section,\n",
    "        'fileFormat': 'GeoTIFF',\n",
    "        'maxPixels': 1e13\n",
    "    })\n",
    "    task.start()\n"
   ]
  },
  {
   "cell_type": "code",
   "execution_count": null,
   "id": "74065cfe-1fb9-498a-acc7-d8f1d72672b3",
   "metadata": {},
   "outputs": [],
   "source": []
  },
  {
   "cell_type": "code",
   "execution_count": null,
   "id": "46254619-f02b-40a3-a907-28d5f9ef98e1",
   "metadata": {},
   "outputs": [],
   "source": []
  },
  {
   "cell_type": "code",
   "execution_count": null,
   "id": "058b7510-430e-422e-a256-561effa66c71",
   "metadata": {},
   "outputs": [],
   "source": []
  }
 ],
 "metadata": {
  "kernelspec": {
   "display_name": "Python 3 (ipykernel)",
   "language": "python",
   "name": "python3"
  },
  "language_info": {
   "codemirror_mode": {
    "name": "ipython",
    "version": 3
   },
   "file_extension": ".py",
   "mimetype": "text/x-python",
   "name": "python",
   "nbconvert_exporter": "python",
   "pygments_lexer": "ipython3",
   "version": "3.8.16"
  }
 },
 "nbformat": 4,
 "nbformat_minor": 5
}
