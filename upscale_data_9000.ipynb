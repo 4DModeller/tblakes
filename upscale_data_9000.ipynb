{
 "cells": [
  {
   "cell_type": "code",
   "execution_count": 1,
   "id": "871a2595-f8f6-47ac-912e-0c75d3e83094",
   "metadata": {},
   "outputs": [
    {
     "data": {
      "text/html": [
       "<p>To authorize access needed by Earth Engine, open the following\n",
       "        URL in a web browser and follow the instructions:</p>\n",
       "        <p><a href=https://code.earthengine.google.com/client-auth?scopes=https%3A//www.googleapis.com/auth/earthengine%20https%3A//www.googleapis.com/auth/devstorage.full_control&request_id=0XDK2pct-IDJXxuVcWfnamX1ohnPQ-HsWTLvuazX9WE&tc=JVhF6vQNFkGB6FwH-qZTYYtwYwuWbTpkkME8cedddWs&cc=ZFnlBDnMu_pcQCUJJMcyrhV8HSscE7B0TNrC4xUqdHY>https://code.earthengine.google.com/client-auth?scopes=https%3A//www.googleapis.com/auth/earthengine%20https%3A//www.googleapis.com/auth/devstorage.full_control&request_id=0XDK2pct-IDJXxuVcWfnamX1ohnPQ-HsWTLvuazX9WE&tc=JVhF6vQNFkGB6FwH-qZTYYtwYwuWbTpkkME8cedddWs&cc=ZFnlBDnMu_pcQCUJJMcyrhV8HSscE7B0TNrC4xUqdHY</a></p>\n",
       "        <p>The authorization workflow will generate a code, which you should paste in the box below.</p>\n",
       "        "
      ],
      "text/plain": [
       "<IPython.core.display.HTML object>"
      ]
     },
     "metadata": {},
     "output_type": "display_data"
    },
    {
     "name": "stdin",
     "output_type": "stream",
     "text": [
      "Enter verification code:  4/1AfJohXn4vNtDTppJwXXX1CL5Z8TBlkFO7kw81SxmpRn3BXlVs5iwyb9V1Vk\n"
     ]
    },
    {
     "name": "stdout",
     "output_type": "stream",
     "text": [
      "\n",
      "Successfully saved authorization token.\n"
     ]
    }
   ],
   "source": [
    "import ee\n",
    "\n",
    "# Trigger the authentication flow.\n",
    "ee.Authenticate()\n",
    "\n",
    "# Initialize the library.\n",
    "ee.Initialize()"
   ]
  },
  {
   "cell_type": "code",
   "execution_count": 45,
   "id": "bc120844-3cb4-4f32-abb9-959613ed73e9",
   "metadata": {},
   "outputs": [],
   "source": [
    "# Define the corners of the large ROI\n",
    "top_left = (70, 45)\n",
    "bottom_right = (110, 23)\n",
    "\n",
    "# Define the grid size\n",
    "cols = 5  # Number of columns\n",
    "rows = 4  # Number of rows\n",
    "\n",
    "# Calculate the step size for each grid cell\n",
    "width_step = (bottom_right[0] - top_left[0]) / cols\n",
    "height_step = (top_left[1] - bottom_right[1]) / rows\n"
   ]
  },
  {
   "cell_type": "code",
   "execution_count": 46,
   "id": "c9e0771f-99b4-447c-9f5d-1cd1ff3faca5",
   "metadata": {},
   "outputs": [
    {
     "data": {
      "text/plain": [
       "ee.Geometry({\n",
       "  \"functionInvocationValue\": {\n",
       "    \"functionName\": \"GeometryConstructors.Polygon\",\n",
       "    \"arguments\": {\n",
       "      \"coordinates\": {\n",
       "        \"constantValue\": [\n",
       "          [\n",
       "            [\n",
       "              70.0,\n",
       "              45.0\n",
       "            ],\n",
       "            [\n",
       "              70.0,\n",
       "              39.5\n",
       "            ],\n",
       "            [\n",
       "              78.0,\n",
       "              39.5\n",
       "            ],\n",
       "            [\n",
       "              78.0,\n",
       "              45.0\n",
       "            ]\n",
       "          ]\n",
       "        ]\n",
       "      },\n",
       "      \"evenOdd\": {\n",
       "        \"constantValue\": true\n",
       "      }\n",
       "    }\n",
       "  }\n",
       "})"
      ]
     },
     "execution_count": 46,
     "metadata": {},
     "output_type": "execute_result"
    }
   ],
   "source": [
    "def create_grid(top_left, bottom_right, width_step, height_step, cols, rows):\n",
    "    grid = []\n",
    "    for i in range(cols):\n",
    "        for j in range(rows):\n",
    "            # Calculate corners of the cell\n",
    "            left = top_left[0] + i * width_step\n",
    "            right = left + width_step\n",
    "            top = top_left[1] - j * height_step\n",
    "            bottom = top - height_step\n",
    "\n",
    "            # Create a rectangle for this cell\n",
    "            cell = ee.Geometry.Rectangle([left, bottom, right, top])\n",
    "            grid.append(cell)\n",
    "    return grid\n",
    "\n",
    "grid = create_grid(top_left, bottom_right, width_step, height_step, cols, rows)\n",
    "grid[0]"
   ]
  },
  {
   "cell_type": "code",
   "execution_count": 47,
   "id": "6d090c4d-e452-4801-87e3-bfad36c84bb8",
   "metadata": {},
   "outputs": [],
   "source": [
    "gsw_monthly = ee.ImageCollection('JRC/GSW1_4/MonthlyHistory')\n",
    "yearlist = ee.List.sequence(2012, 2013)\n",
    "reducer = ee.Reducer.max()\n",
    "\n",
    "def create_yearly_composite(year):\n",
    "    year = ee.Number(year)\n",
    "    yearCol = gsw_monthly.filter(ee.Filter.calendarRange(year, year, 'year'))\n",
    "    yearMax = yearCol.reduce(reducer)\n",
    "\n",
    "    imgList = yearCol.aggregate_array('system:index')\n",
    "    n_img = imgList.size()\n",
    "    nBands = yearMax.bandNames().size()\n",
    "\n",
    "    return yearMax.set({\n",
    "        'year': year,\n",
    "        'image_list': imgList,\n",
    "        'n_bands': nBands,\n",
    "        'n_img': n_img,\n",
    "        'method': 'max value',\n",
    "        'system:time_start': year\n",
    "    })\n",
    "\n",
    "yearCompList = yearlist.map(create_yearly_composite)\n",
    "annual_max_water = ee.ImageCollection.fromImages(yearCompList).filter(ee.Filter.gt('n_bands', 0))\n",
    "annual_list = annual_max_water.toList(annual_max_water.size())\n",
    "\n",
    "# Function to calculate the difference between two images\n",
    "def difference(img1, img2):\n",
    "    def mask_only_water(img):\n",
    "        return img.updateMask(img.eq(2)).multiply(0).add(1).unmask(0)\n",
    "\n",
    "    img1_mask = mask_only_water(img1)\n",
    "    img2_mask = mask_only_water(img2)\n",
    "\n",
    "    diff = img2_mask.subtract(img1_mask).copyProperties(img1_mask, ['max value', 'n_img', 'system:time_start', 'year'])\n",
    "    img_diff = ee.Image(diff)\n",
    "    return img_diff\n",
    "\n",
    "year1L = 2012\n",
    "year2L = 2013\n",
    "\n",
    "imgtest1 = ee.Image(annual_list.get(year1L - 2012))\n",
    "# print(imgtest1)\n",
    "imgtest2 = ee.Image(annual_list.get(year2L - 2012))\n",
    "\n",
    "diff = difference(imgtest1, imgtest2)"
   ]
  },
  {
   "cell_type": "code",
   "execution_count": 48,
   "id": "a22900a7-5063-40c6-88f3-85aedfe733b7",
   "metadata": {},
   "outputs": [],
   "source": [
    "# # def create_subgrid(region, dx, dy):\n",
    "# #     grid = []\n",
    "# #     start = region.coordinates().get(0).get(0)\n",
    "# #     end = region.coordinates().get(0).get(2)\n",
    "\n",
    "# #     lon_start = start.get(0)\n",
    "# #     lat_start = start.get(1)\n",
    "# #     lon_end = end.get(0)\n",
    "# #     lat_end = end.get(1)\n",
    "\n",
    "# #     current_lon = lon_start\n",
    "# #     while current_lon.add(dx).getInfo() <= lon_end.getInfo():\n",
    "# #         current_lat = lat_start\n",
    "# #         while current_lat.add(dy).getInfo() <= lat_end.getInfo():\n",
    "# #             square = ee.Geometry.Rectangle([current_lon.getInfo(), current_lat.getInfo(), current_lon.add(dx).getInfo(), current_lat.add(dy).getInfo()])\n",
    "# #             grid.append(square)\n",
    "# #             current_lat = current_lat.add(dy)\n",
    "# #         current_lon = current_lon.add(dx)\n",
    "\n",
    "# #     return grid\n",
    "\n",
    "# def create_subgrid(region, dx, dy):\n",
    "#     grid = []\n",
    "    \n",
    "#     # Convert the region to a list of coordinates\n",
    "#     # coords = ee.List(region.coordinates().get(0))\n",
    "#     coords = ee.List(region.coordinates())\n",
    "    \n",
    "#     # Extract the minimum and maximum coordinates\n",
    "#     lon_min = ee.Number(coords.get(0).get(0))\n",
    "#     lat_min = ee.Number(coords.get(0).get(1))\n",
    "#     lon_max = ee.Number(coords.get(2).get(0))\n",
    "#     lat_max = ee.Number(coords.get(2).get(1))\n",
    "\n",
    "#     # Create a sequence for longitude and latitude\n",
    "#     lons = ee.List.sequence(lon_min, lon_max, dx)\n",
    "#     lats = ee.List.sequence(lat_min, lat_max, dy)\n",
    "\n",
    "#     # Nested function to iterate over the coordinates\n",
    "#     def create_rects(lon, acc):\n",
    "#         def create_rect(lat):\n",
    "#             rect = ee.Geometry.Rectangle([lon, lat, lon.add(dx), lat.add(dy)])\n",
    "#             return ee.Feature(rect)\n",
    "        \n",
    "#         new_rects = lats.map(create_rect)\n",
    "#         return ee.List(acc).cat(new_rects)\n",
    "\n",
    "#     # Create the grid\n",
    "#     grid = lons.iterate(create_rects, ee.List([]))\n",
    "\n",
    "#     return ee.FeatureCollection(ee.List(grid))\n",
    "\n"
   ]
  },
  {
   "cell_type": "code",
   "execution_count": 59,
   "id": "d21c3285-3629-4c5a-8cd1-75595db3bfec",
   "metadata": {},
   "outputs": [
    {
     "data": {
      "text/plain": [
       "<ee.ee_number.Number at 0x179348160>"
      ]
     },
     "execution_count": 59,
     "metadata": {},
     "output_type": "execute_result"
    }
   ],
   "source": [
    "# ee.Number(grid[0].coordinates().get(9))"
   ]
  },
  {
   "cell_type": "code",
   "execution_count": 49,
   "id": "c52db0f9-202d-4ed3-880b-74f2f84a8803",
   "metadata": {},
   "outputs": [
    {
     "ename": "AttributeError",
     "evalue": "'ComputedObject' object has no attribute 'get'",
     "output_type": "error",
     "traceback": [
      "\u001b[0;31m---------------------------------------------------------------------------\u001b[0m",
      "\u001b[0;31mAttributeError\u001b[0m                            Traceback (most recent call last)",
      "Cell \u001b[0;32mIn[49], line 6\u001b[0m\n\u001b[1;32m      3\u001b[0m dy \u001b[38;5;241m=\u001b[39m ee\u001b[38;5;241m.\u001b[39mNumber(\u001b[38;5;241m9\u001b[39m \u001b[38;5;241m/\u001b[39m \u001b[38;5;241m111.113\u001b[39m)  \u001b[38;5;66;03m# Approximate conversion of latitude degrees to kilometers\u001b[39;00m\n\u001b[1;32m      5\u001b[0m \u001b[38;5;66;03m# Generate the grid\u001b[39;00m\n\u001b[0;32m----> 6\u001b[0m subgrid \u001b[38;5;241m=\u001b[39m \u001b[43mcreate_subgrid\u001b[49m\u001b[43m(\u001b[49m\u001b[43mregion\u001b[49m\u001b[38;5;241;43m=\u001b[39;49m\u001b[43mee\u001b[49m\u001b[38;5;241;43m.\u001b[39;49m\u001b[43mGeometry\u001b[49m\u001b[38;5;241;43m.\u001b[39;49m\u001b[43mRectangle\u001b[49m\u001b[43m(\u001b[49m\u001b[43m[\u001b[49m\u001b[38;5;241;43m70.0\u001b[39;49m\u001b[43m,\u001b[49m\u001b[43m \u001b[49m\u001b[38;5;241;43m39.5\u001b[39;49m\u001b[43m,\u001b[49m\u001b[43m \u001b[49m\u001b[38;5;241;43m78.0\u001b[39;49m\u001b[43m,\u001b[49m\u001b[43m \u001b[49m\u001b[38;5;241;43m45.0\u001b[39;49m\u001b[43m]\u001b[49m\u001b[43m)\u001b[49m\u001b[43m,\u001b[49m\u001b[43m \u001b[49m\u001b[43mdx\u001b[49m\u001b[38;5;241;43m=\u001b[39;49m\u001b[43mdx\u001b[49m\u001b[43m,\u001b[49m\u001b[43m \u001b[49m\u001b[43mdy\u001b[49m\u001b[38;5;241;43m=\u001b[39;49m\u001b[43mdy\u001b[49m\u001b[43m)\u001b[49m\n",
      "Cell \u001b[0;32mIn[48], line 29\u001b[0m, in \u001b[0;36mcreate_subgrid\u001b[0;34m(region, dx, dy)\u001b[0m\n\u001b[1;32m     26\u001b[0m coords \u001b[38;5;241m=\u001b[39m ee\u001b[38;5;241m.\u001b[39mList(region\u001b[38;5;241m.\u001b[39mcoordinates()\u001b[38;5;241m.\u001b[39mget(\u001b[38;5;241m0\u001b[39m))\n\u001b[1;32m     28\u001b[0m \u001b[38;5;66;03m# Extract the minimum and maximum coordinates\u001b[39;00m\n\u001b[0;32m---> 29\u001b[0m lon_min \u001b[38;5;241m=\u001b[39m ee\u001b[38;5;241m.\u001b[39mNumber(\u001b[43mcoords\u001b[49m\u001b[38;5;241;43m.\u001b[39;49m\u001b[43mget\u001b[49m\u001b[43m(\u001b[49m\u001b[38;5;241;43m0\u001b[39;49m\u001b[43m)\u001b[49m\u001b[38;5;241;43m.\u001b[39;49m\u001b[43mget\u001b[49m(\u001b[38;5;241m0\u001b[39m))\n\u001b[1;32m     30\u001b[0m lat_min \u001b[38;5;241m=\u001b[39m ee\u001b[38;5;241m.\u001b[39mNumber(coords\u001b[38;5;241m.\u001b[39mget(\u001b[38;5;241m0\u001b[39m)\u001b[38;5;241m.\u001b[39mget(\u001b[38;5;241m1\u001b[39m))\n\u001b[1;32m     31\u001b[0m lon_max \u001b[38;5;241m=\u001b[39m ee\u001b[38;5;241m.\u001b[39mNumber(coords\u001b[38;5;241m.\u001b[39mget(\u001b[38;5;241m2\u001b[39m)\u001b[38;5;241m.\u001b[39mget(\u001b[38;5;241m0\u001b[39m))\n",
      "\u001b[0;31mAttributeError\u001b[0m: 'ComputedObject' object has no attribute 'get'"
     ]
    }
   ],
   "source": [
    "# # Define the size of each grid cell (9 km x 9 km)\n",
    "# dx = ee.Number(9 / 111.113)  # Approximate conversion of longitude degrees to kilometers at the equator\n",
    "# dy = ee.Number(9 / 111.113)  # Approximate conversion of latitude degrees to kilometers\n",
    "\n",
    "# # Generate the grid\n",
    "# subgrid = create_subgrid(region=ee.Geometry.Rectangle([70.0, 39.5, 78.0, 45.0]), dx=dx, dy=dy)\n"
   ]
  },
  {
   "cell_type": "code",
   "execution_count": 41,
   "id": "ace2d520-57df-491c-8f94-691a9331ed29",
   "metadata": {},
   "outputs": [
    {
     "data": {
      "text/plain": [
       "list"
      ]
     },
     "execution_count": 41,
     "metadata": {},
     "output_type": "execute_result"
    }
   ],
   "source": [
    "# type(grid)"
   ]
  },
  {
   "cell_type": "code",
   "execution_count": 40,
   "id": "ad837407-0796-4696-87bc-a9263240ecf9",
   "metadata": {},
   "outputs": [
    {
     "ename": "EEException",
     "evalue": "A mapped function's arguments cannot be used in client-side operations",
     "output_type": "error",
     "traceback": [
      "\u001b[0;31m---------------------------------------------------------------------------\u001b[0m",
      "\u001b[0;31mEEException\u001b[0m                               Traceback (most recent call last)",
      "File \u001b[0;32m/opt/homebrew/anaconda3/envs/tblakes/lib/python3.8/site-packages/IPython/core/formatters.py:706\u001b[0m, in \u001b[0;36mPlainTextFormatter.__call__\u001b[0;34m(self, obj)\u001b[0m\n\u001b[1;32m    699\u001b[0m stream \u001b[38;5;241m=\u001b[39m StringIO()\n\u001b[1;32m    700\u001b[0m printer \u001b[38;5;241m=\u001b[39m pretty\u001b[38;5;241m.\u001b[39mRepresentationPrinter(stream, \u001b[38;5;28mself\u001b[39m\u001b[38;5;241m.\u001b[39mverbose,\n\u001b[1;32m    701\u001b[0m     \u001b[38;5;28mself\u001b[39m\u001b[38;5;241m.\u001b[39mmax_width, \u001b[38;5;28mself\u001b[39m\u001b[38;5;241m.\u001b[39mnewline,\n\u001b[1;32m    702\u001b[0m     max_seq_length\u001b[38;5;241m=\u001b[39m\u001b[38;5;28mself\u001b[39m\u001b[38;5;241m.\u001b[39mmax_seq_length,\n\u001b[1;32m    703\u001b[0m     singleton_pprinters\u001b[38;5;241m=\u001b[39m\u001b[38;5;28mself\u001b[39m\u001b[38;5;241m.\u001b[39msingleton_printers,\n\u001b[1;32m    704\u001b[0m     type_pprinters\u001b[38;5;241m=\u001b[39m\u001b[38;5;28mself\u001b[39m\u001b[38;5;241m.\u001b[39mtype_printers,\n\u001b[1;32m    705\u001b[0m     deferred_pprinters\u001b[38;5;241m=\u001b[39m\u001b[38;5;28mself\u001b[39m\u001b[38;5;241m.\u001b[39mdeferred_printers)\n\u001b[0;32m--> 706\u001b[0m \u001b[43mprinter\u001b[49m\u001b[38;5;241;43m.\u001b[39;49m\u001b[43mpretty\u001b[49m\u001b[43m(\u001b[49m\u001b[43mobj\u001b[49m\u001b[43m)\u001b[49m\n\u001b[1;32m    707\u001b[0m printer\u001b[38;5;241m.\u001b[39mflush()\n\u001b[1;32m    708\u001b[0m \u001b[38;5;28;01mreturn\u001b[39;00m stream\u001b[38;5;241m.\u001b[39mgetvalue()\n",
      "File \u001b[0;32m/opt/homebrew/anaconda3/envs/tblakes/lib/python3.8/site-packages/IPython/lib/pretty.py:410\u001b[0m, in \u001b[0;36mRepresentationPrinter.pretty\u001b[0;34m(self, obj)\u001b[0m\n\u001b[1;32m    407\u001b[0m                         \u001b[38;5;28;01mreturn\u001b[39;00m meth(obj, \u001b[38;5;28mself\u001b[39m, cycle)\n\u001b[1;32m    408\u001b[0m                 \u001b[38;5;28;01mif\u001b[39;00m \u001b[38;5;28mcls\u001b[39m \u001b[38;5;129;01mis\u001b[39;00m \u001b[38;5;129;01mnot\u001b[39;00m \u001b[38;5;28mobject\u001b[39m \\\n\u001b[1;32m    409\u001b[0m                         \u001b[38;5;129;01mand\u001b[39;00m callable(\u001b[38;5;28mcls\u001b[39m\u001b[38;5;241m.\u001b[39m\u001b[38;5;18m__dict__\u001b[39m\u001b[38;5;241m.\u001b[39mget(\u001b[38;5;124m'\u001b[39m\u001b[38;5;124m__repr__\u001b[39m\u001b[38;5;124m'\u001b[39m)):\n\u001b[0;32m--> 410\u001b[0m                     \u001b[38;5;28;01mreturn\u001b[39;00m \u001b[43m_repr_pprint\u001b[49m\u001b[43m(\u001b[49m\u001b[43mobj\u001b[49m\u001b[43m,\u001b[49m\u001b[43m \u001b[49m\u001b[38;5;28;43mself\u001b[39;49m\u001b[43m,\u001b[49m\u001b[43m \u001b[49m\u001b[43mcycle\u001b[49m\u001b[43m)\u001b[49m\n\u001b[1;32m    412\u001b[0m     \u001b[38;5;28;01mreturn\u001b[39;00m _default_pprint(obj, \u001b[38;5;28mself\u001b[39m, cycle)\n\u001b[1;32m    413\u001b[0m \u001b[38;5;28;01mfinally\u001b[39;00m:\n",
      "File \u001b[0;32m/opt/homebrew/anaconda3/envs/tblakes/lib/python3.8/site-packages/IPython/lib/pretty.py:778\u001b[0m, in \u001b[0;36m_repr_pprint\u001b[0;34m(obj, p, cycle)\u001b[0m\n\u001b[1;32m    776\u001b[0m \u001b[38;5;124;03m\"\"\"A pprint that just redirects to the normal repr function.\"\"\"\u001b[39;00m\n\u001b[1;32m    777\u001b[0m \u001b[38;5;66;03m# Find newlines and replace them with p.break_()\u001b[39;00m\n\u001b[0;32m--> 778\u001b[0m output \u001b[38;5;241m=\u001b[39m \u001b[38;5;28;43mrepr\u001b[39;49m\u001b[43m(\u001b[49m\u001b[43mobj\u001b[49m\u001b[43m)\u001b[49m\n\u001b[1;32m    779\u001b[0m lines \u001b[38;5;241m=\u001b[39m output\u001b[38;5;241m.\u001b[39msplitlines()\n\u001b[1;32m    780\u001b[0m \u001b[38;5;28;01mwith\u001b[39;00m p\u001b[38;5;241m.\u001b[39mgroup():\n",
      "File \u001b[0;32m/opt/homebrew/anaconda3/envs/tblakes/lib/python3.8/site-packages/ee/geometry.py:617\u001b[0m, in \u001b[0;36mGeometry.__repr__\u001b[0;34m(self)\u001b[0m\n\u001b[1;32m    616\u001b[0m \u001b[38;5;28;01mdef\u001b[39;00m \u001b[38;5;21m__repr__\u001b[39m(\u001b[38;5;28mself\u001b[39m):\n\u001b[0;32m--> 617\u001b[0m   \u001b[38;5;28;01mreturn\u001b[39;00m \u001b[38;5;28;43mself\u001b[39;49m\u001b[38;5;241;43m.\u001b[39;49m\u001b[38;5;21;43m__str__\u001b[39;49m\u001b[43m(\u001b[49m\u001b[43m)\u001b[49m\n",
      "File \u001b[0;32m/opt/homebrew/anaconda3/envs/tblakes/lib/python3.8/site-packages/ee/geometry.py:614\u001b[0m, in \u001b[0;36mGeometry.__str__\u001b[0;34m(self)\u001b[0m\n\u001b[1;32m    613\u001b[0m \u001b[38;5;28;01mdef\u001b[39;00m \u001b[38;5;21m__str__\u001b[39m(\u001b[38;5;28mself\u001b[39m):\n\u001b[0;32m--> 614\u001b[0m   \u001b[38;5;28;01mreturn\u001b[39;00m \u001b[38;5;124m'\u001b[39m\u001b[38;5;124mee.Geometry(\u001b[39m\u001b[38;5;132;01m%s\u001b[39;00m\u001b[38;5;124m)\u001b[39m\u001b[38;5;124m'\u001b[39m \u001b[38;5;241m%\u001b[39m \u001b[43mserializer\u001b[49m\u001b[38;5;241;43m.\u001b[39;49m\u001b[43mtoReadableJSON\u001b[49m\u001b[43m(\u001b[49m\u001b[38;5;28;43mself\u001b[39;49m\u001b[43m)\u001b[49m\n",
      "File \u001b[0;32m/opt/homebrew/anaconda3/envs/tblakes/lib/python3.8/site-packages/ee/serializer.py:318\u001b[0m, in \u001b[0;36mtoReadableJSON\u001b[0;34m(obj, for_cloud_api)\u001b[0m\n\u001b[1;32m    316\u001b[0m \u001b[38;5;28;01mdef\u001b[39;00m \u001b[38;5;21mtoReadableJSON\u001b[39m(obj, for_cloud_api\u001b[38;5;241m=\u001b[39m\u001b[38;5;28;01mTrue\u001b[39;00m):\n\u001b[1;32m    317\u001b[0m   \u001b[38;5;124;03m\"\"\"Convert an object to readable JSON.\"\"\"\u001b[39;00m\n\u001b[0;32m--> 318\u001b[0m   \u001b[38;5;28;01mreturn\u001b[39;00m \u001b[43mtoJSON\u001b[49m\u001b[43m(\u001b[49m\u001b[43mobj\u001b[49m\u001b[43m,\u001b[49m\u001b[43m \u001b[49m\u001b[38;5;28;43;01mTrue\u001b[39;49;00m\u001b[43m,\u001b[49m\u001b[43m \u001b[49m\u001b[43mfor_cloud_api\u001b[49m\u001b[38;5;241;43m=\u001b[39;49m\u001b[43mfor_cloud_api\u001b[49m\u001b[43m)\u001b[49m\n",
      "File \u001b[0;32m/opt/homebrew/anaconda3/envs/tblakes/lib/python3.8/site-packages/ee/serializer.py:312\u001b[0m, in \u001b[0;36mtoJSON\u001b[0;34m(obj, opt_pretty, for_cloud_api)\u001b[0m\n\u001b[1;32m    300\u001b[0m \u001b[38;5;124;03m\"\"\"Serialize an object to a JSON string appropriate for API calls.\u001b[39;00m\n\u001b[1;32m    301\u001b[0m \n\u001b[1;32m    302\u001b[0m \u001b[38;5;124;03mArgs:\u001b[39;00m\n\u001b[0;32m   (...)\u001b[0m\n\u001b[1;32m    309\u001b[0m \u001b[38;5;124;03m  A JSON string representing the input.\u001b[39;00m\n\u001b[1;32m    310\u001b[0m \u001b[38;5;124;03m\"\"\"\u001b[39;00m\n\u001b[1;32m    311\u001b[0m serializer \u001b[38;5;241m=\u001b[39m Serializer(\u001b[38;5;129;01mnot\u001b[39;00m opt_pretty, for_cloud_api\u001b[38;5;241m=\u001b[39mfor_cloud_api)\n\u001b[0;32m--> 312\u001b[0m encoded \u001b[38;5;241m=\u001b[39m \u001b[43mserializer\u001b[49m\u001b[38;5;241;43m.\u001b[39;49m\u001b[43m_encode\u001b[49m\u001b[43m(\u001b[49m\u001b[43mobj\u001b[49m\u001b[43m)\u001b[49m  \u001b[38;5;66;03m# pylint: disable=protected-access\u001b[39;00m\n\u001b[1;32m    313\u001b[0m \u001b[38;5;28;01mreturn\u001b[39;00m json\u001b[38;5;241m.\u001b[39mdumps(encoded, indent\u001b[38;5;241m=\u001b[39m\u001b[38;5;241m2\u001b[39m \u001b[38;5;28;01mif\u001b[39;00m opt_pretty \u001b[38;5;28;01melse\u001b[39;00m \u001b[38;5;28;01mNone\u001b[39;00m)\n",
      "File \u001b[0;32m/opt/homebrew/anaconda3/envs/tblakes/lib/python3.8/site-packages/ee/serializer.py:79\u001b[0m, in \u001b[0;36mSerializer._encode\u001b[0;34m(self, obj)\u001b[0m\n\u001b[1;32m     70\u001b[0m \u001b[38;5;124;03m\"\"\"Encodes a top level object to be executed server-side.\u001b[39;00m\n\u001b[1;32m     71\u001b[0m \n\u001b[1;32m     72\u001b[0m \u001b[38;5;124;03mArgs:\u001b[39;00m\n\u001b[0;32m   (...)\u001b[0m\n\u001b[1;32m     76\u001b[0m \u001b[38;5;124;03m  An encoded object ready for JSON serialization.\u001b[39;00m\n\u001b[1;32m     77\u001b[0m \u001b[38;5;124;03m\"\"\"\u001b[39;00m\n\u001b[1;32m     78\u001b[0m \u001b[38;5;28;01mif\u001b[39;00m \u001b[38;5;28mself\u001b[39m\u001b[38;5;241m.\u001b[39m_for_cloud_api:\n\u001b[0;32m---> 79\u001b[0m   \u001b[38;5;28;01mreturn\u001b[39;00m \u001b[38;5;28;43mself\u001b[39;49m\u001b[38;5;241;43m.\u001b[39;49m\u001b[43m_encode_for_cloud_api\u001b[49m\u001b[43m(\u001b[49m\u001b[43mobj\u001b[49m\u001b[43m)\u001b[49m\n\u001b[1;32m     80\u001b[0m value \u001b[38;5;241m=\u001b[39m \u001b[38;5;28mself\u001b[39m\u001b[38;5;241m.\u001b[39m_encode_value(obj)\n\u001b[1;32m     81\u001b[0m \u001b[38;5;28;01mif\u001b[39;00m \u001b[38;5;28mself\u001b[39m\u001b[38;5;241m.\u001b[39m_is_compound:\n",
      "File \u001b[0;32m/opt/homebrew/anaconda3/envs/tblakes/lib/python3.8/site-packages/ee/serializer.py:97\u001b[0m, in \u001b[0;36mSerializer._encode_for_cloud_api\u001b[0;34m(self, obj)\u001b[0m\n\u001b[1;32m     95\u001b[0m \u001b[38;5;28;01mdef\u001b[39;00m \u001b[38;5;21m_encode_for_cloud_api\u001b[39m(\u001b[38;5;28mself\u001b[39m, obj):\n\u001b[1;32m     96\u001b[0m   \u001b[38;5;124;03m\"\"\"Encodes an object as an Expression or quasi-Expression.\"\"\"\u001b[39;00m\n\u001b[0;32m---> 97\u001b[0m   value \u001b[38;5;241m=\u001b[39m \u001b[38;5;28;43mself\u001b[39;49m\u001b[38;5;241;43m.\u001b[39;49m\u001b[43m_encode_cloud_object\u001b[49m\u001b[43m(\u001b[49m\u001b[43mobj\u001b[49m\u001b[43m)\u001b[49m\n\u001b[1;32m     98\u001b[0m   \u001b[38;5;28;01mif\u001b[39;00m \u001b[38;5;28mself\u001b[39m\u001b[38;5;241m.\u001b[39m_is_compound:\n\u001b[1;32m     99\u001b[0m     \u001b[38;5;66;03m# Wrap the scopes and final value into an Expression.\u001b[39;00m\n\u001b[1;32m    100\u001b[0m     value \u001b[38;5;241m=\u001b[39m _ExpressionOptimizer(value, \u001b[38;5;28mself\u001b[39m\u001b[38;5;241m.\u001b[39m_scope)\u001b[38;5;241m.\u001b[39moptimize()\n",
      "File \u001b[0;32m/opt/homebrew/anaconda3/envs/tblakes/lib/python3.8/site-packages/ee/serializer.py:219\u001b[0m, in \u001b[0;36mSerializer._encode_cloud_object\u001b[0;34m(self, obj)\u001b[0m\n\u001b[1;32m    207\u001b[0m   result \u001b[38;5;241m=\u001b[39m {\n\u001b[1;32m    208\u001b[0m       \u001b[38;5;124m'\u001b[39m\u001b[38;5;124mfunctionInvocationValue\u001b[39m\u001b[38;5;124m'\u001b[39m: {\n\u001b[1;32m    209\u001b[0m           \u001b[38;5;124m'\u001b[39m\u001b[38;5;124mfunctionName\u001b[39m\u001b[38;5;124m'\u001b[39m: \u001b[38;5;124m'\u001b[39m\u001b[38;5;124mDate\u001b[39m\u001b[38;5;124m'\u001b[39m,\n\u001b[0;32m   (...)\u001b[0m\n\u001b[1;32m    215\u001b[0m       }\n\u001b[1;32m    216\u001b[0m   }\n\u001b[1;32m    217\u001b[0m \u001b[38;5;28;01melif\u001b[39;00m \u001b[38;5;28misinstance\u001b[39m(obj, encodable\u001b[38;5;241m.\u001b[39mEncodable):\n\u001b[1;32m    218\u001b[0m   \u001b[38;5;66;03m# Some objects know how to encode themselves.\u001b[39;00m\n\u001b[0;32m--> 219\u001b[0m   result \u001b[38;5;241m=\u001b[39m \u001b[43mobj\u001b[49m\u001b[38;5;241;43m.\u001b[39;49m\u001b[43mencode_cloud_value\u001b[49m\u001b[43m(\u001b[49m\u001b[38;5;28;43mself\u001b[39;49m\u001b[38;5;241;43m.\u001b[39;49m\u001b[43m_encode_cloud_object\u001b[49m\u001b[43m)\u001b[49m\n\u001b[1;32m    220\u001b[0m \u001b[38;5;28;01melif\u001b[39;00m \u001b[38;5;28misinstance\u001b[39m(obj, (\u001b[38;5;28mlist\u001b[39m, \u001b[38;5;28mtuple\u001b[39m)):\n\u001b[1;32m    221\u001b[0m   \u001b[38;5;66;03m# Lists are encoded recursively.\u001b[39;00m\n\u001b[1;32m    222\u001b[0m   \u001b[38;5;28;01mif\u001b[39;00m \u001b[38;5;28mself\u001b[39m\u001b[38;5;241m.\u001b[39m_is_compound:\n",
      "File \u001b[0;32m/opt/homebrew/anaconda3/envs/tblakes/lib/python3.8/site-packages/ee/geometry.py:588\u001b[0m, in \u001b[0;36mGeometry.encode_cloud_value\u001b[0;34m(self, encoder)\u001b[0m\n\u001b[1;32m    586\u001b[0m \u001b[38;5;124;03m\"\"\"Returns a server-side invocation of the appropriate constructor.\"\"\"\u001b[39;00m\n\u001b[1;32m    587\u001b[0m \u001b[38;5;28;01mif\u001b[39;00m \u001b[38;5;129;01mnot\u001b[39;00m \u001b[38;5;28mgetattr\u001b[39m(\u001b[38;5;28mself\u001b[39m, \u001b[38;5;124m'\u001b[39m\u001b[38;5;124m_type\u001b[39m\u001b[38;5;124m'\u001b[39m, \u001b[38;5;28;01mNone\u001b[39;00m):\n\u001b[0;32m--> 588\u001b[0m   \u001b[38;5;28;01mreturn\u001b[39;00m \u001b[38;5;28;43msuper\u001b[39;49m\u001b[43m(\u001b[49m\u001b[43mGeometry\u001b[49m\u001b[43m,\u001b[49m\u001b[43m \u001b[49m\u001b[38;5;28;43mself\u001b[39;49m\u001b[43m)\u001b[49m\u001b[38;5;241;43m.\u001b[39;49m\u001b[43mencode_cloud_value\u001b[49m\u001b[43m(\u001b[49m\u001b[43mencoder\u001b[49m\u001b[43m)\u001b[49m\n\u001b[1;32m    590\u001b[0m \u001b[38;5;28;01mreturn\u001b[39;00m \u001b[38;5;28mself\u001b[39m\u001b[38;5;241m.\u001b[39m_computed_equivalent\u001b[38;5;241m.\u001b[39mencode_cloud_value(encoder)\n",
      "File \u001b[0;32m/opt/homebrew/anaconda3/envs/tblakes/lib/python3.8/site-packages/ee/computedobject.py:150\u001b[0m, in \u001b[0;36mComputedObject.encode_cloud_value\u001b[0;34m(self, encoder)\u001b[0m\n\u001b[1;32m    148\u001b[0m   value \u001b[38;5;241m=\u001b[39m \u001b[38;5;28mself\u001b[39m\u001b[38;5;241m.\u001b[39margs[name]\n\u001b[1;32m    149\u001b[0m   \u001b[38;5;28;01mif\u001b[39;00m value \u001b[38;5;129;01mis\u001b[39;00m \u001b[38;5;129;01mnot\u001b[39;00m \u001b[38;5;28;01mNone\u001b[39;00m:\n\u001b[0;32m--> 150\u001b[0m     encoded_args[name] \u001b[38;5;241m=\u001b[39m {\u001b[38;5;124m'\u001b[39m\u001b[38;5;124mvalueReference\u001b[39m\u001b[38;5;124m'\u001b[39m: \u001b[43mencoder\u001b[49m\u001b[43m(\u001b[49m\u001b[43mvalue\u001b[49m\u001b[43m)\u001b[49m}\n\u001b[1;32m    151\u001b[0m invocation[\u001b[38;5;124m'\u001b[39m\u001b[38;5;124marguments\u001b[39m\u001b[38;5;124m'\u001b[39m] \u001b[38;5;241m=\u001b[39m encoded_args\n\u001b[1;32m    152\u001b[0m \u001b[38;5;28;01mreturn\u001b[39;00m {\u001b[38;5;124m'\u001b[39m\u001b[38;5;124mfunctionInvocationValue\u001b[39m\u001b[38;5;124m'\u001b[39m: invocation}\n",
      "File \u001b[0;32m/opt/homebrew/anaconda3/envs/tblakes/lib/python3.8/site-packages/ee/serializer.py:219\u001b[0m, in \u001b[0;36mSerializer._encode_cloud_object\u001b[0;34m(self, obj)\u001b[0m\n\u001b[1;32m    207\u001b[0m   result \u001b[38;5;241m=\u001b[39m {\n\u001b[1;32m    208\u001b[0m       \u001b[38;5;124m'\u001b[39m\u001b[38;5;124mfunctionInvocationValue\u001b[39m\u001b[38;5;124m'\u001b[39m: {\n\u001b[1;32m    209\u001b[0m           \u001b[38;5;124m'\u001b[39m\u001b[38;5;124mfunctionName\u001b[39m\u001b[38;5;124m'\u001b[39m: \u001b[38;5;124m'\u001b[39m\u001b[38;5;124mDate\u001b[39m\u001b[38;5;124m'\u001b[39m,\n\u001b[0;32m   (...)\u001b[0m\n\u001b[1;32m    215\u001b[0m       }\n\u001b[1;32m    216\u001b[0m   }\n\u001b[1;32m    217\u001b[0m \u001b[38;5;28;01melif\u001b[39;00m \u001b[38;5;28misinstance\u001b[39m(obj, encodable\u001b[38;5;241m.\u001b[39mEncodable):\n\u001b[1;32m    218\u001b[0m   \u001b[38;5;66;03m# Some objects know how to encode themselves.\u001b[39;00m\n\u001b[0;32m--> 219\u001b[0m   result \u001b[38;5;241m=\u001b[39m \u001b[43mobj\u001b[49m\u001b[38;5;241;43m.\u001b[39;49m\u001b[43mencode_cloud_value\u001b[49m\u001b[43m(\u001b[49m\u001b[38;5;28;43mself\u001b[39;49m\u001b[38;5;241;43m.\u001b[39;49m\u001b[43m_encode_cloud_object\u001b[49m\u001b[43m)\u001b[49m\n\u001b[1;32m    220\u001b[0m \u001b[38;5;28;01melif\u001b[39;00m \u001b[38;5;28misinstance\u001b[39m(obj, (\u001b[38;5;28mlist\u001b[39m, \u001b[38;5;28mtuple\u001b[39m)):\n\u001b[1;32m    221\u001b[0m   \u001b[38;5;66;03m# Lists are encoded recursively.\u001b[39;00m\n\u001b[1;32m    222\u001b[0m   \u001b[38;5;28;01mif\u001b[39;00m \u001b[38;5;28mself\u001b[39m\u001b[38;5;241m.\u001b[39m_is_compound:\n",
      "File \u001b[0;32m/opt/homebrew/anaconda3/envs/tblakes/lib/python3.8/site-packages/ee/ee_list.py:74\u001b[0m, in \u001b[0;36mList.encode_cloud_value\u001b[0;34m(self, opt_encoder)\u001b[0m\n\u001b[1;32m     72\u001b[0m   \u001b[38;5;28;01mreturn\u001b[39;00m {\u001b[38;5;124m'\u001b[39m\u001b[38;5;124mvalueReference\u001b[39m\u001b[38;5;124m'\u001b[39m: opt_encoder(\u001b[38;5;28mself\u001b[39m\u001b[38;5;241m.\u001b[39m_list)}\n\u001b[1;32m     73\u001b[0m \u001b[38;5;28;01melse\u001b[39;00m:\n\u001b[0;32m---> 74\u001b[0m   \u001b[38;5;28;01mreturn\u001b[39;00m \u001b[38;5;28;43msuper\u001b[39;49m\u001b[43m(\u001b[49m\u001b[43mList\u001b[49m\u001b[43m,\u001b[49m\u001b[43m \u001b[49m\u001b[38;5;28;43mself\u001b[39;49m\u001b[43m)\u001b[49m\u001b[38;5;241;43m.\u001b[39;49m\u001b[43mencode_cloud_value\u001b[49m\u001b[43m(\u001b[49m\u001b[43mopt_encoder\u001b[49m\u001b[43m)\u001b[49m\n",
      "File \u001b[0;32m/opt/homebrew/anaconda3/envs/tblakes/lib/python3.8/site-packages/ee/computedobject.py:135\u001b[0m, in \u001b[0;36mComputedObject.encode_cloud_value\u001b[0;34m(self, encoder)\u001b[0m\n\u001b[1;32m    128\u001b[0m     ref \u001b[38;5;241m=\u001b[39m encoder\u001b[38;5;241m.\u001b[39m\u001b[38;5;18m__self__\u001b[39m\u001b[38;5;241m.\u001b[39munbound_name\n\u001b[1;32m    129\u001b[0m   \u001b[38;5;28;01mif\u001b[39;00m ref \u001b[38;5;129;01mis\u001b[39;00m \u001b[38;5;28;01mNone\u001b[39;00m:\n\u001b[1;32m    130\u001b[0m     \u001b[38;5;66;03m# We are trying to call getInfo() or make some other server call inside\u001b[39;00m\n\u001b[1;32m    131\u001b[0m     \u001b[38;5;66;03m# a function passed to collection.map() or .iterate(), and the call uses\u001b[39;00m\n\u001b[1;32m    132\u001b[0m     \u001b[38;5;66;03m# one of the function arguments. The argument will be unbound outside of\u001b[39;00m\n\u001b[1;32m    133\u001b[0m     \u001b[38;5;66;03m# the map operation and cannot be evaluated. See the Count Functions\u001b[39;00m\n\u001b[1;32m    134\u001b[0m     \u001b[38;5;66;03m# case in customfunction.py for details on the unbound_name mechanism.\u001b[39;00m\n\u001b[0;32m--> 135\u001b[0m     \u001b[38;5;28;01mraise\u001b[39;00m ee_exception\u001b[38;5;241m.\u001b[39mEEException(\n\u001b[1;32m    136\u001b[0m         \u001b[38;5;124m'\u001b[39m\u001b[38;5;124mA mapped function\u001b[39m\u001b[38;5;130;01m\\'\u001b[39;00m\u001b[38;5;124ms arguments cannot be used in client-side operations\u001b[39m\u001b[38;5;124m'\u001b[39m\n\u001b[1;32m    137\u001b[0m     )\n\u001b[1;32m    138\u001b[0m   \u001b[38;5;28;01mreturn\u001b[39;00m {\u001b[38;5;124m'\u001b[39m\u001b[38;5;124margumentReference\u001b[39m\u001b[38;5;124m'\u001b[39m: ref}\n\u001b[1;32m    139\u001b[0m \u001b[38;5;28;01melse\u001b[39;00m:\n",
      "\u001b[0;31mEEException\u001b[0m: A mapped function's arguments cannot be used in client-side operations"
     ]
    }
   ],
   "source": [
    "# ee.Geometry.Rectangle(grid[0])"
   ]
  },
  {
   "cell_type": "code",
   "execution_count": 5,
   "id": "53c5ecf4-2778-4612-8912-0476a27fff39",
   "metadata": {},
   "outputs": [],
   "source": [
    "# # roi = ee.Geometry.Rectable([])\n",
    "# summed_values = diff.reduceRegion(\n",
    "#     reducer=ee.Reducer.sum()\n",
    "#     ,geometry=cell\n",
    "#     ,scale=9000\n",
    "#     ,maxPixels=1e13\n",
    "# )\n",
    "\n",
    "# print(summed_values.getInfo())\n",
    "# type(ee.Image(summed_values))\n",
    "# diff_reduc = diff.reduceResolution(reducer=ee.Reducer.sum(), maxPixels=65535)\n",
    "# diff_reduc = diff_reduc.reproject(crs=diff.projection().crs(), scale=9000)\n",
    "# diff_reduc = diff.float()"
   ]
  },
  {
   "cell_type": "code",
   "execution_count": 6,
   "id": "df3395df-e3b2-43f5-a8b7-947c4d576c0d",
   "metadata": {},
   "outputs": [],
   "source": [
    "# type(cell)\n",
    "\n",
    "# diff.reduceRegion(/.reducer=ee.Reducer.sum(), scale=9000)"
   ]
  },
  {
   "cell_type": "code",
   "execution_count": 7,
   "id": "26404ebe-b8f7-4c11-81e2-125971c396bb",
   "metadata": {},
   "outputs": [],
   "source": [
    "era5_land_temp = ee.ImageCollection(\"ECMWF/ERA5_LAND/HOURLY\").select('temperature_2m')\n",
    "era5_land_precip = ee.ImageCollection(\"ECMWF/ERA5_LAND/HOURLY\").select('total_precipitation')\n",
    "\n",
    "filtered_temp = era5_land_temp.filterDate('2012-01-01', '2013-12-31')\n",
    "filtered_precip = era5_land_precip.filterDate('2012-01-01', '2013-12-31')"
   ]
  },
  {
   "cell_type": "code",
   "execution_count": 8,
   "id": "4c3566eb-5032-4d28-a795-7d8f04c8ff5d",
   "metadata": {},
   "outputs": [],
   "source": [
    "cell = grid[0]\n",
    "\n",
    "temp_image = filtered_temp.filter(ee.Filter.calendarRange(2012, 2012, 'year')).mean().clip(cell)\n",
    "\n",
    "precip_image = filtered_precip.filter(ee.Filter.calendarRange(2012, 2012, 'year')).sum().clip(cell)\n",
    "\n",
    "# gsw_image = ee.ImageCollection(diff).sum().clip(cell)\n",
    "gsw_image = ee.ImageCollection(ee.Image(diff))#.clip(cell)"
   ]
  },
  {
   "cell_type": "code",
   "execution_count": 20,
   "id": "d7019039-9f1e-4289-ac8e-5c9fd686dd62",
   "metadata": {},
   "outputs": [
    {
     "data": {
      "text/plain": [
       "<ee.dictionary.Dictionary at 0x16c15e1c0>"
      ]
     },
     "execution_count": 20,
     "metadata": {},
     "output_type": "execute_result"
    }
   ],
   "source": [
    "# diff_reduc = diff.reduceResolution(reducer=ee.Reducer.sum(), maxPixels=1024)\n",
    "# diff_reduc = diff_reduc.reproject(crs=precip_image.projection().crs(), scale=9000)\n",
    "# diff_reduc = diff.float()\n",
    "# Image.reduceRegion(reducer, geometry, scale, crs, crsTransform, bestEffort, maxPixels, tileScale)\n",
    "diffr = diff.reduceRegion(reducer=ee.Reducer.sum()\n",
    "                  ,geometry=grid[0]\n",
    "                  ,scale=9000\n",
    "                  ,crs=precip_image.projection().crs()\n",
    "                 )\n",
    "diffr"
   ]
  },
  {
   "cell_type": "code",
   "execution_count": 22,
   "id": "b264b435-8b99-4d58-b424-d3146ca8d53d",
   "metadata": {},
   "outputs": [
    {
     "data": {
      "text/plain": [
       "ee.imagecollection.ImageCollection"
      ]
     },
     "execution_count": 22,
     "metadata": {},
     "output_type": "execute_result"
    }
   ],
   "source": [
    "type(era5_land_temp)"
   ]
  },
  {
   "cell_type": "code",
   "execution_count": 21,
   "id": "b47adeac-9aac-491e-bcc9-e89148f7eb1b",
   "metadata": {},
   "outputs": [
    {
     "ename": "EEException",
     "evalue": "Image.visualize, argument 'image': Invalid type.\nExpected type: Image<unknown bands>.\nActual type: ImageCollection.",
     "output_type": "error",
     "traceback": [
      "\u001b[0;31m---------------------------------------------------------------------------\u001b[0m",
      "\u001b[0;31mHttpError\u001b[0m                                 Traceback (most recent call last)",
      "File \u001b[0;32m/opt/homebrew/anaconda3/envs/tblakes/lib/python3.8/site-packages/ee/data.py:346\u001b[0m, in \u001b[0;36m_execute_cloud_call\u001b[0;34m(call, num_retries)\u001b[0m\n\u001b[1;32m    345\u001b[0m \u001b[38;5;28;01mtry\u001b[39;00m:\n\u001b[0;32m--> 346\u001b[0m   \u001b[38;5;28;01mreturn\u001b[39;00m \u001b[43mcall\u001b[49m\u001b[38;5;241;43m.\u001b[39;49m\u001b[43mexecute\u001b[49m\u001b[43m(\u001b[49m\u001b[43mnum_retries\u001b[49m\u001b[38;5;241;43m=\u001b[39;49m\u001b[43mnum_retries\u001b[49m\u001b[43m)\u001b[49m\n\u001b[1;32m    347\u001b[0m \u001b[38;5;28;01mexcept\u001b[39;00m googleapiclient\u001b[38;5;241m.\u001b[39merrors\u001b[38;5;241m.\u001b[39mHttpError \u001b[38;5;28;01mas\u001b[39;00m e:\n",
      "File \u001b[0;32m/opt/homebrew/anaconda3/envs/tblakes/lib/python3.8/site-packages/googleapiclient/_helpers.py:130\u001b[0m, in \u001b[0;36mpositional.<locals>.positional_decorator.<locals>.positional_wrapper\u001b[0;34m(*args, **kwargs)\u001b[0m\n\u001b[1;32m    129\u001b[0m         logger\u001b[38;5;241m.\u001b[39mwarning(message)\n\u001b[0;32m--> 130\u001b[0m \u001b[38;5;28;01mreturn\u001b[39;00m \u001b[43mwrapped\u001b[49m\u001b[43m(\u001b[49m\u001b[38;5;241;43m*\u001b[39;49m\u001b[43margs\u001b[49m\u001b[43m,\u001b[49m\u001b[43m \u001b[49m\u001b[38;5;241;43m*\u001b[39;49m\u001b[38;5;241;43m*\u001b[39;49m\u001b[43mkwargs\u001b[49m\u001b[43m)\u001b[49m\n",
      "File \u001b[0;32m/opt/homebrew/anaconda3/envs/tblakes/lib/python3.8/site-packages/googleapiclient/http.py:938\u001b[0m, in \u001b[0;36mHttpRequest.execute\u001b[0;34m(self, http, num_retries)\u001b[0m\n\u001b[1;32m    937\u001b[0m \u001b[38;5;28;01mif\u001b[39;00m resp\u001b[38;5;241m.\u001b[39mstatus \u001b[38;5;241m>\u001b[39m\u001b[38;5;241m=\u001b[39m \u001b[38;5;241m300\u001b[39m:\n\u001b[0;32m--> 938\u001b[0m     \u001b[38;5;28;01mraise\u001b[39;00m HttpError(resp, content, uri\u001b[38;5;241m=\u001b[39m\u001b[38;5;28mself\u001b[39m\u001b[38;5;241m.\u001b[39muri)\n\u001b[1;32m    939\u001b[0m \u001b[38;5;28;01mreturn\u001b[39;00m \u001b[38;5;28mself\u001b[39m\u001b[38;5;241m.\u001b[39mpostproc(resp, content)\n",
      "\u001b[0;31mHttpError\u001b[0m: <HttpError 400 when requesting https://earthengine.googleapis.com/v1alpha/projects/earthengine-legacy/maps?fields=name&alt=json returned \"Image.visualize, argument 'image': Invalid type.\nExpected type: Image<unknown bands>.\nActual type: ImageCollection.\". Details: \"Image.visualize, argument 'image': Invalid type.\nExpected type: Image<unknown bands>.\nActual type: ImageCollection.\">",
      "\nDuring handling of the above exception, another exception occurred:\n",
      "\u001b[0;31mEEException\u001b[0m                               Traceback (most recent call last)",
      "Cell \u001b[0;32mIn[21], line 22\u001b[0m\n\u001b[1;32m     19\u001b[0m viz_params \u001b[38;5;241m=\u001b[39m {\u001b[38;5;124m'\u001b[39m\u001b[38;5;124mpalette\u001b[39m\u001b[38;5;124m'\u001b[39m:[\u001b[38;5;124m'\u001b[39m\u001b[38;5;124mgreen\u001b[39m\u001b[38;5;124m'\u001b[39m,\u001b[38;5;124m'\u001b[39m\u001b[38;5;124myellow\u001b[39m\u001b[38;5;124m'\u001b[39m,\u001b[38;5;124m'\u001b[39m\u001b[38;5;124mcyan\u001b[39m\u001b[38;5;124m'\u001b[39m]}\n\u001b[1;32m     21\u001b[0m \u001b[38;5;66;03m# Add the Earth Engine image as a layer\u001b[39;00m\n\u001b[0;32m---> 22\u001b[0m \u001b[43mmy_map\u001b[49m\u001b[38;5;241;43m.\u001b[39;49m\u001b[43madd_ee_layer\u001b[49m\u001b[43m(\u001b[49m\u001b[43mera5_land_temp\u001b[49m\u001b[43m,\u001b[49m\u001b[43m \u001b[49m\u001b[43mviz_params\u001b[49m\u001b[43m,\u001b[49m\u001b[43m \u001b[49m\u001b[38;5;124;43m'\u001b[39;49m\u001b[38;5;124;43mLandsat 8 Image\u001b[39;49m\u001b[38;5;124;43m'\u001b[39;49m\u001b[43m)\u001b[49m\n\u001b[1;32m     24\u001b[0m \u001b[38;5;66;03m# Add a LayerControl widget\u001b[39;00m\n\u001b[1;32m     25\u001b[0m my_map\u001b[38;5;241m.\u001b[39madd_child(folium\u001b[38;5;241m.\u001b[39mLayerControl())\n",
      "Cell \u001b[0;32mIn[21], line 4\u001b[0m, in \u001b[0;36madd_ee_layer\u001b[0;34m(self, ee_image_object, vis_params, name)\u001b[0m\n\u001b[1;32m      3\u001b[0m \u001b[38;5;28;01mdef\u001b[39;00m \u001b[38;5;21madd_ee_layer\u001b[39m(\u001b[38;5;28mself\u001b[39m, ee_image_object, vis_params, name):\n\u001b[0;32m----> 4\u001b[0m     map_id_dict \u001b[38;5;241m=\u001b[39m \u001b[43mee\u001b[49m\u001b[38;5;241;43m.\u001b[39;49m\u001b[43mImage\u001b[49m\u001b[43m(\u001b[49m\u001b[43mee_image_object\u001b[49m\u001b[43m)\u001b[49m\u001b[38;5;241;43m.\u001b[39;49m\u001b[43mgetMapId\u001b[49m\u001b[43m(\u001b[49m\u001b[43mvis_params\u001b[49m\u001b[43m)\u001b[49m\n\u001b[1;32m      5\u001b[0m     folium\u001b[38;5;241m.\u001b[39mTileLayer(\n\u001b[1;32m      6\u001b[0m         tiles\u001b[38;5;241m=\u001b[39mmap_id_dict[\u001b[38;5;124m'\u001b[39m\u001b[38;5;124mtile_fetcher\u001b[39m\u001b[38;5;124m'\u001b[39m]\u001b[38;5;241m.\u001b[39murl_format,\n\u001b[1;32m      7\u001b[0m         attr\u001b[38;5;241m=\u001b[39m\u001b[38;5;124m'\u001b[39m\u001b[38;5;124mMap data © Google Earth Engine\u001b[39m\u001b[38;5;124m'\u001b[39m,\n\u001b[0;32m   (...)\u001b[0m\n\u001b[1;32m     10\u001b[0m         control\u001b[38;5;241m=\u001b[39m\u001b[38;5;28;01mTrue\u001b[39;00m\n\u001b[1;32m     11\u001b[0m     )\u001b[38;5;241m.\u001b[39madd_to(\u001b[38;5;28mself\u001b[39m)\n",
      "File \u001b[0;32m/opt/homebrew/anaconda3/envs/tblakes/lib/python3.8/site-packages/ee/image.py:130\u001b[0m, in \u001b[0;36mImage.getMapId\u001b[0;34m(self, vis_params)\u001b[0m\n\u001b[1;32m    128\u001b[0m vis_image, request \u001b[38;5;241m=\u001b[39m \u001b[38;5;28mself\u001b[39m\u001b[38;5;241m.\u001b[39m_apply_visualization(vis_params)\n\u001b[1;32m    129\u001b[0m request[\u001b[38;5;124m'\u001b[39m\u001b[38;5;124mimage\u001b[39m\u001b[38;5;124m'\u001b[39m] \u001b[38;5;241m=\u001b[39m vis_image\n\u001b[0;32m--> 130\u001b[0m response \u001b[38;5;241m=\u001b[39m \u001b[43mdata\u001b[49m\u001b[38;5;241;43m.\u001b[39;49m\u001b[43mgetMapId\u001b[49m\u001b[43m(\u001b[49m\u001b[43mrequest\u001b[49m\u001b[43m)\u001b[49m\n\u001b[1;32m    131\u001b[0m response[\u001b[38;5;124m'\u001b[39m\u001b[38;5;124mimage\u001b[39m\u001b[38;5;124m'\u001b[39m] \u001b[38;5;241m=\u001b[39m \u001b[38;5;28mself\u001b[39m\n\u001b[1;32m    132\u001b[0m \u001b[38;5;28;01mreturn\u001b[39;00m response\n",
      "File \u001b[0;32m/opt/homebrew/anaconda3/envs/tblakes/lib/python3.8/site-packages/ee/data.py:648\u001b[0m, in \u001b[0;36mgetMapId\u001b[0;34m(params)\u001b[0m\n\u001b[1;32m    643\u001b[0m queryParams \u001b[38;5;241m=\u001b[39m {\n\u001b[1;32m    644\u001b[0m     \u001b[38;5;124m'\u001b[39m\u001b[38;5;124mfields\u001b[39m\u001b[38;5;124m'\u001b[39m: \u001b[38;5;124m'\u001b[39m\u001b[38;5;124mname\u001b[39m\u001b[38;5;124m'\u001b[39m,\n\u001b[1;32m    645\u001b[0m     \u001b[38;5;124m'\u001b[39m\u001b[38;5;124mbody\u001b[39m\u001b[38;5;124m'\u001b[39m: request,\n\u001b[1;32m    646\u001b[0m }\n\u001b[1;32m    647\u001b[0m _maybe_populate_workload_tag(queryParams)\n\u001b[0;32m--> 648\u001b[0m result \u001b[38;5;241m=\u001b[39m \u001b[43m_execute_cloud_call\u001b[49m\u001b[43m(\u001b[49m\n\u001b[1;32m    649\u001b[0m \u001b[43m    \u001b[49m\u001b[43m_get_cloud_projects\u001b[49m\u001b[43m(\u001b[49m\u001b[43m)\u001b[49m\n\u001b[1;32m    650\u001b[0m \u001b[43m    \u001b[49m\u001b[38;5;241;43m.\u001b[39;49m\u001b[43mmaps\u001b[49m\u001b[43m(\u001b[49m\u001b[43m)\u001b[49m\n\u001b[1;32m    651\u001b[0m \u001b[43m    \u001b[49m\u001b[38;5;241;43m.\u001b[39;49m\u001b[43mcreate\u001b[49m\u001b[43m(\u001b[49m\u001b[43mparent\u001b[49m\u001b[38;5;241;43m=\u001b[39;49m\u001b[43m_get_projects_path\u001b[49m\u001b[43m(\u001b[49m\u001b[43m)\u001b[49m\u001b[43m,\u001b[49m\u001b[43m \u001b[49m\u001b[38;5;241;43m*\u001b[39;49m\u001b[38;5;241;43m*\u001b[39;49m\u001b[43mqueryParams\u001b[49m\u001b[43m)\u001b[49m\n\u001b[1;32m    652\u001b[0m \u001b[43m\u001b[49m\u001b[43m)\u001b[49m\n\u001b[1;32m    653\u001b[0m map_name \u001b[38;5;241m=\u001b[39m result[\u001b[38;5;124m'\u001b[39m\u001b[38;5;124mname\u001b[39m\u001b[38;5;124m'\u001b[39m]\n\u001b[1;32m    654\u001b[0m url_format \u001b[38;5;241m=\u001b[39m \u001b[38;5;124m'\u001b[39m\u001b[38;5;132;01m%s\u001b[39;00m\u001b[38;5;124m/\u001b[39m\u001b[38;5;132;01m%s\u001b[39;00m\u001b[38;5;124m/\u001b[39m\u001b[38;5;132;01m%s\u001b[39;00m\u001b[38;5;124m/tiles/\u001b[39m\u001b[38;5;132;01m{z}\u001b[39;00m\u001b[38;5;124m/\u001b[39m\u001b[38;5;132;01m{x}\u001b[39;00m\u001b[38;5;124m/\u001b[39m\u001b[38;5;132;01m{y}\u001b[39;00m\u001b[38;5;124m'\u001b[39m \u001b[38;5;241m%\u001b[39m (\n\u001b[1;32m    655\u001b[0m     _tile_base_url, _cloud_api_utils\u001b[38;5;241m.\u001b[39mVERSION, map_name)\n",
      "File \u001b[0;32m/opt/homebrew/anaconda3/envs/tblakes/lib/python3.8/site-packages/ee/data.py:348\u001b[0m, in \u001b[0;36m_execute_cloud_call\u001b[0;34m(call, num_retries)\u001b[0m\n\u001b[1;32m    346\u001b[0m   \u001b[38;5;28;01mreturn\u001b[39;00m call\u001b[38;5;241m.\u001b[39mexecute(num_retries\u001b[38;5;241m=\u001b[39mnum_retries)\n\u001b[1;32m    347\u001b[0m \u001b[38;5;28;01mexcept\u001b[39;00m googleapiclient\u001b[38;5;241m.\u001b[39merrors\u001b[38;5;241m.\u001b[39mHttpError \u001b[38;5;28;01mas\u001b[39;00m e:\n\u001b[0;32m--> 348\u001b[0m   \u001b[38;5;28;01mraise\u001b[39;00m _translate_cloud_exception(e)\n",
      "\u001b[0;31mEEException\u001b[0m: Image.visualize, argument 'image': Invalid type.\nExpected type: Image<unknown bands>.\nActual type: ImageCollection."
     ]
    }
   ],
   "source": [
    "import folium\n",
    "\n",
    "def add_ee_layer(self, ee_image_object, vis_params, name):\n",
    "    map_id_dict = ee.Image(ee_image_object).getMapId(vis_params)\n",
    "    folium.TileLayer(\n",
    "        tiles=map_id_dict['tile_fetcher'].url_format,\n",
    "        attr='Map data © Google Earth Engine',\n",
    "        name=name,\n",
    "        overlay=True,\n",
    "        control=True\n",
    "    ).add_to(self)\n",
    "\n",
    "# Add Earth Engine drawing method to folium.Map\n",
    "folium.Map.add_ee_layer = add_ee_layer\n",
    "\n",
    "# Create a Folium map at a specific location\n",
    "my_map = folium.Map(location=[20, 0], zoom_start=3)\n",
    "\n",
    "viz_params = {'palette':['green','yellow','cyan']}\n",
    "\n",
    "# Add the Earth Engine image as a layer\n",
    "my_map.add_ee_layer(era5_land_temp, viz_params, 'Landsat 8 Image')\n",
    "\n",
    "# Add a LayerControl widget\n",
    "my_map.add_child(folium.LayerControl())\n",
    "\n",
    "# Display the map\n",
    "my_map\n",
    "\n",
    "\n",
    "\n",
    "\n"
   ]
  },
  {
   "cell_type": "code",
   "execution_count": 14,
   "id": "cd0ddb47-51c1-4258-bb12-3c0cee6b0c8a",
   "metadata": {},
   "outputs": [],
   "source": [
    "def export_to_gdrive(img, name, region):\n",
    "    task = ee.batch.Export.image.toDrive(**{\n",
    "        'image':img\n",
    "        ,'description': name\n",
    "        ,'folder':'EarthEngineData'\n",
    "        ,'scale':9000\n",
    "        ,'region':region\n",
    "        ,'fileFormat':'GeoTIFF'\n",
    "    })\n",
    "    task.start()\n",
    "    print(f'task {name} sent to google...')"
   ]
  },
  {
   "cell_type": "code",
   "execution_count": 15,
   "id": "c51490cd-ab7b-422d-bdb2-8caa38b66369",
   "metadata": {},
   "outputs": [
    {
     "name": "stdout",
     "output_type": "stream",
     "text": [
      "task Temperature_2012_0 sent to google...\n",
      "task Precipitation_2012_0 sent to google...\n",
      "task Difference_2012_0 sent to google...\n"
     ]
    }
   ],
   "source": [
    "export_to_gdrive(img=temp_image, name='Temperature_2012_0', region=cell)\n",
    "export_to_gdrive(img=precip_image, name='Precipitation_2012_0', region=cell)\n",
    "export_to_gdrive(img=gsw_image, name='Difference_2012_0', region=cell)"
   ]
  },
  {
   "cell_type": "code",
   "execution_count": null,
   "id": "79cdf84f-08f8-4504-b065-8e0345830f8e",
   "metadata": {},
   "outputs": [],
   "source": []
  },
  {
   "cell_type": "code",
   "execution_count": null,
   "id": "5a631f21-1b50-4127-9ef3-1812ec225a28",
   "metadata": {},
   "outputs": [],
   "source": []
  },
  {
   "cell_type": "code",
   "execution_count": 23,
   "id": "45cb8910-c8f2-4b6f-bf35-af46e442b8d7",
   "metadata": {},
   "outputs": [],
   "source": [
    "# import ee\n",
    "# ee.Initialize()\n",
    "\n",
    "# Load the ERA5-Land precipitation dataset\n",
    "era5_land_precip = ee.ImageCollection(\"ECMWF/ERA5_LAND/HOURLY\").select('total_precipitation')\n"
   ]
  },
  {
   "cell_type": "code",
   "execution_count": 24,
   "id": "ea4886bd-9b30-46e8-a638-246ef7cd80b6",
   "metadata": {},
   "outputs": [],
   "source": [
    "# Define the time period\n",
    "start_date = '2020-01-01'\n",
    "end_date = '2020-12-31'\n",
    "\n",
    "# Sum the precipitation data over the defined period\n",
    "precipitation_sum = era5_land_precip.filterDate(start_date, end_date).sum()\n"
   ]
  },
  {
   "cell_type": "code",
   "execution_count": 25,
   "id": "f9df5e17-24ae-4624-af4c-8c2b9145b304",
   "metadata": {},
   "outputs": [],
   "source": [
    "# Visualization parameters\n",
    "vis_params = {\n",
    "    'min': 0,\n",
    "    'max': 3000,  # Adjust this based on your data's range\n",
    "    'palette': ['blue', 'purple', 'cyan', 'green', 'yellow', 'red']\n",
    "}\n"
   ]
  },
  {
   "cell_type": "code",
   "execution_count": 29,
   "id": "022904a6-d48a-4bc5-95df-e3356f34f76c",
   "metadata": {},
   "outputs": [
    {
     "data": {
      "text/html": [
       "<div style=\"width:100%;\"><div style=\"position:relative;width:100%;height:0;padding-bottom:60%;\"><span style=\"color:#565656\">Make this Notebook Trusted to load map: File -> Trust Notebook</span><iframe srcdoc=\"&lt;!DOCTYPE html&gt;\n",
       "&lt;html&gt;\n",
       "&lt;head&gt;\n",
       "    \n",
       "    &lt;meta http-equiv=&quot;content-type&quot; content=&quot;text/html; charset=UTF-8&quot; /&gt;\n",
       "    \n",
       "        &lt;script&gt;\n",
       "            L_NO_TOUCH = false;\n",
       "            L_DISABLE_3D = false;\n",
       "        &lt;/script&gt;\n",
       "    \n",
       "    &lt;style&gt;html, body {width: 100%;height: 100%;margin: 0;padding: 0;}&lt;/style&gt;\n",
       "    &lt;style&gt;#map {position:absolute;top:0;bottom:0;right:0;left:0;}&lt;/style&gt;\n",
       "    &lt;script src=&quot;https://cdn.jsdelivr.net/npm/leaflet@1.9.3/dist/leaflet.js&quot;&gt;&lt;/script&gt;\n",
       "    &lt;script src=&quot;https://code.jquery.com/jquery-1.12.4.min.js&quot;&gt;&lt;/script&gt;\n",
       "    &lt;script src=&quot;https://cdn.jsdelivr.net/npm/bootstrap@5.2.2/dist/js/bootstrap.bundle.min.js&quot;&gt;&lt;/script&gt;\n",
       "    &lt;script src=&quot;https://cdnjs.cloudflare.com/ajax/libs/Leaflet.awesome-markers/2.0.2/leaflet.awesome-markers.js&quot;&gt;&lt;/script&gt;\n",
       "    &lt;link rel=&quot;stylesheet&quot; href=&quot;https://cdn.jsdelivr.net/npm/leaflet@1.9.3/dist/leaflet.css&quot;/&gt;\n",
       "    &lt;link rel=&quot;stylesheet&quot; href=&quot;https://cdn.jsdelivr.net/npm/bootstrap@5.2.2/dist/css/bootstrap.min.css&quot;/&gt;\n",
       "    &lt;link rel=&quot;stylesheet&quot; href=&quot;https://netdna.bootstrapcdn.com/bootstrap/3.0.0/css/bootstrap.min.css&quot;/&gt;\n",
       "    &lt;link rel=&quot;stylesheet&quot; href=&quot;https://cdn.jsdelivr.net/npm/@fortawesome/fontawesome-free@6.2.0/css/all.min.css&quot;/&gt;\n",
       "    &lt;link rel=&quot;stylesheet&quot; href=&quot;https://cdnjs.cloudflare.com/ajax/libs/Leaflet.awesome-markers/2.0.2/leaflet.awesome-markers.css&quot;/&gt;\n",
       "    &lt;link rel=&quot;stylesheet&quot; href=&quot;https://cdn.jsdelivr.net/gh/python-visualization/folium/folium/templates/leaflet.awesome.rotate.min.css&quot;/&gt;\n",
       "    \n",
       "            &lt;meta name=&quot;viewport&quot; content=&quot;width=device-width,\n",
       "                initial-scale=1.0, maximum-scale=1.0, user-scalable=no&quot; /&gt;\n",
       "            &lt;style&gt;\n",
       "                #map_5eaf7ea8b37cd03fd0c8aa1a7e950138 {\n",
       "                    position: relative;\n",
       "                    width: 100.0%;\n",
       "                    height: 100.0%;\n",
       "                    left: 0.0%;\n",
       "                    top: 0.0%;\n",
       "                }\n",
       "                .leaflet-container { font-size: 1rem; }\n",
       "            &lt;/style&gt;\n",
       "        \n",
       "&lt;/head&gt;\n",
       "&lt;body&gt;\n",
       "    \n",
       "    \n",
       "            &lt;div class=&quot;folium-map&quot; id=&quot;map_5eaf7ea8b37cd03fd0c8aa1a7e950138&quot; &gt;&lt;/div&gt;\n",
       "        \n",
       "&lt;/body&gt;\n",
       "&lt;script&gt;\n",
       "    \n",
       "    \n",
       "            var map_5eaf7ea8b37cd03fd0c8aa1a7e950138 = L.map(\n",
       "                &quot;map_5eaf7ea8b37cd03fd0c8aa1a7e950138&quot;,\n",
       "                {\n",
       "                    center: [20.0, 0.0],\n",
       "                    crs: L.CRS.EPSG3857,\n",
       "                    zoom: 2,\n",
       "                    zoomControl: true,\n",
       "                    preferCanvas: false,\n",
       "                }\n",
       "            );\n",
       "\n",
       "            \n",
       "\n",
       "        \n",
       "    \n",
       "            var tile_layer_f2bbf284e4cf671d4d7d19429c467794 = L.tileLayer(\n",
       "                &quot;https://{s}.tile.openstreetmap.org/{z}/{x}/{y}.png&quot;,\n",
       "                {&quot;attribution&quot;: &quot;Data by \\u0026copy; \\u003ca target=\\&quot;_blank\\&quot; href=\\&quot;http://openstreetmap.org\\&quot;\\u003eOpenStreetMap\\u003c/a\\u003e, under \\u003ca target=\\&quot;_blank\\&quot; href=\\&quot;http://www.openstreetmap.org/copyright\\&quot;\\u003eODbL\\u003c/a\\u003e.&quot;, &quot;detectRetina&quot;: false, &quot;maxNativeZoom&quot;: 18, &quot;maxZoom&quot;: 18, &quot;minZoom&quot;: 0, &quot;noWrap&quot;: false, &quot;opacity&quot;: 1, &quot;subdomains&quot;: &quot;abc&quot;, &quot;tms&quot;: false}\n",
       "            ).addTo(map_5eaf7ea8b37cd03fd0c8aa1a7e950138);\n",
       "        \n",
       "    \n",
       "            var tile_layer_d7b6b1b1a5f951e82c63d3b4ab36707c = L.tileLayer(\n",
       "                &quot;https://earthengine.googleapis.com/v1alpha/projects/earthengine-legacy/maps/85ef68f9d00d4304074fd1308788f5da-884122f6e6c8dc120c08ad713c78c486/tiles/{z}/{x}/{y}&quot;,\n",
       "                {&quot;attribution&quot;: &quot;Map data \\u00a9 Google Earth Engine&quot;, &quot;detectRetina&quot;: false, &quot;maxNativeZoom&quot;: 18, &quot;maxZoom&quot;: 18, &quot;minZoom&quot;: 0, &quot;noWrap&quot;: false, &quot;opacity&quot;: 1, &quot;subdomains&quot;: &quot;abc&quot;, &quot;tms&quot;: false}\n",
       "            ).addTo(map_5eaf7ea8b37cd03fd0c8aa1a7e950138);\n",
       "        \n",
       "    \n",
       "            var layer_control_62e0434a7ffe264e78586c99bf147bee = {\n",
       "                base_layers : {\n",
       "                    &quot;openstreetmap&quot; : tile_layer_f2bbf284e4cf671d4d7d19429c467794,\n",
       "                },\n",
       "                overlays :  {\n",
       "                    &quot;ERA5-Land Precipitation Sum&quot; : tile_layer_d7b6b1b1a5f951e82c63d3b4ab36707c,\n",
       "                },\n",
       "            };\n",
       "            L.control.layers(\n",
       "                layer_control_62e0434a7ffe264e78586c99bf147bee.base_layers,\n",
       "                layer_control_62e0434a7ffe264e78586c99bf147bee.overlays,\n",
       "                {&quot;autoZIndex&quot;: true, &quot;collapsed&quot;: true, &quot;position&quot;: &quot;topright&quot;}\n",
       "            ).addTo(map_5eaf7ea8b37cd03fd0c8aa1a7e950138);\n",
       "        \n",
       "&lt;/script&gt;\n",
       "&lt;/html&gt;\" style=\"position:absolute;width:100%;height:100%;left:0;top:0;border:none !important;\" allowfullscreen webkitallowfullscreen mozallowfullscreen></iframe></div></div>"
      ],
      "text/plain": [
       "<folium.folium.Map at 0x16c44adc0>"
      ]
     },
     "execution_count": 29,
     "metadata": {},
     "output_type": "execute_result"
    }
   ],
   "source": [
    "import folium\n",
    "\n",
    "# Function to add Earth Engine layers to Folium\n",
    "def add_ee_layer(self, ee_image_object, vis_params, name):\n",
    "    map_id_dict = ee.Image(ee_image_object).getMapId(vis_params)\n",
    "    folium.TileLayer(\n",
    "        tiles=map_id_dict['tile_fetcher'].url_format,\n",
    "        attr='Map data © Google Earth Engine',\n",
    "        name=name,\n",
    "        overlay=True,\n",
    "        control=True\n",
    "    ).add_to(self)\n",
    "\n",
    "# Add Earth Engine drawing method to Folium\n",
    "folium.Map.add_ee_layer = add_ee_layer\n",
    "\n",
    "# Create a Folium map\n",
    "center = [20, 0]  # Adjust the center and zoom level to your area of interest\n",
    "m = folium.Map(location=center, zoom_start=2)\n",
    "\n",
    "# Add the Earth Engine precipitation layer\n",
    "m.add_ee_layer(precipitation_sum.clip(grid[0]), vis_params, 'ERA5-Land Precipitation Sum')\n",
    "\n",
    "# Add a layer control panel\n",
    "folium.LayerControl().add_to(m)\n",
    "\n",
    "# Display the map\n",
    "m\n"
   ]
  }
 ],
 "metadata": {
  "kernelspec": {
   "display_name": "Python 3 (ipykernel)",
   "language": "python",
   "name": "python3"
  },
  "language_info": {
   "codemirror_mode": {
    "name": "ipython",
    "version": 3
   },
   "file_extension": ".py",
   "mimetype": "text/x-python",
   "name": "python",
   "nbconvert_exporter": "python",
   "pygments_lexer": "ipython3",
   "version": "3.8.16"
  }
 },
 "nbformat": 4,
 "nbformat_minor": 5
}
