{
 "cells": [
  {
   "cell_type": "code",
   "execution_count": 1,
   "id": "04103c90-a92e-49eb-aefe-4da315f54bbb",
   "metadata": {},
   "outputs": [
    {
     "name": "stdout",
     "output_type": "stream",
     "text": [
      "Requirement already satisfied: geopandas in /Users/mnky9800n/anaconda3/envs/aipipeline/lib/python3.11/site-packages (0.14.1)\n",
      "Requirement already satisfied: matplotlib in /Users/mnky9800n/anaconda3/envs/aipipeline/lib/python3.11/site-packages (3.8.2)\n",
      "Requirement already satisfied: shapely in /Users/mnky9800n/anaconda3/envs/aipipeline/lib/python3.11/site-packages (2.0.2)\n",
      "Requirement already satisfied: cdsapi in /Users/mnky9800n/anaconda3/envs/aipipeline/lib/python3.11/site-packages (0.6.1)\n",
      "Requirement already satisfied: numpy in /Users/mnky9800n/anaconda3/envs/aipipeline/lib/python3.11/site-packages (1.26.2)\n",
      "Requirement already satisfied: xarray in /Users/mnky9800n/anaconda3/envs/aipipeline/lib/python3.11/site-packages (2023.12.0)\n",
      "Requirement already satisfied: rioxarray in /Users/mnky9800n/anaconda3/envs/aipipeline/lib/python3.11/site-packages (0.15.0)\n",
      "Requirement already satisfied: netcdf4 in /Users/mnky9800n/anaconda3/envs/aipipeline/lib/python3.11/site-packages (1.6.5)\n",
      "Requirement already satisfied: scipy in /Users/mnky9800n/anaconda3/envs/aipipeline/lib/python3.11/site-packages (1.11.4)\n",
      "Requirement already satisfied: fiona>=1.8.21 in /Users/mnky9800n/anaconda3/envs/aipipeline/lib/python3.11/site-packages (from geopandas) (1.9.5)\n",
      "Requirement already satisfied: packaging in /Users/mnky9800n/anaconda3/envs/aipipeline/lib/python3.11/site-packages (from geopandas) (23.2)\n",
      "Requirement already satisfied: pandas>=1.4.0 in /Users/mnky9800n/anaconda3/envs/aipipeline/lib/python3.11/site-packages (from geopandas) (2.1.4)\n",
      "Requirement already satisfied: pyproj>=3.3.0 in /Users/mnky9800n/anaconda3/envs/aipipeline/lib/python3.11/site-packages (from geopandas) (3.6.1)\n",
      "Requirement already satisfied: contourpy>=1.0.1 in /Users/mnky9800n/anaconda3/envs/aipipeline/lib/python3.11/site-packages (from matplotlib) (1.2.0)\n",
      "Requirement already satisfied: cycler>=0.10 in /Users/mnky9800n/anaconda3/envs/aipipeline/lib/python3.11/site-packages (from matplotlib) (0.12.1)\n",
      "Requirement already satisfied: fonttools>=4.22.0 in /Users/mnky9800n/anaconda3/envs/aipipeline/lib/python3.11/site-packages (from matplotlib) (4.46.0)\n",
      "Requirement already satisfied: kiwisolver>=1.3.1 in /Users/mnky9800n/anaconda3/envs/aipipeline/lib/python3.11/site-packages (from matplotlib) (1.4.5)\n",
      "Requirement already satisfied: pillow>=8 in /Users/mnky9800n/anaconda3/envs/aipipeline/lib/python3.11/site-packages (from matplotlib) (10.1.0)\n",
      "Requirement already satisfied: pyparsing>=2.3.1 in /Users/mnky9800n/anaconda3/envs/aipipeline/lib/python3.11/site-packages (from matplotlib) (3.1.1)\n",
      "Requirement already satisfied: python-dateutil>=2.7 in /Users/mnky9800n/anaconda3/envs/aipipeline/lib/python3.11/site-packages (from matplotlib) (2.8.2)\n",
      "Requirement already satisfied: requests>=2.5.0 in /Users/mnky9800n/anaconda3/envs/aipipeline/lib/python3.11/site-packages (from cdsapi) (2.31.0)\n",
      "Requirement already satisfied: tqdm in /Users/mnky9800n/anaconda3/envs/aipipeline/lib/python3.11/site-packages (from cdsapi) (4.66.1)\n",
      "Requirement already satisfied: rasterio>=1.2 in /Users/mnky9800n/anaconda3/envs/aipipeline/lib/python3.11/site-packages (from rioxarray) (1.3.9)\n",
      "Requirement already satisfied: cftime in /Users/mnky9800n/anaconda3/envs/aipipeline/lib/python3.11/site-packages (from netcdf4) (1.6.3)\n",
      "Requirement already satisfied: certifi in /Users/mnky9800n/anaconda3/envs/aipipeline/lib/python3.11/site-packages (from netcdf4) (2023.11.17)\n",
      "Requirement already satisfied: attrs>=19.2.0 in /Users/mnky9800n/anaconda3/envs/aipipeline/lib/python3.11/site-packages (from fiona>=1.8.21->geopandas) (23.1.0)\n",
      "Requirement already satisfied: click~=8.0 in /Users/mnky9800n/anaconda3/envs/aipipeline/lib/python3.11/site-packages (from fiona>=1.8.21->geopandas) (8.1.7)\n",
      "Requirement already satisfied: click-plugins>=1.0 in /Users/mnky9800n/anaconda3/envs/aipipeline/lib/python3.11/site-packages (from fiona>=1.8.21->geopandas) (1.1.1)\n",
      "Requirement already satisfied: cligj>=0.5 in /Users/mnky9800n/anaconda3/envs/aipipeline/lib/python3.11/site-packages (from fiona>=1.8.21->geopandas) (0.7.2)\n",
      "Requirement already satisfied: six in /Users/mnky9800n/anaconda3/envs/aipipeline/lib/python3.11/site-packages (from fiona>=1.8.21->geopandas) (1.16.0)\n",
      "Requirement already satisfied: setuptools in /Users/mnky9800n/anaconda3/envs/aipipeline/lib/python3.11/site-packages (from fiona>=1.8.21->geopandas) (68.0.0)\n",
      "Requirement already satisfied: pytz>=2020.1 in /Users/mnky9800n/anaconda3/envs/aipipeline/lib/python3.11/site-packages (from pandas>=1.4.0->geopandas) (2023.3.post1)\n",
      "Requirement already satisfied: tzdata>=2022.1 in /Users/mnky9800n/anaconda3/envs/aipipeline/lib/python3.11/site-packages (from pandas>=1.4.0->geopandas) (2023.3)\n",
      "Requirement already satisfied: affine in /Users/mnky9800n/anaconda3/envs/aipipeline/lib/python3.11/site-packages (from rasterio>=1.2->rioxarray) (2.4.0)\n",
      "Requirement already satisfied: snuggs>=1.4.1 in /Users/mnky9800n/anaconda3/envs/aipipeline/lib/python3.11/site-packages (from rasterio>=1.2->rioxarray) (1.4.7)\n",
      "Requirement already satisfied: charset-normalizer<4,>=2 in /Users/mnky9800n/anaconda3/envs/aipipeline/lib/python3.11/site-packages (from requests>=2.5.0->cdsapi) (3.3.2)\n",
      "Requirement already satisfied: idna<4,>=2.5 in /Users/mnky9800n/anaconda3/envs/aipipeline/lib/python3.11/site-packages (from requests>=2.5.0->cdsapi) (3.6)\n",
      "Requirement already satisfied: urllib3<3,>=1.21.1 in /Users/mnky9800n/anaconda3/envs/aipipeline/lib/python3.11/site-packages (from requests>=2.5.0->cdsapi) (2.1.0)\n"
     ]
    }
   ],
   "source": [
    "!pip install geopandas matplotlib shapely cdsapi numpy xarray rioxarray netcdf4 scipy"
   ]
  },
  {
   "cell_type": "code",
   "execution_count": 2,
   "id": "d0e06560-e2d8-4161-b166-f0ea1b30c29e",
   "metadata": {},
   "outputs": [],
   "source": [
    "import geopandas as gpd\n",
    "import ast\n",
    "import shapely\n",
    "import numpy as np\n",
    "import xarray as xr"
   ]
  },
  {
   "cell_type": "code",
   "execution_count": null,
   "id": "b66a1f54-0fa1-43e3-ba67-b8c242cccc45",
   "metadata": {},
   "outputs": [],
   "source": [
    "def convert_gee_geo(row):\n",
    "    le = ast.literal_eval(row['.geo'])\n",
    "    return shapely.Polygon(le['coordinates'][0])\n",
    "\n",
    "def read_gsw_file(loc):\n",
    "    df = gpd.read_file(loc)\n",
    "    df.columns = ['system:index',\n",
    "     'COAST',\n",
    "     'DIST_MAIN',\n",
    "     'DIST_SINK',\n",
    "     'ENDO',\n",
    "     'HYBAS_ID',\n",
    "     'MAIN_BAS',\n",
    "     'NEXT_DOWN',\n",
    "     'NEXT_SINK',\n",
    "     'ORDER',\n",
    "     'PFAF_ID',\n",
    "     'SORT',\n",
    "     'SUB_AREA',\n",
    "     'UP_AREA',\n",
    "     'water_balance',\n",
    "     '.geo',\n",
    "     'geometry']\n",
    "    df['SUB_AREA'] = df.SUB_AREA.apply(float)\n",
    "    df['water_balance'] = df.water_balance.astype(float) * df.SUB_AREA\n",
    "    df['.geo'] = df.apply(convert_gee_geo, axis=1)\n",
    "    df.set_geometry('.geo', inplace=True)\n",
    "    df.set_crs(\"EPSG:4326\", inplace=True)\n",
    "\n",
    "    return df"
   ]
  },
  {
   "cell_type": "code",
   "execution_count": 3,
   "id": "383568bc-1f6a-4796-a417-7d7681ee3fa6",
   "metadata": {},
   "outputs": [
    {
     "data": {
      "text/plain": [
       "''"
      ]
     },
     "execution_count": 3,
     "metadata": {},
     "output_type": "execute_result"
    }
   ],
   "source": [
    "# df = gpd.read_file('data/diff_hb_2010.csv')\n",
    "# # df.set_geometry('.geo', inplace=True)\n",
    "# df.columns = ['system:index',\n",
    "#  'COAST',\n",
    "#  'DIST_MAIN',\n",
    "#  'DIST_SINK',\n",
    "#  'ENDO',\n",
    "#  'HYBAS_ID',\n",
    "#  'MAIN_BAS',\n",
    "#  'NEXT_DOWN',\n",
    "#  'NEXT_SINK',\n",
    "#  'ORDER',\n",
    "#  'PFAF_ID',\n",
    "#  'SORT',\n",
    "#  'SUB_AREA',\n",
    "#  'UP_AREA',\n",
    "#  'water_balance',\n",
    "#  '.geo',\n",
    "#  'geometry']\n",
    "# df['SUB_AREA'] = df.SUB_AREA.apply(float)\n",
    "\n",
    "# def convert_gee_geo(row):\n",
    "#     le = ast.literal_eval(row['.geo'])\n",
    "#     return shapely.Polygon(le['coordinates'][0])\n",
    "\n",
    "# df['.geo'] = df.apply(convert_gee_geo, axis=1)\n",
    "# df.set_geometry('.geo', inplace=True)\n",
    "# df.set_crs(\"EPSG:4326\", inplace=True)\n",
    "# ''\n",
    "df = read_gsw_file(loc='data/diff_hb_2010.csv')"
   ]
  },
  {
   "cell_type": "code",
   "execution_count": 4,
   "id": "8a71a65a-9944-4754-b202-f9bd76700f39",
   "metadata": {},
   "outputs": [
    {
     "data": {
      "text/plain": [
       "<Geographic 2D CRS: EPSG:4326>\n",
       "Name: WGS 84\n",
       "Axis Info [ellipsoidal]:\n",
       "- Lat[north]: Geodetic latitude (degree)\n",
       "- Lon[east]: Geodetic longitude (degree)\n",
       "Area of Use:\n",
       "- name: World.\n",
       "- bounds: (-180.0, -90.0, 180.0, 90.0)\n",
       "Datum: World Geodetic System 1984 ensemble\n",
       "- Ellipsoid: WGS 84\n",
       "- Prime Meridian: Greenwich"
      ]
     },
     "execution_count": 4,
     "metadata": {},
     "output_type": "execute_result"
    }
   ],
   "source": [
    "# df.crs"
   ]
  },
  {
   "cell_type": "code",
   "execution_count": 5,
   "id": "35ad3085-634d-4e15-874c-35fe2ea2fde4",
   "metadata": {},
   "outputs": [
    {
     "data": {
      "text/html": [
       "<div>\n",
       "<style scoped>\n",
       "    .dataframe tbody tr th:only-of-type {\n",
       "        vertical-align: middle;\n",
       "    }\n",
       "\n",
       "    .dataframe tbody tr th {\n",
       "        vertical-align: top;\n",
       "    }\n",
       "\n",
       "    .dataframe thead th {\n",
       "        text-align: right;\n",
       "    }\n",
       "</style>\n",
       "<table border=\"1\" class=\"dataframe\">\n",
       "  <thead>\n",
       "    <tr style=\"text-align: right;\">\n",
       "      <th></th>\n",
       "      <th>system:index</th>\n",
       "      <th>COAST</th>\n",
       "      <th>DIST_MAIN</th>\n",
       "      <th>DIST_SINK</th>\n",
       "      <th>ENDO</th>\n",
       "      <th>HYBAS_ID</th>\n",
       "      <th>MAIN_BAS</th>\n",
       "      <th>NEXT_DOWN</th>\n",
       "      <th>NEXT_SINK</th>\n",
       "      <th>ORDER</th>\n",
       "      <th>PFAF_ID</th>\n",
       "      <th>SORT</th>\n",
       "      <th>SUB_AREA</th>\n",
       "      <th>UP_AREA</th>\n",
       "      <th>water_balance</th>\n",
       "      <th>.geo</th>\n",
       "      <th>geometry</th>\n",
       "    </tr>\n",
       "  </thead>\n",
       "  <tbody>\n",
       "    <tr>\n",
       "      <th>0</th>\n",
       "      <td>000000000000000017e6</td>\n",
       "      <td>0</td>\n",
       "      <td>2331.1</td>\n",
       "      <td>2331.1</td>\n",
       "      <td>0</td>\n",
       "      <td>4060788280</td>\n",
       "      <td>4060025450</td>\n",
       "      <td>4060786650</td>\n",
       "      <td>4060025450</td>\n",
       "      <td>1</td>\n",
       "      <td>452973</td>\n",
       "      <td>1270</td>\n",
       "      <td>3752.1</td>\n",
       "      <td>109042.1</td>\n",
       "      <td>-4.3645418887584754E-4</td>\n",
       "      <td>POLYGON ((89.08298 29.29755, 89.08368 29.29341...</td>\n",
       "      <td>None</td>\n",
       "    </tr>\n",
       "    <tr>\n",
       "      <th>1</th>\n",
       "      <td>000000000000000017e7</td>\n",
       "      <td>0</td>\n",
       "      <td>2413.2</td>\n",
       "      <td>2413.2</td>\n",
       "      <td>0</td>\n",
       "      <td>4060787190</td>\n",
       "      <td>4060025450</td>\n",
       "      <td>4060788280</td>\n",
       "      <td>4060025450</td>\n",
       "      <td>1</td>\n",
       "      <td>452975</td>\n",
       "      <td>1276</td>\n",
       "      <td>415.0</td>\n",
       "      <td>97861.7</td>\n",
       "      <td>-0.0034816855108332043</td>\n",
       "      <td>POLYGON ((88.87860 29.47575, 88.87973 29.46446...</td>\n",
       "      <td>None</td>\n",
       "    </tr>\n",
       "    <tr>\n",
       "      <th>2</th>\n",
       "      <td>000000000000000017e8</td>\n",
       "      <td>0</td>\n",
       "      <td>2439.8</td>\n",
       "      <td>2439.8</td>\n",
       "      <td>0</td>\n",
       "      <td>4060787530</td>\n",
       "      <td>4060025450</td>\n",
       "      <td>4060787190</td>\n",
       "      <td>4060025450</td>\n",
       "      <td>1</td>\n",
       "      <td>452977</td>\n",
       "      <td>1278</td>\n",
       "      <td>3658.4</td>\n",
       "      <td>83214.7</td>\n",
       "      <td>-6.444749856863318E-4</td>\n",
       "      <td>POLYGON ((88.24583 29.74583, 88.24619 29.73921...</td>\n",
       "      <td>None</td>\n",
       "    </tr>\n",
       "    <tr>\n",
       "      <th>3</th>\n",
       "      <td>000000000000000017e9</td>\n",
       "      <td>0</td>\n",
       "      <td>2497.1</td>\n",
       "      <td>2497.1</td>\n",
       "      <td>0</td>\n",
       "      <td>4060787180</td>\n",
       "      <td>4060025450</td>\n",
       "      <td>4060787530</td>\n",
       "      <td>4060025450</td>\n",
       "      <td>1</td>\n",
       "      <td>452979</td>\n",
       "      <td>1283</td>\n",
       "      <td>2983.2</td>\n",
       "      <td>74088.8</td>\n",
       "      <td>6.538828913250759E-5</td>\n",
       "      <td>POLYGON ((87.86667 29.57083, 87.86723 29.55612...</td>\n",
       "      <td>None</td>\n",
       "    </tr>\n",
       "    <tr>\n",
       "      <th>4</th>\n",
       "      <td>000000000000000017ea</td>\n",
       "      <td>0</td>\n",
       "      <td>2554.1</td>\n",
       "      <td>2554.1</td>\n",
       "      <td>0</td>\n",
       "      <td>4060785160</td>\n",
       "      <td>4060025450</td>\n",
       "      <td>4060787180</td>\n",
       "      <td>4060025450</td>\n",
       "      <td>1</td>\n",
       "      <td>452991</td>\n",
       "      <td>1286</td>\n",
       "      <td>12286.5</td>\n",
       "      <td>51219.8</td>\n",
       "      <td>3.570443481052973E-4</td>\n",
       "      <td>POLYGON ((85.17464 29.25171, 85.17535 29.24757...</td>\n",
       "      <td>None</td>\n",
       "    </tr>\n",
       "  </tbody>\n",
       "</table>\n",
       "</div>"
      ],
      "text/plain": [
       "           system:index COAST DIST_MAIN DIST_SINK ENDO    HYBAS_ID  \\\n",
       "0  000000000000000017e6     0    2331.1    2331.1    0  4060788280   \n",
       "1  000000000000000017e7     0    2413.2    2413.2    0  4060787190   \n",
       "2  000000000000000017e8     0    2439.8    2439.8    0  4060787530   \n",
       "3  000000000000000017e9     0    2497.1    2497.1    0  4060787180   \n",
       "4  000000000000000017ea     0    2554.1    2554.1    0  4060785160   \n",
       "\n",
       "     MAIN_BAS   NEXT_DOWN   NEXT_SINK ORDER PFAF_ID  SORT  SUB_AREA   UP_AREA  \\\n",
       "0  4060025450  4060786650  4060025450     1  452973  1270    3752.1  109042.1   \n",
       "1  4060025450  4060788280  4060025450     1  452975  1276     415.0   97861.7   \n",
       "2  4060025450  4060787190  4060025450     1  452977  1278    3658.4   83214.7   \n",
       "3  4060025450  4060787530  4060025450     1  452979  1283    2983.2   74088.8   \n",
       "4  4060025450  4060787180  4060025450     1  452991  1286   12286.5   51219.8   \n",
       "\n",
       "            water_balance                                               .geo  \\\n",
       "0  -4.3645418887584754E-4  POLYGON ((89.08298 29.29755, 89.08368 29.29341...   \n",
       "1  -0.0034816855108332043  POLYGON ((88.87860 29.47575, 88.87973 29.46446...   \n",
       "2   -6.444749856863318E-4  POLYGON ((88.24583 29.74583, 88.24619 29.73921...   \n",
       "3    6.538828913250759E-5  POLYGON ((87.86667 29.57083, 87.86723 29.55612...   \n",
       "4    3.570443481052973E-4  POLYGON ((85.17464 29.25171, 85.17535 29.24757...   \n",
       "\n",
       "  geometry  \n",
       "0     None  \n",
       "1     None  \n",
       "2     None  \n",
       "3     None  \n",
       "4     None  "
      ]
     },
     "execution_count": 5,
     "metadata": {},
     "output_type": "execute_result"
    }
   ],
   "source": [
    "# df.head()"
   ]
  },
  {
   "cell_type": "code",
   "execution_count": 6,
   "id": "9d00eea3-cf94-411a-8cf7-fe0a5b0e3d58",
   "metadata": {},
   "outputs": [],
   "source": [
    "df['water_balance'] = df.water_balance.astype(float) * df.SUB_AREA # 30m by 30m pixels / "
   ]
  },
  {
   "cell_type": "code",
   "execution_count": 7,
   "id": "dc7582c1-cb4b-415b-a0f0-cde6893ffe03",
   "metadata": {},
   "outputs": [
    {
     "data": {
      "text/plain": [
       "<Axes: >"
      ]
     },
     "execution_count": 7,
     "metadata": {},
     "output_type": "execute_result"
    },
    {
     "data": {
      "image/png": "[encoded data removed]",
      "text/plain": [
       "<Figure size 640x480 with 1 Axes>"
      ]
     },
     "metadata": {},
     "output_type": "display_data"
    }
   ],
   "source": [
    "df.water_balance.hist(bins=100)"
   ]
  },
  {
   "cell_type": "code",
   "execution_count": 8,
   "id": "0e4dbec4-d20f-4ad2-a34c-8f11506bb4d9",
   "metadata": {},
   "outputs": [
    {
     "data": {
      "text/plain": [
       "<Axes: >"
      ]
     },
     "execution_count": 8,
     "metadata": {},
     "output_type": "execute_result"
    },
    {
     "data": {
      "image/png": "[encoded data removed]",
      "text/plain": [
       "<Figure size 640x480 with 1 Axes>"
      ]
     },
     "metadata": {},
     "output_type": "display_data"
    }
   ],
   "source": [
    "df.plot('water_balance', cmap='nipy_spectral', vmin=-5, vmax=5)\n"
   ]
  },
  {
   "cell_type": "code",
   "execution_count": null,
   "id": "4ba90e6d-a94c-4554-bd62-c029aace7948",
   "metadata": {},
   "outputs": [
    {
     "name": "stderr",
     "output_type": "stream",
     "text": [
      "2023-12-15 16:17:50,800 INFO Welcome to the CDS\n",
      "2023-12-15 16:17:50,801 INFO Sending request to https://cds.climate.copernicus.eu/api/v2/resources/reanalysis-era5-land\n",
      "2023-12-15 16:17:50,897 INFO Request is queued\n",
      "2023-12-15 16:17:51,953 INFO Request is running\n",
      "2023-12-15 16:19:44,775 INFO Request is completed\n",
      "2023-12-15 16:19:44,779 INFO Downloading https://download-0007-clone.copernicus-climate.eu/cache-compute-0007/cache/data1/adaptor.mars.internal-1702653546.1472669-15972-5-f346275e-fe55-43a9-b040-7188577a0b28.zip to precip-2000netcdf.zip (24.5M)\n",
      "2023-12-15 16:19:54,926 INFO Download rate 2.4M/s                                                                  \n",
      "2023-12-15 16:19:55,024 INFO Welcome to the CDS\n",
      "2023-12-15 16:19:55,025 INFO Sending request to https://cds.climate.copernicus.eu/api/v2/resources/reanalysis-era5-land\n",
      "2023-12-15 16:19:55,104 INFO Request is queued\n",
      "2023-12-15 16:19:56,152 INFO Request is running\n",
      "2023-12-15 16:21:48,976 INFO Request is completed\n",
      "2023-12-15 16:21:48,978 INFO Downloading https://download-0005-clone.copernicus-climate.eu/cache-compute-0005/cache/data0/adaptor.mars.internal-1702653670.376359-24433-5-99676515-51d5-4c5e-a698-b80db195d4ea.zip to precip-2001netcdf.zip (24.5M)\n",
      "2023-12-15 16:22:00,395 INFO Download rate 2.1M/s                                                                  \n",
      "2023-12-15 16:22:00,491 INFO Welcome to the CDS\n",
      "2023-12-15 16:22:00,492 INFO Sending request to https://cds.climate.copernicus.eu/api/v2/resources/reanalysis-era5-land\n",
      "2023-12-15 16:22:00,545 INFO Request is queued\n",
      "2023-12-15 16:22:01,608 INFO Request is running\n",
      "2023-12-15 16:23:54,447 INFO Request is completed\n",
      "2023-12-15 16:23:54,448 INFO Downloading https://download-0012-clone.copernicus-climate.eu/cache-compute-0012/cache/data8/adaptor.mars.internal-1702653802.2580738-5503-5-f4868197-4bad-400c-a5d5-dc0897e86635.zip to precip-2002netcdf.zip (24.6M)\n",
      "2023-12-15 16:24:07,577 INFO Download rate 1.9M/s                                                                  \n",
      "2023-12-15 16:24:07,676 INFO Welcome to the CDS\n",
      "2023-12-15 16:24:07,677 INFO Sending request to https://cds.climate.copernicus.eu/api/v2/resources/reanalysis-era5-land\n",
      "2023-12-15 16:24:07,746 INFO Request is queued\n",
      "2023-12-15 16:24:08,799 INFO Request is running\n",
      "2023-12-15 16:26:01,622 INFO Request is completed\n",
      "2023-12-15 16:26:01,622 INFO Downloading https://download-0001-clone.copernicus-climate.eu/cache-compute-0001/cache/data1/adaptor.mars.internal-1702653924.1805503-16040-17-a4d5e00f-393f-4b48-90fc-7806748e9d83.zip to precip-2003netcdf.zip (25M)\n",
      "2023-12-15 16:26:08,246 INFO Download rate 3.8M/s                                                                  \n",
      "2023-12-15 16:26:08,345 INFO Welcome to the CDS\n",
      "2023-12-15 16:26:08,346 INFO Sending request to https://cds.climate.copernicus.eu/api/v2/resources/reanalysis-era5-land\n",
      "2023-12-15 16:26:08,399 INFO Request is queued\n",
      "2023-12-15 16:26:09,456 INFO Request is running\n",
      "2023-12-15 16:28:02,268 INFO Request is completed\n",
      "2023-12-15 16:28:02,269 INFO Downloading https://download-0000-clone.copernicus-climate.eu/cache-compute-0000/cache/data0/adaptor.mars.internal-1702654052.1932611-19507-15-4bb04758-21cc-4ddf-b092-3f8dbb256c65.zip to precip-2004netcdf.zip (24.6M)\n",
      "2023-12-15 16:28:03,775 INFO Download rate 16.3M/s                                                                 \n",
      "2023-12-15 16:28:03,870 INFO Welcome to the CDS\n",
      "2023-12-15 16:28:03,871 INFO Sending request to https://cds.climate.copernicus.eu/api/v2/resources/reanalysis-era5-land\n",
      "2023-12-15 16:28:03,935 INFO Request is queued\n",
      "2023-12-15 16:28:04,987 INFO Request is running\n",
      "2023-12-15 16:29:57,786 INFO Request is completed\n",
      "2023-12-15 16:29:57,787 INFO Downloading https://download-0011-clone.copernicus-climate.eu/cache-compute-0011/cache/data1/adaptor.mars.internal-1702654162.9454856-3998-17-b79e7082-7ebc-4358-a2f5-e6178cdc8b35.zip to precip-2005netcdf.zip (25.8M)\n",
      "2023-12-15 16:29:59,400 INFO Download rate 16M/s                                                                   \n",
      "2023-12-15 16:29:59,509 INFO Welcome to the CDS\n",
      "2023-12-15 16:29:59,510 INFO Sending request to https://cds.climate.copernicus.eu/api/v2/resources/reanalysis-era5-land\n",
      "2023-12-15 16:29:59,874 INFO Request is queued\n",
      "2023-12-15 16:30:00,934 INFO Request is running\n",
      "2023-12-15 16:31:53,753 INFO Request is completed\n",
      "2023-12-15 16:31:53,755 INFO Downloading https://download-0008-clone.copernicus-climate.eu/cache-compute-0008/cache/data2/adaptor.mars.internal-1702654274.0429714-8715-19-b5b4ce62-5466-4f14-91cf-02939b2ee31b.zip to precip-2006netcdf.zip (24.8M)\n",
      "2023-12-15 16:32:03,826 INFO Download rate 2.5M/s                                                                  \n",
      "2023-12-15 16:32:03,924 INFO Welcome to the CDS\n",
      "2023-12-15 16:32:03,925 INFO Sending request to https://cds.climate.copernicus.eu/api/v2/resources/reanalysis-era5-land\n",
      "2023-12-15 16:32:04,286 INFO Request is queued\n",
      "2023-12-15 16:32:05,338 INFO Request is running\n"
     ]
    }
   ],
   "source": [
    "downloaded = False\n",
    "\n",
    "if downloaded == False:\n",
    "\n",
    "    import cdsapi\n",
    "\n",
    "    c = cdsapi.Client()\n",
    "\n",
    "    years = np.arange(2000, 2022, 1)\n",
    "    days = [\n",
    "                '01', '02', '03',\n",
    "                '04', '05', '06',\n",
    "                '07', '08', '09',\n",
    "                '10', '11', '12',\n",
    "                '13', '14', '15',\n",
    "                '16', '17', '18',\n",
    "                '19', '20', '21',\n",
    "                '22', '23', '24',\n",
    "                '25', '26', '27',\n",
    "                '28', '29', '30',\n",
    "                '31',\n",
    "            ]\n",
    "    months = ['01', '02', '03', '04', '05', '06', '07', '08', '09', '10', '11', '12']\n",
    "    times = '23:00'\n",
    "    area = [45, 68, 24, 107]\n",
    "\n",
    "    for year in years:\n",
    "        year = str(year)\n",
    "        c.retrieve('reanalysis-era5-land', {'year':year, 'month':months, 'time':times, 'day':days, 'area':area\n",
    "                                           ,'variable':'total_precipitation', 'format':'netcdf.zip'}\n",
    "                  ,'precip-'+year+'netcdf.zip')\n",
    "\n",
    "# now we need to unzip the data\n",
    "if downloaded == False:\n",
    "    import glob\n",
    "    import shutil\n",
    "    for f in glob.glob('data/precip/*'):\n",
    "        unzipped_filename = f.split('-')[1][0:4]\n",
    "        shutil.unpack_archive(f, unzipped_filename)"
   ]
  },
  {
   "cell_type": "code",
   "execution_count": 67,
   "id": "25fba2ae-2251-4e35-bb56-dfa5b2a15eb8",
   "metadata": {},
   "outputs": [],
   "source": [
    "precip2010 = xr.open_dataset('data/precip/2010data.nc')\n",
    "precip2011 = xr.open_dataset('data/precip/2011data.nc')\n",
    "precip = xr.concat([precip2010, precip2011], dim=['longitude', 'latitude'])\n",
    "# precip = precip.rio.set_crs(df.crs)\n",
    "precip = precip.rio.write_crs(df.crs)\n",
    "means = [precip.rio.clip([poly], df.crs).tp.mean().item() for poly in df['.geo'].values]\n",
    "stdev = [precip.rio.clip([poly], df.crs).tp.std().item() for poly in df['.geo'].values]"
   ]
  },
  {
   "cell_type": "code",
   "execution_count": 69,
   "id": "8bf90a77-f269-492e-b381-ee3f439274c0",
   "metadata": {},
   "outputs": [],
   "source": [
    "df['precip_means'] = means\n",
    "df['precip_stdev'] = stdev"
   ]
  },
  {
   "cell_type": "code",
   "execution_count": 72,
   "id": "d6229873-a95a-4729-8db7-f54f8de699c0",
   "metadata": {},
   "outputs": [],
   "source": [
    "[c for c in df.columns]\n",
    "cols = ['DIST_MAIN',\n",
    " 'DIST_SINK',\n",
    " 'ENDO',\n",
    " 'SUB_AREA',\n",
    " 'water_balance',\n",
    " 'precip_means',\n",
    " 'precip_stdev']"
   ]
  },
  {
   "cell_type": "code",
   "execution_count": 73,
   "id": "57b9c798-49f7-477a-a0bf-d222bd27b167",
   "metadata": {},
   "outputs": [
    {
     "data": {
      "text/html": [
       "<div>\n",
       "<style scoped>\n",
       "    .dataframe tbody tr th:only-of-type {\n",
       "        vertical-align: middle;\n",
       "    }\n",
       "\n",
       "    .dataframe tbody tr th {\n",
       "        vertical-align: top;\n",
       "    }\n",
       "\n",
       "    .dataframe thead th {\n",
       "        text-align: right;\n",
       "    }\n",
       "</style>\n",
       "<table border=\"1\" class=\"dataframe\">\n",
       "  <thead>\n",
       "    <tr style=\"text-align: right;\">\n",
       "      <th></th>\n",
       "      <th>DIST_MAIN</th>\n",
       "      <th>DIST_SINK</th>\n",
       "      <th>ENDO</th>\n",
       "      <th>SUB_AREA</th>\n",
       "      <th>water_balance</th>\n",
       "      <th>precip_means</th>\n",
       "      <th>precip_stdev</th>\n",
       "    </tr>\n",
       "  </thead>\n",
       "  <tbody>\n",
       "    <tr>\n",
       "      <th>DIST_MAIN</th>\n",
       "      <td>1.000000</td>\n",
       "      <td>0.951889</td>\n",
       "      <td>-0.897286</td>\n",
       "      <td>-0.213923</td>\n",
       "      <td>-0.342341</td>\n",
       "      <td>0.172375</td>\n",
       "      <td>0.116924</td>\n",
       "    </tr>\n",
       "    <tr>\n",
       "      <th>DIST_SINK</th>\n",
       "      <td>0.951889</td>\n",
       "      <td>1.000000</td>\n",
       "      <td>-0.947600</td>\n",
       "      <td>-0.163377</td>\n",
       "      <td>-0.322812</td>\n",
       "      <td>0.183438</td>\n",
       "      <td>0.140031</td>\n",
       "    </tr>\n",
       "    <tr>\n",
       "      <th>ENDO</th>\n",
       "      <td>-0.897286</td>\n",
       "      <td>-0.947600</td>\n",
       "      <td>1.000000</td>\n",
       "      <td>-0.002089</td>\n",
       "      <td>0.396147</td>\n",
       "      <td>-0.413402</td>\n",
       "      <td>-0.368460</td>\n",
       "    </tr>\n",
       "    <tr>\n",
       "      <th>SUB_AREA</th>\n",
       "      <td>-0.213923</td>\n",
       "      <td>-0.163377</td>\n",
       "      <td>-0.002089</td>\n",
       "      <td>1.000000</td>\n",
       "      <td>0.171883</td>\n",
       "      <td>0.614059</td>\n",
       "      <td>0.609010</td>\n",
       "    </tr>\n",
       "    <tr>\n",
       "      <th>water_balance</th>\n",
       "      <td>-0.342341</td>\n",
       "      <td>-0.322812</td>\n",
       "      <td>0.396147</td>\n",
       "      <td>0.171883</td>\n",
       "      <td>1.000000</td>\n",
       "      <td>-0.348371</td>\n",
       "      <td>-0.398678</td>\n",
       "    </tr>\n",
       "    <tr>\n",
       "      <th>precip_means</th>\n",
       "      <td>0.172375</td>\n",
       "      <td>0.183438</td>\n",
       "      <td>-0.413402</td>\n",
       "      <td>0.614059</td>\n",
       "      <td>-0.348371</td>\n",
       "      <td>1.000000</td>\n",
       "      <td>0.978998</td>\n",
       "    </tr>\n",
       "    <tr>\n",
       "      <th>precip_stdev</th>\n",
       "      <td>0.116924</td>\n",
       "      <td>0.140031</td>\n",
       "      <td>-0.368460</td>\n",
       "      <td>0.609010</td>\n",
       "      <td>-0.398678</td>\n",
       "      <td>0.978998</td>\n",
       "      <td>1.000000</td>\n",
       "    </tr>\n",
       "  </tbody>\n",
       "</table>\n",
       "</div>"
      ],
      "text/plain": [
       "               DIST_MAIN  DIST_SINK      ENDO  SUB_AREA  water_balance  \\\n",
       "DIST_MAIN       1.000000   0.951889 -0.897286 -0.213923      -0.342341   \n",
       "DIST_SINK       0.951889   1.000000 -0.947600 -0.163377      -0.322812   \n",
       "ENDO           -0.897286  -0.947600  1.000000 -0.002089       0.396147   \n",
       "SUB_AREA       -0.213923  -0.163377 -0.002089  1.000000       0.171883   \n",
       "water_balance  -0.342341  -0.322812  0.396147  0.171883       1.000000   \n",
       "precip_means    0.172375   0.183438 -0.413402  0.614059      -0.348371   \n",
       "precip_stdev    0.116924   0.140031 -0.368460  0.609010      -0.398678   \n",
       "\n",
       "               precip_means  precip_stdev  \n",
       "DIST_MAIN          0.172375      0.116924  \n",
       "DIST_SINK          0.183438      0.140031  \n",
       "ENDO              -0.413402     -0.368460  \n",
       "SUB_AREA           0.614059      0.609010  \n",
       "water_balance     -0.348371     -0.398678  \n",
       "precip_means       1.000000      0.978998  \n",
       "precip_stdev       0.978998      1.000000  "
      ]
     },
     "execution_count": 73,
     "metadata": {},
     "output_type": "execute_result"
    }
   ],
   "source": [
    "df[cols].corr()"
   ]
  },
  {
   "cell_type": "code",
   "execution_count": 74,
   "id": "feef3157-571c-48a4-a930-32bc550119d2",
   "metadata": {},
   "outputs": [
    {
     "data": {
      "text/plain": [
       "(39, 19)"
      ]
     },
     "execution_count": 74,
     "metadata": {},
     "output_type": "execute_result"
    }
   ],
   "source": [
    "df.shape"
   ]
  },
  {
   "cell_type": "code",
   "execution_count": 76,
   "id": "ea3a5d54-9eab-4a4e-a219-a37a58f83ea6",
   "metadata": {},
   "outputs": [
    {
     "data": {
      "text/plain": [
       "<Axes: xlabel='precip_stdev', ylabel='water_balance'>"
      ]
     },
     "execution_count": 76,
     "metadata": {},
     "output_type": "execute_result"
    },
    {
     "data": {
      "image/png": "[encoded data removed]",
      "text/plain": [
       "<Figure size 640x480 with 1 Axes>"
      ]
     },
     "metadata": {},
     "output_type": "display_data"
    }
   ],
   "source": [
    "df.plot.scatter('precip_stdev', 'water_balance')"
   ]
  },
  {
   "cell_type": "code",
   "execution_count": 77,
   "id": "32768465-c017-475b-9553-8f8b97a277a1",
   "metadata": {},
   "outputs": [],
   "source": [
    "# time to add more data..."
   ]
  }
 ],
 "metadata": {
  "kernelspec": {
   "display_name": "Python 3 (ipykernel)",
   "language": "python",
   "name": "python3"
  },
  "language_info": {
   "codemirror_mode": {
    "name": "ipython",
    "version": 3
   },
   "file_extension": ".py",
   "mimetype": "text/x-python",
   "name": "python",
   "nbconvert_exporter": "python",
   "pygments_lexer": "ipython3",
   "version": "3.11.5"
  }
 },
 "nbformat": 4,
 "nbformat_minor": 5
}
