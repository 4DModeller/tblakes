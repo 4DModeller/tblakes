{
 "cells": [
  {
   "cell_type": "code",
   "execution_count": 1,
   "id": "a1c0020d-fe6b-45a6-8e30-8a46a72b8c77",
   "metadata": {},
   "outputs": [],
   "source": [
    "import rasterio\n",
    "import numpy as np\n",
    "import pandas as pd\n",
    "import os\n"
   ]
  },
  {
   "cell_type": "code",
   "execution_count": 32,
   "id": "0ca7d003-f1e6-4aaa-b7d4-468e56634ddd",
   "metadata": {},
   "outputs": [],
   "source": [
    "def geotiff_to_dataframe(geotiff_path):\n",
    "    with rasterio.open(geotiff_path) as src:\n",
    "        data = src.read(1)  # Reading the first band\n",
    "        nodata = src.nodata\n",
    "\n",
    "        # Extracting coordinates and values\n",
    "        pixel_values = data.flatten()\n",
    "        rows, cols = np.indices(data.shape)\n",
    "        x_coords, y_coords = rasterio.transform.xy(src.transform, rows, cols, offset='center')\n",
    "        x_coords = np.array(x_coords).flatten()\n",
    "        y_coords = np.array(y_coords).flatten()\n",
    "        \n",
    "        varname = geotiff_path.split('_')[0]\n",
    "\n",
    "        # Creating DataFrame\n",
    "        df = pd.DataFrame({\n",
    "            'x_coord': x_coords,\n",
    "            'y_coord': y_coords,\n",
    "            # 'pixel_value': pixel_values\n",
    "            # f'{geotiff_path}':pixel_values\n",
    "            f'{varname}':pixel_values\n",
    "        })\n",
    "        # df = df[df['pixel_value'] != nodata]  # Removing NoData values\n",
    "        # df = df[df[f'{geotiff_path}'] != nodata]  # Removing NoData values\n",
    "        df = df[df[f'{varname}'] != nodata]  # Removing NoData values\n",
    "        return df"
   ]
  },
  {
   "cell_type": "code",
   "execution_count": 33,
   "id": "4c9adaca-4031-4ce3-8fd3-fc97ef074a69",
   "metadata": {},
   "outputs": [],
   "source": [
    "def get_filenames_with_string(directory_path, search_string):\n",
    "    matching_filenames = []\n",
    "    for filename in os.listdir(directory_path):\n",
    "        if search_string in filename:\n",
    "            matching_filenames.append(filename)\n",
    "    return [directory_path + fn for fn in matching_filenames]\n"
   ]
  },
  {
   "cell_type": "code",
   "execution_count": 35,
   "id": "6016c5c8-f27d-4b30-834f-d8f1e3a54327",
   "metadata": {},
   "outputs": [
    {
     "data": {
      "text/html": [
       "<div>\n",
       "<style scoped>\n",
       "    .dataframe tbody tr th:only-of-type {\n",
       "        vertical-align: middle;\n",
       "    }\n",
       "\n",
       "    .dataframe tbody tr th {\n",
       "        vertical-align: top;\n",
       "    }\n",
       "\n",
       "    .dataframe thead th {\n",
       "        text-align: right;\n",
       "    }\n",
       "</style>\n",
       "<table border=\"1\" class=\"dataframe\">\n",
       "  <thead>\n",
       "    <tr style=\"text-align: right;\">\n",
       "      <th></th>\n",
       "      <th>x_coord</th>\n",
       "      <th>y_coord</th>\n",
       "      <th>EarthEngineData/Temperature</th>\n",
       "    </tr>\n",
       "  </thead>\n",
       "  <tbody>\n",
       "    <tr>\n",
       "      <th>count</th>\n",
       "      <td>280000.000000</td>\n",
       "      <td>280000.000000</td>\n",
       "      <td>274964.000000</td>\n",
       "    </tr>\n",
       "    <tr>\n",
       "      <th>mean</th>\n",
       "      <td>89.984242</td>\n",
       "      <td>34.037166</td>\n",
       "      <td>281.319144</td>\n",
       "    </tr>\n",
       "    <tr>\n",
       "      <th>std</th>\n",
       "      <td>11.557451</td>\n",
       "      <td>6.359984</td>\n",
       "      <td>11.233781</td>\n",
       "    </tr>\n",
       "    <tr>\n",
       "      <th>min</th>\n",
       "      <td>69.974269</td>\n",
       "      <td>23.001363</td>\n",
       "      <td>251.367224</td>\n",
       "    </tr>\n",
       "    <tr>\n",
       "      <th>25%</th>\n",
       "      <td>79.979256</td>\n",
       "      <td>28.559689</td>\n",
       "      <td>271.206523</td>\n",
       "    </tr>\n",
       "    <tr>\n",
       "      <th>50%</th>\n",
       "      <td>89.984242</td>\n",
       "      <td>34.037166</td>\n",
       "      <td>282.258041</td>\n",
       "    </tr>\n",
       "    <tr>\n",
       "      <th>75%</th>\n",
       "      <td>99.989228</td>\n",
       "      <td>39.514644</td>\n",
       "      <td>289.459022</td>\n",
       "    </tr>\n",
       "    <tr>\n",
       "      <th>max</th>\n",
       "      <td>109.994215</td>\n",
       "      <td>45.072969</td>\n",
       "      <td>300.759527</td>\n",
       "    </tr>\n",
       "  </tbody>\n",
       "</table>\n",
       "</div>"
      ],
      "text/plain": [
       "             x_coord        y_coord  EarthEngineData/Temperature\n",
       "count  280000.000000  280000.000000                274964.000000\n",
       "mean       89.984242      34.037166                   281.319144\n",
       "std        11.557451       6.359984                    11.233781\n",
       "min        69.974269      23.001363                   251.367224\n",
       "25%        79.979256      28.559689                   271.206523\n",
       "50%        89.984242      34.037166                   282.258041\n",
       "75%        99.989228      39.514644                   289.459022\n",
       "max       109.994215      45.072969                   300.759527"
      ]
     },
     "execution_count": 35,
     "metadata": {},
     "output_type": "execute_result"
    }
   ],
   "source": [
    "\n",
    "\n",
    "directory_path = 'EarthEngineData/'\n",
    "# all_dfs = []\n",
    "\n",
    "# for filename in os.listdir(directory_path):\n",
    "#     if filename.endswith('.tif'):\n",
    "#         df = geotiff_to_dataframe(os.path.join(directory_path, filename))\n",
    "#         all_dfs.append(df)\n",
    "\n",
    "# combined_df = pd.concat(all_dfs, ignore_index=True)\n",
    "\n",
    "pd.concat(list(map(geotiff_to_dataframe, get_filenames_with_string('EarthEngineData/', 'Temperature')))).describe()"
   ]
  },
  {
   "cell_type": "code",
   "execution_count": null,
   "id": "fafe4332-64ba-4f05-aa34-514aa75cb75f",
   "metadata": {},
   "outputs": [],
   "source": [
    "print('i started around 1223 and im lazy so i didnt actually timeit but now im going to lunch')"
   ]
  },
  {
   "cell_type": "code",
   "execution_count": null,
   "id": "2331b5c5-b8d1-492d-bd5d-09e498becff2",
   "metadata": {},
   "outputs": [],
   "source": []
  },
  {
   "cell_type": "code",
   "execution_count": null,
   "id": "215c7f54-88b8-4085-aef2-1c415b4186ee",
   "metadata": {},
   "outputs": [],
   "source": [
    "combined_df"
   ]
  },
  {
   "cell_type": "code",
   "execution_count": null,
   "id": "8b03be55-d8a3-4eef-97b6-98f179f221a7",
   "metadata": {},
   "outputs": [],
   "source": [
    "combined_df.to_csv('combined_data.csv', index=False)\n"
   ]
  }
 ],
 "metadata": {
  "kernelspec": {
   "display_name": "Python 3 (ipykernel)",
   "language": "python",
   "name": "python3"
  },
  "language_info": {
   "codemirror_mode": {
    "name": "ipython",
    "version": 3
   },
   "file_extension": ".py",
   "mimetype": "text/x-python",
   "name": "python",
   "nbconvert_exporter": "python",
   "pygments_lexer": "ipython3",
   "version": "3.8.16"
  }
 },
 "nbformat": 4,
 "nbformat_minor": 5
}
