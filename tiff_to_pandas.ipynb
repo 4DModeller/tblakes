{
 "cells": [
  {
   "cell_type": "code",
   "execution_count": 3,
   "id": "a1c0020d-fe6b-45a6-8e30-8a46a72b8c77",
   "metadata": {},
   "outputs": [],
   "source": [
    "import rasterio\n",
    "import numpy as np\n",
    "import pandas as pd"
   ]
  },
  {
   "cell_type": "code",
   "execution_count": 4,
   "id": "0ca7d003-f1e6-4aaa-b7d4-468e56634ddd",
   "metadata": {},
   "outputs": [],
   "source": [
    "def geotiff_to_dataframe(geotiff_path):\n",
    "    with rasterio.open(geotiff_path) as src:\n",
    "        data = src.read(1)  # Reading the first band\n",
    "        nodata = src.nodata\n",
    "\n",
    "        # Extracting coordinates and values\n",
    "        pixel_values = data.flatten()\n",
    "        rows, cols = np.indices(data.shape)\n",
    "        x_coords, y_coords = rasterio.transform.xy(src.transform, rows, cols, offset='center')\n",
    "        x_coords = np.array(x_coords).flatten()\n",
    "        y_coords = np.array(y_coords).flatten()\n",
    "\n",
    "        # Creating DataFrame\n",
    "        df = pd.DataFrame({\n",
    "            'x_coord': x_coords,\n",
    "            'y_coord': y_coords,\n",
    "            'pixel_value': pixel_values\n",
    "        })\n",
    "        df = df[df['pixel_value'] != nodata]  # Removing NoData values\n",
    "        return df"
   ]
  },
  {
   "cell_type": "code",
   "execution_count": null,
   "id": "6016c5c8-f27d-4b30-834f-d8f1e3a54327",
   "metadata": {},
   "outputs": [],
   "source": [
    "import os\n",
    "\n",
    "directory_path = 'EarthEngineData'\n",
    "all_dfs = []\n",
    "\n",
    "for filename in os.listdir(directory_path):\n",
    "    if filename.endswith('.tif'):\n",
    "        df = geotiff_to_dataframe(os.path.join(directory_path, filename))\n",
    "        all_dfs.append(df)\n",
    "\n",
    "combined_df = pd.concat(all_dfs, ignore_index=True)\n"
   ]
  },
  {
   "cell_type": "code",
   "execution_count": null,
   "id": "fafe4332-64ba-4f05-aa34-514aa75cb75f",
   "metadata": {},
   "outputs": [],
   "source": [
    "print('i started around 1223 and im lazy so i didnt actually timeit but now im going to lunch'"
   ]
  },
  {
   "cell_type": "code",
   "execution_count": null,
   "id": "8b03be55-d8a3-4eef-97b6-98f179f221a7",
   "metadata": {},
   "outputs": [],
   "source": [
    "combined_df.to_csv('combined_data.csv', index=False)\n"
   ]
  }
 ],
 "metadata": {
  "kernelspec": {
   "display_name": "Python 3 (ipykernel)",
   "language": "python",
   "name": "python3"
  },
  "language_info": {
   "codemirror_mode": {
    "name": "ipython",
    "version": 3
   },
   "file_extension": ".py",
   "mimetype": "text/x-python",
   "name": "python",
   "nbconvert_exporter": "python",
   "pygments_lexer": "ipython3",
   "version": "3.8.16"
  }
 },
 "nbformat": 4,
 "nbformat_minor": 5
}
