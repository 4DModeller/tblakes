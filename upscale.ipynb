{
 "cells": [
  {
   "cell_type": "code",
   "execution_count": 2,
   "id": "e350c553-8b07-454d-8b7e-9290089e421c",
   "metadata": {},
   "outputs": [
    {
     "data": {
      "text/html": [
       "<p>To authorize access needed by Earth Engine, open the following\n",
       "        URL in a web browser and follow the instructions:</p>\n",
       "        <p><a href=https://code.earthengine.google.com/client-auth?scopes=https%3A//www.googleapis.com/auth/earthengine%20https%3A//www.googleapis.com/auth/devstorage.full_control&request_id=qemg4XOmZkpcIC3ZY7uc2qQZ_dThCe6I9WtiReRiYSw&tc=bQUThcoRa0K_mDNR9A-U_cMH8gUBJ-J-uD5okOWJffk&cc=YrMZFMNODrcaJ2_3qGk7pmMYWnjxnS7tjpyDUaCw0NU>https://code.earthengine.google.com/client-auth?scopes=https%3A//www.googleapis.com/auth/earthengine%20https%3A//www.googleapis.com/auth/devstorage.full_control&request_id=qemg4XOmZkpcIC3ZY7uc2qQZ_dThCe6I9WtiReRiYSw&tc=bQUThcoRa0K_mDNR9A-U_cMH8gUBJ-J-uD5okOWJffk&cc=YrMZFMNODrcaJ2_3qGk7pmMYWnjxnS7tjpyDUaCw0NU</a></p>\n",
       "        <p>The authorization workflow will generate a code, which you should paste in the box below.</p>\n",
       "        "
      ],
      "text/plain": [
       "<IPython.core.display.HTML object>"
      ]
     },
     "metadata": {},
     "output_type": "display_data"
    },
    {
     "name": "stdin",
     "output_type": "stream",
     "text": [
      "Enter verification code:  4/1AfJohXlETyvRvc8g_CU8xYVJ8naQ1Wd2SfWTWWgX7ZEv-a6dttVDchQG31M\n"
     ]
    },
    {
     "name": "stdout",
     "output_type": "stream",
     "text": [
      "\n",
      "Successfully saved authorization token.\n"
     ]
    }
   ],
   "source": [
    "import ee\n",
    "\n",
    "ee.Authenticate()\n",
    "ee.Initialize()"
   ]
  },
  {
   "cell_type": "code",
   "execution_count": 31,
   "id": "bcd7d4fc-48ce-49ec-874e-cf473319e4f8",
   "metadata": {},
   "outputs": [],
   "source": [
    "import folium\n"
   ]
  },
  {
   "cell_type": "code",
   "execution_count": 11,
   "id": "fa016017-fd07-40a1-ab9f-4a349c41a872",
   "metadata": {},
   "outputs": [],
   "source": [
    "# import ee\n",
    "# ee.Initialize()\n",
    "\n",
    "# Load the ImageCollection\n",
    "gsw_monthly = ee.ImageCollection('JRC/GSW1_4/MonthlyHistory')\n",
    "# print('gsw monthly:', gsw_monthly)\n",
    "\n",
    "# Function to calculate monthly max values within each year\n",
    "yearlist = ee.List.sequence(2000, 2021)\n",
    "reducer = ee.Reducer.max()\n",
    "\n",
    "# Function to create annual composites\n",
    "def create_yearly_composite(year):\n",
    "    year = ee.Number(year)\n",
    "    yearCol = gsw_monthly.filter(ee.Filter.calendarRange(year, year, 'year'))\n",
    "    yearMax = yearCol.reduce(reducer)\n",
    "\n",
    "    imgList = yearCol.aggregate_array('system:index')\n",
    "    n_img = imgList.size()\n",
    "    nBands = yearMax.bandNames().size()\n",
    "\n",
    "    return yearMax.set({\n",
    "        'year': year,\n",
    "        'image_list': imgList,\n",
    "        'n_bands': nBands,\n",
    "        'n_img': n_img,\n",
    "        'method': 'max value',\n",
    "        'system:time_start': year\n",
    "    })\n",
    "\n",
    "yearCompList = yearlist.map(create_yearly_composite)\n",
    "\n",
    "# Convert the annual composite image list to an ImageCollection\n",
    "annual_max_water = ee.ImageCollection.fromImages(yearCompList).filter(ee.Filter.gt('n_bands', 0))\n",
    "# print('annual_max_water', annual_max_water)\n",
    "\n",
    "# Convert to list\n",
    "annual_list = annual_max_water.toList(annual_max_water.size())\n",
    "# print('annual_list', annual_list)\n",
    "\n",
    "# Function to calculate the difference between two images\n",
    "def difference(img1, img2):\n",
    "    def mask_only_water(img):\n",
    "        return img.updateMask(img.eq(2)).multiply(0).add(1).unmask(0)\n",
    "\n",
    "    img1_mask = mask_only_water(img1)\n",
    "    img2_mask = mask_only_water(img2)\n",
    "\n",
    "    diff = img2_mask.subtract(img1_mask).copyProperties(img1_mask, ['max value', 'n_img', 'system:time_start', 'year'])\n",
    "    img_diff = ee.Image(diff)\n",
    "    return img_diff\n",
    "\n",
    "year1L = 2012\n",
    "year2L = 2013\n",
    "\n",
    "imgtest1 = ee.Image(annual_list.get(year1L - 2012))\n",
    "# print(imgtest1)\n",
    "imgtest2 = ee.Image(annual_list.get(year2L - 2013))\n",
    "\n",
    "diff = difference(imgtest1, imgtest2)\n",
    "# print(diff)\n",
    "\n",
    "# Additional code for visualization and analysis would go here, if needed.\n"
   ]
  },
  {
   "cell_type": "code",
   "execution_count": 36,
   "id": "c2a14aa8-61cf-404a-9f7c-b5f788344c6d",
   "metadata": {},
   "outputs": [],
   "source": [
    "# Load datasets\n",
    "era5_land_temp = ee.ImageCollection(\"ECMWF/ERA5_LAND/HOURLY\").select('temperature_2m')\n",
    "era5_land_precip = ee.ImageCollection(\"ECMWF/ERA5_LAND/HOURLY\").select('total_precipitation')\n",
    "modis_snow_cover = ee.ImageCollection(\"MODIS/006/MOD10A1\").select('NDSI_Snow_Cover')\n",
    "# gsw_monthly = ee.ImageCollection('JRC/GSW1_4/MonthlyHistory')\n",
    "\n",
    "# # Function to upscale and aggregate datasets\n",
    "# def upscale_and_aggregate(dataset, target_scale=9000, reducer=ee.Reducer.sum()):\n",
    "#     return dataset.map(lambda image: image.reduceResolution(reducer, False).reproject({\n",
    "#         'crs': image.projection().crs(),\n",
    "#         'scale': target_scale\n",
    "#     }))\n",
    "\n",
    "# # Upscale GSW and MODIS datasets\n",
    "# upscaled_gsw = upscale_and_aggregate(ee.ImageCollection([diff,]))\n",
    "# upscaled_snow = upscale_and_aggregate(modis_snow_cover)\n",
    "\n",
    "def upscale_and_aggregate(dataset, target_scale=9000, reducer=ee.Reducer.mean()):\n",
    "    def resample(image):\n",
    "        # Use the native projection of the image\n",
    "        proj = image.projection()\n",
    "        return image.reduceResolution(\n",
    "            reducer=reducer, \n",
    "            maxPixels=65535\n",
    "        ).reproject(\n",
    "            crs=proj, \n",
    "            scale=target_scale\n",
    "        )\n",
    "    return dataset.map(resample)\n",
    "\n",
    "# Apply the function to GSW and MODIS datasets\n",
    "upscaled_gsw = upscale_and_aggregate(gsw_monthly)\n",
    "upscaled_snow = upscale_and_aggregate(modis_snow_cover)\n"
   ]
  },
  {
   "cell_type": "code",
   "execution_count": 37,
   "id": "51a2640a-4e6d-4c32-b4a0-506e55c9c09e",
   "metadata": {},
   "outputs": [],
   "source": [
    "# Define the time range\n",
    "start_year = 2012\n",
    "end_year = 2013\n",
    "yearlist = ee.List.sequence(start_year, end_year)\n",
    "\n",
    "# Function to create annual composites\n",
    "def create_annual_composite(collection, year):\n",
    "    start_date = ee.Date.fromYMD(year, 1, 1)\n",
    "    end_date = start_date.advance(1, 'year')\n",
    "    return collection.filterDate(start_date, end_date).mean().set('year', year)\n",
    "\n",
    "# Create annual composites for each dataset\n",
    "annual_temp = ee.ImageCollection(yearlist.map(lambda year: create_annual_composite(era5_land_temp, year)))\n",
    "annual_precip = ee.ImageCollection(yearlist.map(lambda year: create_annual_composite(era5_land_precip, year)))\n",
    "annual_gsw = ee.ImageCollection(yearlist.map(lambda year: create_annual_composite(upscaled_gsw, year)))\n",
    "annual_snow = ee.ImageCollection(yearlist.map(lambda year: create_annual_composite(upscaled_snow, year)))\n"
   ]
  },
  {
   "cell_type": "code",
   "execution_count": 38,
   "id": "b6647026-ccc6-4938-b0c5-1aff3f92078d",
   "metadata": {},
   "outputs": [],
   "source": [
    "def combine_annual_data(year):\n",
    "    temp_image = annual_temp.filter(ee.Filter.eq('year', year)).first()\n",
    "    precip_image = annual_precip.filter(ee.Filter.eq('year', year)).first()\n",
    "    gsw_image = annual_gsw.filter(ee.Filter.eq('year', year)).first()\n",
    "    snow_image = annual_snow.filter(ee.Filter.eq('year', year)).first()\n",
    "\n",
    "    # Combine into a single image\n",
    "    combined_image = temp_image.addBands([precip_image, gsw_image, snow_image]).set('year', year)\n",
    "    return combined_image\n",
    "\n",
    "combined_annual_data = ee.ImageCollection(yearlist.map(combine_annual_data))\n"
   ]
  },
  {
   "cell_type": "code",
   "execution_count": 47,
   "id": "c23be0ba-0eec-427d-a40a-02a094305cd3",
   "metadata": {},
   "outputs": [],
   "source": [
    "# Define an example ROI. Replace this with your actual ROI.\n",
    "roi = ee.Geometry.Rectangle([70, 45, 110, 23])\n",
    "\n",
    "\n",
    "# Function to clip each image to the ROI\n",
    "def clip_to_roi(image):\n",
    "    return image.clip(roi)\n",
    "\n",
    "# Clip all images in the collection\n",
    "combined_annual_data = combined_annual_data.map(clip_to_roi)\n"
   ]
  },
  {
   "cell_type": "code",
   "execution_count": 63,
   "id": "dd823563-43d2-4909-b95b-f4a9098ce881",
   "metadata": {},
   "outputs": [],
   "source": [
    "# Define the corners of the large ROI\n",
    "top_left = (70, 45)\n",
    "bottom_right = (110, 23)\n",
    "\n",
    "# Define the grid size\n",
    "cols = 5  # Number of columns\n",
    "rows = 4  # Number of rows\n",
    "\n",
    "# Calculate the step size for each grid cell\n",
    "width_step = (bottom_right[0] - top_left[0]) / cols\n",
    "height_step = (top_left[1] - bottom_right[1]) / rows\n"
   ]
  },
  {
   "cell_type": "code",
   "execution_count": 64,
   "id": "75958424-fd8b-4b57-8800-f1c96911a337",
   "metadata": {},
   "outputs": [],
   "source": [
    "def create_grid(top_left, bottom_right, width_step, height_step, cols, rows):\n",
    "    grid = []\n",
    "    for i in range(cols):\n",
    "        for j in range(rows):\n",
    "            # Calculate corners of the cell\n",
    "            left = top_left[0] + i * width_step\n",
    "            right = left + width_step\n",
    "            top = top_left[1] - j * height_step\n",
    "            bottom = top - height_step\n",
    "\n",
    "            # Create a rectangle for this cell\n",
    "            cell = ee.Geometry.Rectangle([left, bottom, right, top])\n",
    "            grid.append(cell)\n",
    "    return grid\n",
    "\n",
    "grid = create_grid(top_left, bottom_right, width_step, height_step, cols, rows)\n"
   ]
  },
  {
   "cell_type": "code",
   "execution_count": 67,
   "id": "e733e868-b705-447a-b905-59542e4ec5ef",
   "metadata": {},
   "outputs": [],
   "source": [
    "def export_data(img, name, section):\n",
    "    task = ee.batch.Export.image.toDrive(**{\n",
    "        'image':img\n",
    "        ,'description':name+f'_{section}'\n",
    "        ,'folder':'EarthEngineData'\n",
    "        ,'region':section\n",
    "        ,'fileFormat': 'GeoTIFF'\n",
    "        ,'scale': 9000\n",
    "        ,'maxPixels': 1e13\n",
    "    })\n",
    "    task.start()\n",
    "    print(f'task {section} sent to Google.')"
   ]
  },
  {
   "cell_type": "code",
   "execution_count": null,
   "id": "f5d5c38b-61ac-4072-9284-1a1e327aec88",
   "metadata": {},
   "outputs": [],
   "source": []
  },
  {
   "cell_type": "code",
   "execution_count": null,
   "id": "d0dff950-1da7-4866-8a17-f6794a240493",
   "metadata": {},
   "outputs": [],
   "source": []
  },
  {
   "cell_type": "code",
   "execution_count": null,
   "id": "b5671423-7e44-4bcd-9cfd-770c48bf5068",
   "metadata": {},
   "outputs": [],
   "source": []
  },
  {
   "cell_type": "code",
   "execution_count": null,
   "id": "20fb5d61-a360-428d-80f1-5bb58e48196b",
   "metadata": {},
   "outputs": [],
   "source": []
  },
  {
   "cell_type": "code",
   "execution_count": 66,
   "id": "5b9778f4-090d-411a-8e86-22b380146998",
   "metadata": {},
   "outputs": [],
   "source": [
    "for i, section in enumerate(grid):\n",
    "    task = ee.batch.Export.image.toDrive(**{\n",
    "        'image': combined_annual_data,  # Replace with your 'difference' image\n",
    "        # 'description': f'High_Mountain_Asia_Difference_Section_{i}',\n",
    "        'description': f'Difference_2012_Section_{i}',\n",
    "        'folder': 'EarthEngineData',\n",
    "        'scale': 30,  # Adjust as necessary\n",
    "        'region': section,\n",
    "        'fileFormat': 'GeoTIFF',\n",
    "        'maxPixels': 1e13\n",
    "    })\n",
    "    task.start()\n"
   ]
  },
  {
   "cell_type": "code",
   "execution_count": null,
   "id": "a1c26cfe-7adf-4dfd-8430-e6dbc8a109e5",
   "metadata": {},
   "outputs": [],
   "source": []
  },
  {
   "cell_type": "code",
   "execution_count": null,
   "id": "bc742fed-7c63-41b9-86e4-9f00a81a9d15",
   "metadata": {},
   "outputs": [],
   "source": []
  },
  {
   "cell_type": "code",
   "execution_count": 48,
   "id": "6ef6bf5b-2a02-4476-acc1-61337e3a9d86",
   "metadata": {},
   "outputs": [],
   "source": [
    "# # Flatten the ImageCollection into a single Image with multiple bands\n",
    "# def flatten_to_single_image(collection):\n",
    "#     first_image = ee.Image(collection.first()).select([])\n",
    "#     return ee.Image(collection.iterate(lambda img, acc: ee.Image(acc).addBands(img), first_image))\n",
    "\n",
    "# combined_image = flatten_to_single_image(combined_annual_data)\n"
   ]
  },
  {
   "cell_type": "code",
   "execution_count": 49,
   "id": "76472fb2-08fa-46ac-b053-7f0ea10cf15b",
   "metadata": {},
   "outputs": [],
   "source": [
    "# # Select the combined image for a specific year\n",
    "# selected_year = 2012  # Example year\n",
    "# selected_image = combined_annual_data.filter(ee.Filter.eq('year', selected_year)).first()\n"
   ]
  },
  {
   "cell_type": "code",
   "execution_count": 50,
   "id": "af52d4fd-dde8-4997-b32a-b8a3b91fe239",
   "metadata": {},
   "outputs": [
    {
     "data": {
      "text/plain": [
       "['temperature_2m', 'total_precipitation', 'water', 'NDSI_Snow_Cover']"
      ]
     },
     "execution_count": 50,
     "metadata": {},
     "output_type": "execute_result"
    }
   ],
   "source": [
    "# selected_image.bandNames().getInfo()"
   ]
  },
  {
   "cell_type": "code",
   "execution_count": 60,
   "id": "31922a53-ff55-4ae0-ad48-59d864eeb0dc",
   "metadata": {},
   "outputs": [],
   "source": [
    "# # Define visualization parameters\n",
    "# vis_params_temp = {\n",
    "#     'min': 270, 'max': 310, 'palette': ['blue', 'green', 'yellow', 'red']  # Example parameters for temperature\n",
    "# }\n",
    "# vis_params_precip = {\n",
    "#     'min': 0, 'max': 100, 'palette': ['white', 'blue']  # Example parameters for precipitation\n",
    "# }\n",
    "# vis_params_gsw = {\n",
    "#     # 'min': 0, 'max': 1, 'palette': ['white', 'red']  # Example parameters for GSW\n",
    "#     'palette': ['white', 'red']  # Example parameters for GSW\n",
    "# }\n",
    "# vis_params_snow = {\n",
    "#     'min': 0, 'max': 100, 'palette': ['white', 'blue']  # Example parameters for snow cover\n",
    "# }\n"
   ]
  },
  {
   "cell_type": "code",
   "execution_count": 61,
   "id": "a39950e1-a731-4daa-ad67-fcab118f9f9b",
   "metadata": {},
   "outputs": [
    {
     "data": {
      "text/html": [
       "<div style=\"width:100%;\"><div style=\"position:relative;width:100%;height:0;padding-bottom:60%;\"><span style=\"color:#565656\">Make this Notebook Trusted to load map: File -> Trust Notebook</span><iframe srcdoc=\"&lt;!DOCTYPE html&gt;\n",
       "&lt;html&gt;\n",
       "&lt;head&gt;\n",
       "    \n",
       "    &lt;meta http-equiv=&quot;content-type&quot; content=&quot;text/html; charset=UTF-8&quot; /&gt;\n",
       "    \n",
       "        &lt;script&gt;\n",
       "            L_NO_TOUCH = false;\n",
       "            L_DISABLE_3D = false;\n",
       "        &lt;/script&gt;\n",
       "    \n",
       "    &lt;style&gt;html, body {width: 100%;height: 100%;margin: 0;padding: 0;}&lt;/style&gt;\n",
       "    &lt;style&gt;#map {position:absolute;top:0;bottom:0;right:0;left:0;}&lt;/style&gt;\n",
       "    &lt;script src=&quot;https://cdn.jsdelivr.net/npm/leaflet@1.9.3/dist/leaflet.js&quot;&gt;&lt;/script&gt;\n",
       "    &lt;script src=&quot;https://code.jquery.com/jquery-1.12.4.min.js&quot;&gt;&lt;/script&gt;\n",
       "    &lt;script src=&quot;https://cdn.jsdelivr.net/npm/bootstrap@5.2.2/dist/js/bootstrap.bundle.min.js&quot;&gt;&lt;/script&gt;\n",
       "    &lt;script src=&quot;https://cdnjs.cloudflare.com/ajax/libs/Leaflet.awesome-markers/2.0.2/leaflet.awesome-markers.js&quot;&gt;&lt;/script&gt;\n",
       "    &lt;link rel=&quot;stylesheet&quot; href=&quot;https://cdn.jsdelivr.net/npm/leaflet@1.9.3/dist/leaflet.css&quot;/&gt;\n",
       "    &lt;link rel=&quot;stylesheet&quot; href=&quot;https://cdn.jsdelivr.net/npm/bootstrap@5.2.2/dist/css/bootstrap.min.css&quot;/&gt;\n",
       "    &lt;link rel=&quot;stylesheet&quot; href=&quot;https://netdna.bootstrapcdn.com/bootstrap/3.0.0/css/bootstrap.min.css&quot;/&gt;\n",
       "    &lt;link rel=&quot;stylesheet&quot; href=&quot;https://cdn.jsdelivr.net/npm/@fortawesome/fontawesome-free@6.2.0/css/all.min.css&quot;/&gt;\n",
       "    &lt;link rel=&quot;stylesheet&quot; href=&quot;https://cdnjs.cloudflare.com/ajax/libs/Leaflet.awesome-markers/2.0.2/leaflet.awesome-markers.css&quot;/&gt;\n",
       "    &lt;link rel=&quot;stylesheet&quot; href=&quot;https://cdn.jsdelivr.net/gh/python-visualization/folium/folium/templates/leaflet.awesome.rotate.min.css&quot;/&gt;\n",
       "    \n",
       "            &lt;meta name=&quot;viewport&quot; content=&quot;width=device-width,\n",
       "                initial-scale=1.0, maximum-scale=1.0, user-scalable=no&quot; /&gt;\n",
       "            &lt;style&gt;\n",
       "                #map_0c585b44b433273c18a14248caedaf7d {\n",
       "                    position: relative;\n",
       "                    width: 100.0%;\n",
       "                    height: 100.0%;\n",
       "                    left: 0.0%;\n",
       "                    top: 0.0%;\n",
       "                }\n",
       "                .leaflet-container { font-size: 1rem; }\n",
       "            &lt;/style&gt;\n",
       "        \n",
       "&lt;/head&gt;\n",
       "&lt;body&gt;\n",
       "    \n",
       "    \n",
       "            &lt;div class=&quot;folium-map&quot; id=&quot;map_0c585b44b433273c18a14248caedaf7d&quot; &gt;&lt;/div&gt;\n",
       "        \n",
       "&lt;/body&gt;\n",
       "&lt;script&gt;\n",
       "    \n",
       "    \n",
       "            var map_0c585b44b433273c18a14248caedaf7d = L.map(\n",
       "                &quot;map_0c585b44b433273c18a14248caedaf7d&quot;,\n",
       "                {\n",
       "                    center: [45.0, 70.0],\n",
       "                    crs: L.CRS.EPSG3857,\n",
       "                    zoom: 4,\n",
       "                    zoomControl: true,\n",
       "                    preferCanvas: false,\n",
       "                }\n",
       "            );\n",
       "\n",
       "            \n",
       "\n",
       "        \n",
       "    \n",
       "            var tile_layer_883c72276247f1fe221e168f236bf41e = L.tileLayer(\n",
       "                &quot;https://{s}.tile.openstreetmap.org/{z}/{x}/{y}.png&quot;,\n",
       "                {&quot;attribution&quot;: &quot;Data by \\u0026copy; \\u003ca target=\\&quot;_blank\\&quot; href=\\&quot;http://openstreetmap.org\\&quot;\\u003eOpenStreetMap\\u003c/a\\u003e, under \\u003ca target=\\&quot;_blank\\&quot; href=\\&quot;http://www.openstreetmap.org/copyright\\&quot;\\u003eODbL\\u003c/a\\u003e.&quot;, &quot;detectRetina&quot;: false, &quot;maxNativeZoom&quot;: 18, &quot;maxZoom&quot;: 18, &quot;minZoom&quot;: 0, &quot;noWrap&quot;: false, &quot;opacity&quot;: 1, &quot;subdomains&quot;: &quot;abc&quot;, &quot;tms&quot;: false}\n",
       "            ).addTo(map_0c585b44b433273c18a14248caedaf7d);\n",
       "        \n",
       "    \n",
       "            var tile_layer_4e34980b0a09330719d5ae2b07ec84bb = L.tileLayer(\n",
       "                &quot;https://earthengine.googleapis.com/v1alpha/projects/earthengine-legacy/maps/d23f6fe9b509202c7107593a7e41b173-39ee19790dd830e5525eaedc71cf3b3c/tiles/{z}/{x}/{y}&quot;,\n",
       "                {&quot;attribution&quot;: &quot;Map data \\u00a9 Google Earth Engine&quot;, &quot;detectRetina&quot;: false, &quot;maxNativeZoom&quot;: 18, &quot;maxZoom&quot;: 18, &quot;minZoom&quot;: 0, &quot;noWrap&quot;: false, &quot;opacity&quot;: 1, &quot;subdomains&quot;: &quot;abc&quot;, &quot;tms&quot;: false}\n",
       "            ).addTo(map_0c585b44b433273c18a14248caedaf7d);\n",
       "        \n",
       "    \n",
       "            var layer_control_862042f7fcb8468dd37043322507026a = {\n",
       "                base_layers : {\n",
       "                    &quot;openstreetmap&quot; : tile_layer_883c72276247f1fe221e168f236bf41e,\n",
       "                },\n",
       "                overlays :  {\n",
       "                    &quot;GSW&quot; : tile_layer_4e34980b0a09330719d5ae2b07ec84bb,\n",
       "                },\n",
       "            };\n",
       "            L.control.layers(\n",
       "                layer_control_862042f7fcb8468dd37043322507026a.base_layers,\n",
       "                layer_control_862042f7fcb8468dd37043322507026a.overlays,\n",
       "                {&quot;autoZIndex&quot;: true, &quot;collapsed&quot;: true, &quot;position&quot;: &quot;topright&quot;}\n",
       "            ).addTo(map_0c585b44b433273c18a14248caedaf7d);\n",
       "        \n",
       "&lt;/script&gt;\n",
       "&lt;/html&gt;\" style=\"position:absolute;width:100%;height:100%;left:0;top:0;border:none !important;\" allowfullscreen webkitallowfullscreen mozallowfullscreen></iframe></div></div>"
      ],
      "text/plain": [
       "<folium.folium.Map at 0x12e868040>"
      ]
     },
     "execution_count": 61,
     "metadata": {},
     "output_type": "execute_result"
    }
   ],
   "source": [
    "# # Create a Folium map\n",
    "# map_center = [45, 70]  # Adjust as necessary\n",
    "# m = folium.Map(location=map_center, zoom_start=4)\n",
    "\n",
    "# # Function to add a layer to the map\n",
    "# def add_ee_layer(self, ee_image_object, vis_params, name):\n",
    "#     map_id_dict = ee.Image(ee_image_object).getMapId(vis_params)\n",
    "#     folium.TileLayer(\n",
    "#         tiles=map_id_dict['tile_fetcher'].url_format,\n",
    "#         attr='Map data © Google Earth Engine',\n",
    "#         name=name,\n",
    "#         overlay=True,\n",
    "#         control=True\n",
    "#     ).add_to(self)\n",
    "\n",
    "# # Add custom method to folium Map\n",
    "# folium.Map.add_ee_layer = add_ee_layer\n",
    "\n",
    "# # Add layers\n",
    "# # # m.add_ee_layer(selected_image.select('temperature_2m'), vis_params_temp, 'Temperature')\n",
    "# # m.add_ee_layer(selected_image.select('total_precipitation'), vis_params_precip, 'Precipitation')\n",
    "# m.add_ee_layer(selected_image.select('water'), vis_params_gsw, 'GSW')  # Replace 'GSW_band_name' with the actual band name\n",
    "# # m.add_ee_layer(selected_image.select('NDSI_Snow_Cover'), vis_params_snow, 'Snow Cover')  # Replace 'Snow_band_name' with the actual band name\n",
    "\n",
    "# # Add a layer control panel to the map\n",
    "# folium.LayerControl().add_to(m)\n",
    "\n",
    "# # Display the map\n",
    "# m\n"
   ]
  },
  {
   "cell_type": "code",
   "execution_count": 62,
   "id": "34c55b74-7156-483a-8b47-b056e8a3020f",
   "metadata": {},
   "outputs": [
    {
     "name": "stdout",
     "output_type": "stream",
     "text": [
      "Collecting ipyleaflet\n",
      "  Downloading ipyleaflet-0.18.0-py3-none-any.whl (3.7 MB)\n",
      "\u001b[2K     \u001b[90m━━━━━━━━━━━━━━━━━━━━━━━━━━━━━━━━━━━━━━━━\u001b[0m \u001b[32m3.7/3.7 MB\u001b[0m \u001b[31m4.6 MB/s\u001b[0m eta \u001b[36m0:00:00\u001b[0m00:01\u001b[0m00:01\u001b[0m\n",
      "\u001b[?25hRequirement already satisfied: branca>=0.5.0 in /opt/homebrew/anaconda3/envs/tblakes/lib/python3.8/site-packages (from ipyleaflet) (0.6.0)\n",
      "Requirement already satisfied: ipywidgets<9,>=7.6.0 in /opt/homebrew/anaconda3/envs/tblakes/lib/python3.8/site-packages (from ipyleaflet) (8.1.1)\n",
      "Requirement already satisfied: xyzservices>=2021.8.1 in /opt/homebrew/anaconda3/envs/tblakes/lib/python3.8/site-packages (from ipyleaflet) (2023.7.0)\n",
      "Collecting traittypes<3,>=0.2.1\n",
      "  Downloading traittypes-0.2.1-py2.py3-none-any.whl (8.6 kB)\n",
      "Requirement already satisfied: jinja2 in /opt/homebrew/anaconda3/envs/tblakes/lib/python3.8/site-packages (from branca>=0.5.0->ipyleaflet) (3.1.2)\n",
      "Requirement already satisfied: jupyterlab-widgets~=3.0.9 in /opt/homebrew/anaconda3/envs/tblakes/lib/python3.8/site-packages (from ipywidgets<9,>=7.6.0->ipyleaflet) (3.0.9)\n",
      "Requirement already satisfied: widgetsnbextension~=4.0.9 in /opt/homebrew/anaconda3/envs/tblakes/lib/python3.8/site-packages (from ipywidgets<9,>=7.6.0->ipyleaflet) (4.0.9)\n",
      "Requirement already satisfied: comm>=0.1.3 in /opt/homebrew/anaconda3/envs/tblakes/lib/python3.8/site-packages (from ipywidgets<9,>=7.6.0->ipyleaflet) (0.2.0)\n",
      "Requirement already satisfied: traitlets>=4.3.1 in /opt/homebrew/anaconda3/envs/tblakes/lib/python3.8/site-packages (from ipywidgets<9,>=7.6.0->ipyleaflet) (5.7.1)\n",
      "Requirement already satisfied: ipython>=6.1.0 in /opt/homebrew/anaconda3/envs/tblakes/lib/python3.8/site-packages (from ipywidgets<9,>=7.6.0->ipyleaflet) (8.10.0)\n",
      "Requirement already satisfied: pygments>=2.4.0 in /opt/homebrew/anaconda3/envs/tblakes/lib/python3.8/site-packages (from ipython>=6.1.0->ipywidgets<9,>=7.6.0->ipyleaflet) (2.11.2)\n",
      "Requirement already satisfied: backcall in /opt/homebrew/anaconda3/envs/tblakes/lib/python3.8/site-packages (from ipython>=6.1.0->ipywidgets<9,>=7.6.0->ipyleaflet) (0.2.0)\n",
      "Requirement already satisfied: pexpect>4.3 in /opt/homebrew/anaconda3/envs/tblakes/lib/python3.8/site-packages (from ipython>=6.1.0->ipywidgets<9,>=7.6.0->ipyleaflet) (4.8.0)\n",
      "Requirement already satisfied: jedi>=0.16 in /opt/homebrew/anaconda3/envs/tblakes/lib/python3.8/site-packages (from ipython>=6.1.0->ipywidgets<9,>=7.6.0->ipyleaflet) (0.18.1)\n",
      "Requirement already satisfied: pickleshare in /opt/homebrew/anaconda3/envs/tblakes/lib/python3.8/site-packages (from ipython>=6.1.0->ipywidgets<9,>=7.6.0->ipyleaflet) (0.7.5)\n",
      "Requirement already satisfied: stack-data in /opt/homebrew/anaconda3/envs/tblakes/lib/python3.8/site-packages (from ipython>=6.1.0->ipywidgets<9,>=7.6.0->ipyleaflet) (0.2.0)\n",
      "Requirement already satisfied: matplotlib-inline in /opt/homebrew/anaconda3/envs/tblakes/lib/python3.8/site-packages (from ipython>=6.1.0->ipywidgets<9,>=7.6.0->ipyleaflet) (0.1.6)\n",
      "Requirement already satisfied: prompt-toolkit<3.1.0,>=3.0.30 in /opt/homebrew/anaconda3/envs/tblakes/lib/python3.8/site-packages (from ipython>=6.1.0->ipywidgets<9,>=7.6.0->ipyleaflet) (3.0.36)\n",
      "Requirement already satisfied: appnope in /opt/homebrew/anaconda3/envs/tblakes/lib/python3.8/site-packages (from ipython>=6.1.0->ipywidgets<9,>=7.6.0->ipyleaflet) (0.1.2)\n",
      "Requirement already satisfied: decorator in /opt/homebrew/anaconda3/envs/tblakes/lib/python3.8/site-packages (from ipython>=6.1.0->ipywidgets<9,>=7.6.0->ipyleaflet) (5.1.1)\n",
      "Requirement already satisfied: MarkupSafe>=2.0 in /opt/homebrew/anaconda3/envs/tblakes/lib/python3.8/site-packages (from jinja2->branca>=0.5.0->ipyleaflet) (2.1.1)\n",
      "Requirement already satisfied: parso<0.9.0,>=0.8.0 in /opt/homebrew/anaconda3/envs/tblakes/lib/python3.8/site-packages (from jedi>=0.16->ipython>=6.1.0->ipywidgets<9,>=7.6.0->ipyleaflet) (0.8.3)\n",
      "Requirement already satisfied: ptyprocess>=0.5 in /opt/homebrew/anaconda3/envs/tblakes/lib/python3.8/site-packages (from pexpect>4.3->ipython>=6.1.0->ipywidgets<9,>=7.6.0->ipyleaflet) (0.7.0)\n",
      "Requirement already satisfied: wcwidth in /opt/homebrew/anaconda3/envs/tblakes/lib/python3.8/site-packages (from prompt-toolkit<3.1.0,>=3.0.30->ipython>=6.1.0->ipywidgets<9,>=7.6.0->ipyleaflet) (0.2.5)\n",
      "Requirement already satisfied: executing in /opt/homebrew/anaconda3/envs/tblakes/lib/python3.8/site-packages (from stack-data->ipython>=6.1.0->ipywidgets<9,>=7.6.0->ipyleaflet) (0.8.3)\n",
      "Requirement already satisfied: asttokens in /opt/homebrew/anaconda3/envs/tblakes/lib/python3.8/site-packages (from stack-data->ipython>=6.1.0->ipywidgets<9,>=7.6.0->ipyleaflet) (2.0.5)\n",
      "Requirement already satisfied: pure-eval in /opt/homebrew/anaconda3/envs/tblakes/lib/python3.8/site-packages (from stack-data->ipython>=6.1.0->ipywidgets<9,>=7.6.0->ipyleaflet) (0.2.2)\n",
      "Requirement already satisfied: six in /opt/homebrew/anaconda3/envs/tblakes/lib/python3.8/site-packages (from asttokens->stack-data->ipython>=6.1.0->ipywidgets<9,>=7.6.0->ipyleaflet) (1.16.0)\n",
      "Installing collected packages: traittypes, ipyleaflet\n",
      "Successfully installed ipyleaflet-0.18.0 traittypes-0.2.1\n"
     ]
    }
   ],
   "source": [
    "# !pip install ipyleaflet"
   ]
  },
  {
   "cell_type": "code",
   "execution_count": null,
   "id": "0125d65b-aef2-4c02-bf1e-0506d912ff47",
   "metadata": {},
   "outputs": [],
   "source": []
  },
  {
   "cell_type": "code",
   "execution_count": 18,
   "id": "1cb4cec8-ea9b-4275-8a48-ab0449be7d7d",
   "metadata": {},
   "outputs": [],
   "source": [
    "# # Define your region of interest (ROI)\n",
    "# roi = ee.Geometry.Rectangle([70, 45, 110, 23])  # Adjust as necessary\n",
    "\n",
    "# # Create random points within the ROI\n",
    "# points = ee.FeatureCollection.randomPoints(region=roi, points=1000)  # Adjust the number of points as necessary\n"
   ]
  },
  {
   "cell_type": "code",
   "execution_count": 19,
   "id": "5c10a835-d30f-4339-b767-759fe40a418a",
   "metadata": {},
   "outputs": [],
   "source": [
    "# # Sample the combined image at the random points\n",
    "# sampled_points = combined_image.sampleRegions(**{\n",
    "#     'collection': points,\n",
    "#     'properties': ['system:index'],  # Include other properties if available\n",
    "#     'scale': 9000\n",
    "# })\n"
   ]
  },
  {
   "cell_type": "code",
   "execution_count": 24,
   "id": "4a07fd99-878f-441c-984d-ad04b0dda35d",
   "metadata": {},
   "outputs": [],
   "source": [
    "# print(combined_image.bandNames().getInfo())"
   ]
  },
  {
   "cell_type": "code",
   "execution_count": 27,
   "id": "520a3552-2a5a-4630-9136-40ff6100530b",
   "metadata": {},
   "outputs": [],
   "source": [
    "# # Define a pseudo-label for demonstration purposes\n",
    "# pseudo_label = 'water balance'  # Example: use temperature as a pseudo-label\n",
    "\n",
    "# # Extract band names excluding the pseudo-label\n",
    "# features = combined_image.bandNames().remove(pseudo_label)\n",
    "\n",
    "# # Prepare the training data\n",
    "# training_data = sampled_points.select(features.add(pseudo_label))\n"
   ]
  },
  {
   "cell_type": "code",
   "execution_count": 28,
   "id": "7810d5fd-55ab-4e65-851b-0e99177f966f",
   "metadata": {},
   "outputs": [],
   "source": [
    "# # Example: training_data = ee.FeatureCollection('path/to/your/training_data')\n",
    "# label = 'water_balance'  # Replace with your actual label property\n",
    "# features = combined_image.bandNames()  # Get all the band names from the combined image\n",
    "\n",
    "# # Sample the image for training the model\n",
    "# training = combined_image.sampleRegions(**{\n",
    "#     'collection': training_data,\n",
    "#     'properties': [label],\n",
    "#     'scale': 9000\n",
    "# })\n"
   ]
  },
  {
   "cell_type": "code",
   "execution_count": 30,
   "id": "fc79a06b-e011-4380-844d-05f704131e75",
   "metadata": {},
   "outputs": [],
   "source": [
    "\n"
   ]
  },
  {
   "cell_type": "code",
   "execution_count": null,
   "id": "64c75539-54cd-4837-9383-0e5a9b2288c9",
   "metadata": {},
   "outputs": [],
   "source": []
  },
  {
   "cell_type": "code",
   "execution_count": null,
   "id": "7fd793ed-edc2-479a-b715-be5a6eb926b1",
   "metadata": {},
   "outputs": [],
   "source": []
  }
 ],
 "metadata": {
  "kernelspec": {
   "display_name": "Python 3 (ipykernel)",
   "language": "python",
   "name": "python3"
  },
  "language_info": {
   "codemirror_mode": {
    "name": "ipython",
    "version": 3
   },
   "file_extension": ".py",
   "mimetype": "text/x-python",
   "name": "python",
   "nbconvert_exporter": "python",
   "pygments_lexer": "ipython3",
   "version": "3.8.16"
  }
 },
 "nbformat": 4,
 "nbformat_minor": 5
}
