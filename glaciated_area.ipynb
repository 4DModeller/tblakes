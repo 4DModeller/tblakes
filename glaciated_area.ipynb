{
 "cells": [
  {
   "cell_type": "code",
   "execution_count": 1,
   "id": "782f3976-e111-4b45-b268-ba91c1076f67",
   "metadata": {},
   "outputs": [],
   "source": [
    "import folium"
   ]
  },
  {
   "cell_type": "code",
   "execution_count": 2,
   "id": "4ec31c3e-ea41-47df-985c-0ab2ea66e6f2",
   "metadata": {},
   "outputs": [
    {
     "data": {
      "text/html": [
       "<p>To authorize access needed by Earth Engine, open the following\n",
       "        URL in a web browser and follow the instructions:</p>\n",
       "        <p><a href=https://code.earthengine.google.com/client-auth?scopes=https%3A//www.googleapis.com/auth/earthengine%20https%3A//www.googleapis.com/auth/devstorage.full_control&request_id=yVWRTLc2M-P5DDCcq3yP-7qdfoX4i91k7h7KE3xxUQ0&tc=AI8Loymvdx0pqqkYJntZI3rqrXT9ITIH_ytYl2ONAaU&cc=ty0b5dInwptwuGnNKKoR0GUsQmaAAlenvJn6mpGq4Ug>https://code.earthengine.google.com/client-auth?scopes=https%3A//www.googleapis.com/auth/earthengine%20https%3A//www.googleapis.com/auth/devstorage.full_control&request_id=yVWRTLc2M-P5DDCcq3yP-7qdfoX4i91k7h7KE3xxUQ0&tc=AI8Loymvdx0pqqkYJntZI3rqrXT9ITIH_ytYl2ONAaU&cc=ty0b5dInwptwuGnNKKoR0GUsQmaAAlenvJn6mpGq4Ug</a></p>\n",
       "        <p>The authorization workflow will generate a code, which you should paste in the box below.</p>\n",
       "        "
      ],
      "text/plain": [
       "<IPython.core.display.HTML object>"
      ]
     },
     "metadata": {},
     "output_type": "display_data"
    },
    {
     "name": "stdin",
     "output_type": "stream",
     "text": [
      "Enter verification code:  4/1AfJohXnQqAWZdGHMdaA6XoVM4dDl9GNW-pofDpbqgasC5JjEMedzEYlYkGE\n"
     ]
    },
    {
     "name": "stdout",
     "output_type": "stream",
     "text": [
      "\n",
      "Successfully saved authorization token.\n"
     ]
    }
   ],
   "source": [
    "import ee\n",
    "\n",
    "ee.Authenticate()\n",
    "\n",
    "ee.Initialize()"
   ]
  },
  {
   "cell_type": "code",
   "execution_count": 3,
   "id": "78861aaa-fcf5-428c-981d-94cf20700a37",
   "metadata": {},
   "outputs": [],
   "source": [
    "# import ee\n",
    "# ee.Initialize()\n",
    "\n",
    "# Define the corners of the large ROI\n",
    "top_left = (70, 45)\n",
    "bottom_right = (110, 23)\n",
    "\n",
    "# Define the grid size\n",
    "cols = 5  # Number of columns\n",
    "rows = 4  # Number of rows\n",
    "\n",
    "# Calculate the step size for each grid cell\n",
    "width_step = (bottom_right[0] - top_left[0]) / cols\n",
    "height_step = (top_left[1] - bottom_right[1]) / rows\n"
   ]
  },
  {
   "cell_type": "code",
   "execution_count": 4,
   "id": "9025d16a-c761-4f5b-a673-c275eb3903bc",
   "metadata": {},
   "outputs": [],
   "source": [
    "def create_grid(top_left, bottom_right, width_step, height_step, cols, rows):\n",
    "    grid = []\n",
    "    for i in range(cols):\n",
    "        for j in range(rows):\n",
    "            # Calculate corners of the cell\n",
    "            left = top_left[0] + i * width_step\n",
    "            right = left + width_step\n",
    "            top = top_left[1] - j * height_step\n",
    "            bottom = top - height_step\n",
    "\n",
    "            # Create a rectangle for this cell\n",
    "            cell = ee.Geometry.Rectangle([left, bottom, right, top])\n",
    "            grid.append(cell)\n",
    "    return grid\n",
    "\n",
    "grid = create_grid(top_left, bottom_right, width_step, height_step, cols, rows)\n",
    "roi = ee.Geometry.Rectangle([70, 45, 110, 23])\n"
   ]
  },
  {
   "cell_type": "code",
   "execution_count": 5,
   "id": "329ad7fc-48a7-454a-b0f0-7442de346b57",
   "metadata": {},
   "outputs": [],
   "source": [
    "modis_snow_cover = ee.ImageCollection(\"MODIS/006/MOD10A1\").select('NDSI_Snow_Cover')\n",
    "filtered_snow_cover = modis_snow_cover.filterDate('2012-01-01', '2013-12-31')\n"
   ]
  },
  {
   "cell_type": "code",
   "execution_count": 6,
   "id": "1e012d56-e94b-4d63-a1d4-a104e55508dc",
   "metadata": {},
   "outputs": [],
   "source": [
    "def yearly_composite(year):\n",
    "    start_date = ee.Date.fromYMD(year, 1, 1)\n",
    "    end_date = start_date.advance(1, 'year')\n",
    "    return filtered_snow_cover.filterDate(start_date, end_date).max().clip(roi).set('year', year)\n",
    "\n",
    "years = ee.List.sequence(2012, 2013)\n",
    "annual_snow_cover = ee.ImageCollection.fromImages(years.map(yearly_composite))\n"
   ]
  },
  {
   "cell_type": "code",
   "execution_count": 7,
   "id": "24b8e569-5edc-446f-9122-3a3218e2570d",
   "metadata": {},
   "outputs": [],
   "source": [
    "for i, cell in enumerate(grid):\n",
    "    for year in range(2012, 2013):\n",
    "        image_to_export = annual_snow_cover.filter(ee.Filter.eq('year', year)).first()\n",
    "        task = ee.batch.Export.image.toDrive(**{\n",
    "            'image': image_to_export,\n",
    "            'description': f'SnowCover_{year}_Section_{i}',\n",
    "            'folder': 'EarthEngineData',\n",
    "            'scale': 30,\n",
    "            'region': cell,\n",
    "            'fileFormat': 'GeoTIFF',\n",
    "            'maxPixels': 1e13\n",
    "        })\n",
    "        task.start()\n"
   ]
  },
  {
   "cell_type": "code",
   "execution_count": 8,
   "id": "f1faaff8-c83b-426f-8800-0ddfae173659",
   "metadata": {},
   "outputs": [],
   "source": [
    "# modis_snow_cover = ee.ImageCollection(\"MODIS/006/MOD10A1\").select('NDSI_Snow_Cover')\n"
   ]
  },
  {
   "cell_type": "code",
   "execution_count": 9,
   "id": "a88976db-f724-4b44-9621-57a2be45d2a5",
   "metadata": {},
   "outputs": [],
   "source": [
    "# filtered_snow_cover = modis_snow_cover.filterDate('2012-01-01', '2013-12-31')\n"
   ]
  },
  {
   "cell_type": "code",
   "execution_count": 10,
   "id": "06e274e2-8998-444a-9adc-b1692292b2f1",
   "metadata": {},
   "outputs": [],
   "source": [
    "# def yearly_composite(year):\n",
    "#     start_date = ee.Date.fromYMD(year, 1, 1)\n",
    "#     end_date = start_date.advance(1, 'year')\n",
    "#     return filtered_snow_cover.filterDate(start_date, end_date).max().clip(roi).set('year', year)\n",
    "\n",
    "# years = ee.List.sequence(2012, 2013)\n",
    "# annual_snow_cover = ee.ImageCollection.fromImages(years.map(yearly_composite))\n"
   ]
  },
  {
   "cell_type": "code",
   "execution_count": 11,
   "id": "3416b528-2925-4324-bad2-904bf4e8c184",
   "metadata": {},
   "outputs": [
    {
     "name": "stdout",
     "output_type": "stream",
     "text": [
      "where did it all go\n"
     ]
    }
   ],
   "source": [
    "print('where did it all go')"
   ]
  }
 ],
 "metadata": {
  "kernelspec": {
   "display_name": "Python 3 (ipykernel)",
   "language": "python",
   "name": "python3"
  },
  "language_info": {
   "codemirror_mode": {
    "name": "ipython",
    "version": 3
   },
   "file_extension": ".py",
   "mimetype": "text/x-python",
   "name": "python",
   "nbconvert_exporter": "python",
   "pygments_lexer": "ipython3",
   "version": "3.8.16"
  }
 },
 "nbformat": 4,
 "nbformat_minor": 5
}
