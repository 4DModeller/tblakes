{
 "cells": [
  {
   "cell_type": "code",
   "execution_count": 1,
   "id": "c3bf882e-9bc7-4236-8afb-8c8f1e5a4009",
   "metadata": {},
   "outputs": [],
   "source": [
    "# !pip install rasterstats\n",
    "# !pip install osmnx"
   ]
  },
  {
   "cell_type": "code",
   "execution_count": 2,
   "id": "8210b8d4-cb94-45df-a819-29bb0dcdfffd",
   "metadata": {},
   "outputs": [],
   "source": [
    "from rasterio.plot import show\n",
    "from rasterio.merge import merge\n",
    "import rasterio as rio\n",
    "from pathlib import Path\n",
    "import glob\n",
    "from rasterstats import zonal_stats\n",
    "import osmnx as ox\n",
    "import geopandas as gpd"
   ]
  },
  {
   "cell_type": "code",
   "execution_count": 7,
   "id": "ef92eef7-6733-4cdb-b85d-11fcf2b00a49",
   "metadata": {},
   "outputs": [],
   "source": [
    "path = Path('data/gsw/gsw_annual/')\n",
    "Path('output').mkdir(parents=True, exist_ok=True)\n",
    "output_path = 'output/mosaic_output_15.tif'"
   ]
  },
  {
   "cell_type": "code",
   "execution_count": 12,
   "id": "4344b2d4-4c16-4ae6-aa8e-a2465a59c987",
   "metadata": {},
   "outputs": [],
   "source": [
    "raster_files = glob.glob('data/gsw/gsw_annual/gsw_15*')\n",
    "raster_to_mosiac = []"
   ]
  },
  {
   "cell_type": "code",
   "execution_count": 13,
   "id": "1713270a-1e5d-48d6-b7b3-dadc0cc01c83",
   "metadata": {},
   "outputs": [],
   "source": [
    "for p in raster_files:\n",
    "    raster = rio.open(p)\n",
    "    raster_to_mosiac.append(raster)"
   ]
  },
  {
   "cell_type": "code",
   "execution_count": 14,
   "id": "534cdc08-ee8a-4c15-9d64-29f79e21fcf8",
   "metadata": {},
   "outputs": [],
   "source": [
    "mosaic, output = merge(raster_to_mosiac)\n"
   ]
  },
  {
   "cell_type": "code",
   "execution_count": 15,
   "id": "81d127c0-dc1d-4314-ae24-7d415bd87560",
   "metadata": {},
   "outputs": [],
   "source": [
    "output_meta = raster.meta.copy()\n",
    "output_meta.update(\n",
    "    {\"driver\": \"GTiff\",\n",
    "        \"height\": mosaic.shape[1],\n",
    "        \"width\": mosaic.shape[2],\n",
    "        \"transform\": output,\n",
    "    }\n",
    ")"
   ]
  },
  {
   "cell_type": "code",
   "execution_count": 17,
   "id": "0a3d953c-5e59-40e7-819c-1103777cebad",
   "metadata": {},
   "outputs": [],
   "source": [
    "# with rio.open(output_path, 'w', **output_meta) as m:\n",
    "#     m.write(mosaic)"
   ]
  },
  {
   "cell_type": "code",
   "execution_count": 3,
   "id": "534556e4-5c0d-47c2-92e6-5ef392e480ff",
   "metadata": {},
   "outputs": [],
   "source": [
    "dem = rio.open('output/mosaic_output_15.tif')"
   ]
  },
  {
   "cell_type": "code",
   "execution_count": 4,
   "id": "4cd986b9-fadc-4246-8aa5-ebeeb840df7f",
   "metadata": {},
   "outputs": [],
   "source": [
    "# show(dem)"
   ]
  },
  {
   "cell_type": "code",
   "execution_count": 8,
   "id": "b5a9922d-03f7-4923-827b-2ad99fb9d6d0",
   "metadata": {},
   "outputs": [
    {
     "ename": "TypeError",
     "evalue": "geometries_from_place() missing 1 required positional argument: 'query'",
     "output_type": "error",
     "traceback": [
      "\u001b[0;31m---------------------------------------------------------------------------\u001b[0m",
      "\u001b[0;31mTypeError\u001b[0m                                 Traceback (most recent call last)",
      "Cell \u001b[0;32mIn[8], line 1\u001b[0m\n\u001b[0;32m----> 1\u001b[0m kallio \u001b[38;5;241m=\u001b[39m \u001b[43mox\u001b[49m\u001b[38;5;241;43m.\u001b[39;49m\u001b[43mgeometries_from_place\u001b[49m\u001b[43m(\u001b[49m\u001b[43mtags\u001b[49m\u001b[38;5;241;43m=\u001b[39;49m\u001b[38;5;124;43m\"\u001b[39;49m\u001b[38;5;124;43mKallio, Helsinki, Finland\u001b[39;49m\u001b[38;5;124;43m\"\u001b[39;49m\u001b[43m)\u001b[49m\n",
      "\u001b[0;31mTypeError\u001b[0m: geometries_from_place() missing 1 required positional argument: 'query'"
     ]
    }
   ],
   "source": [
    "# kallio = ox.geometries_from_place(tags=\"Kallio, Helsinki, Finland\")"
   ]
  },
  {
   "cell_type": "code",
   "execution_count": null,
   "id": "cbe8a7f2-d98d-4150-af7e-a75241caec0d",
   "metadata": {},
   "outputs": [],
   "source": [
    "arr = dem.read(1)"
   ]
  },
  {
   "cell_type": "code",
   "execution_count": null,
   "id": "1f694421-6741-4d5f-96b0-b2ca477b7498",
   "metadata": {},
   "outputs": [],
   "source": [
    "affine = dem.affine"
   ]
  },
  {
   "cell_type": "code",
   "execution_count": null,
   "id": "40c0afbc-9a07-4be1-8508-8c7ca29e21cc",
   "metadata": {},
   "outputs": [],
   "source": [
    "zs = zonal_stats(kallio, array, affine=affine, stats=['min', 'max', 'mean', 'sum'])"
   ]
  }
 ],
 "metadata": {
  "kernelspec": {
   "display_name": "Python 3 (ipykernel)",
   "language": "python",
   "name": "python3"
  },
  "language_info": {
   "codemirror_mode": {
    "name": "ipython",
    "version": 3
   },
   "file_extension": ".py",
   "mimetype": "text/x-python",
   "name": "python",
   "nbconvert_exporter": "python",
   "pygments_lexer": "ipython3",
   "version": "3.8.16"
  }
 },
 "nbformat": 4,
 "nbformat_minor": 5
}
